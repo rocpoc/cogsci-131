{
 "cells": [
  {
   "cell_type": "markdown",
   "metadata": {
    "deletable": false,
    "nbgrader": {
     "cell_type": "release"
    }
   },
   "source": [
    "Make sure you fill in any place that says `YOUR CODE HERE` or \"YOUR ANSWER HERE\", as well as your collaborators below:"
   ]
  },
  {
   "cell_type": "code",
   "execution_count": 1,
   "metadata": {
    "deletable": false,
    "nbgrader": {
     "cell_type": "release"
    }
   },
   "outputs": [],
   "source": [
    "COLLABORATORS = \"\""
   ]
  },
  {
   "cell_type": "markdown",
   "metadata": {
    "deletable": false,
    "nbgrader": {}
   },
   "source": [
    "---"
   ]
  },
  {
   "cell_type": "code",
   "execution_count": 2,
   "metadata": {
    "deletable": false
   },
   "outputs": [],
   "source": [
    "Collaborators = \"\""
   ]
  },
  {
   "cell_type": "code",
   "execution_count": 3,
   "metadata": {
    "deletable": false
   },
   "outputs": [],
   "source": [
    "import numpy as np"
   ]
  },
  {
   "cell_type": "markdown",
   "metadata": {
    "deletable": false
   },
   "source": [
    "In this problem, you will write code that implements the prototype theory of categorization using Shepard's universal law to calculate the similarity between pairs of stimuli. "
   ]
  },
  {
   "cell_type": "markdown",
   "metadata": {
    "deletable": false
   },
   "source": [
    "## Part A (0.5 points)"
   ]
  },
  {
   "cell_type": "markdown",
   "metadata": {
    "deletable": false
   },
   "source": [
    "Recall that the features of the prototype should be determined by a \"majority rule\" vote between the members of the category: if exactly **half or more** of the members in a category have a particular feature, the category prototype should have that feature. Otherwise, it shouldn't. For example, let's again say we have features for some fruits, as in Problem 4:\n",
    "\n",
    "|            | Sweet | Sour  | Bitter | Salty | Seeds |\n",
    "|:-----------|:-----:|:-----:|:------:|:-----:|:-----:|\n",
    "| Apple      | 1     | 0     | 0      | 0     | 1     |\n",
    "| Orange     | 1     | 1     | 0      | 0     | 1     |\n",
    "| Lemon      | 0     | 1     | 1      | 0     | 1     |\n",
    "| Grapefruit | 1     | 1     | 1      | 0     | 1     |\n",
    "| Banana     | 1     | 0     | 0      | 0     | 0     |\n",
    "| Tomato     | 1     | 0     | 0      | 0     | 1     |\n",
    "\n",
    "As a NumPy array, the features would look like this:"
   ]
  },
  {
   "cell_type": "code",
   "execution_count": 4,
   "metadata": {
    "deletable": false
   },
   "outputs": [],
   "source": [
    "fruit_features = np.array([\n",
    "    [True,  False, False, False, True ],\n",
    "    [True,  True,  False, False, True ],\n",
    "    [False, True,  True,  False, True ],\n",
    "    [True,  True,  True,  False, True ],\n",
    "    [True,  False, False, False, False],\n",
    "    [True,  False, False, False, True ]])"
   ]
  },
  {
   "cell_type": "markdown",
   "metadata": {
    "deletable": false
   },
   "source": [
    "The prototype for these features would then be:\n",
    "\n",
    "| Sweet | Sour | Bitter | Salty | Seeds | \n",
    "|:-----:|:----:|:------:|:-----:|:-----:|\n",
    "| 1     | 1    | 0      | 0     | 1     |\n",
    "\n",
    "because 5/6 fruits have the \"sweet\" feature, 3/6 fruits have the \"sour\" feature, 2/6 fruits have the \"bitter\" feature, 0/6 fruits have the \"salty\" feature, and 5/6 fruits have the \"seeds\" feature. As a NumPy array, this would look like:"
   ]
  },
  {
   "cell_type": "code",
   "execution_count": 5,
   "metadata": {
    "deletable": false
   },
   "outputs": [],
   "source": [
    "fruit_prototype = np.array([True, True, False, False, True])"
   ]
  },
  {
   "cell_type": "markdown",
   "metadata": {
    "deletable": false
   },
   "source": [
    "<div class=\"alert alert-success\">Complete the function `prototype` so that it takes an $n\\times m$ array of category members by features, and returns the features corresponding to the prototype of that category.</div>"
   ]
  },
  {
   "cell_type": "code",
   "execution_count": 6,
   "metadata": {
    "deletable": false,
    "nbgrader": {
     "checksum": "036cef13bc397efb1826ddc3901659ba",
     "grade": false,
     "grade_id": "prototype",
     "locked": false,
     "schema_version": 1,
     "solution": true
    }
   },
   "outputs": [],
   "source": [
    "def prototype(features):\n",
    "    \"\"\"\n",
    "    Compute the prototype features, based on the given features of\n",
    "    category members. The prototype should have a feature if half or\n",
    "    more of the category members have that feature.\n",
    "\n",
    "    Hint: this function is similar to the `threshold` function from\n",
    "    Problem Set 0.\n",
    "    \n",
    "    Your solution can be done in 1 line of code (including the return \n",
    "    statement).\n",
    "    \n",
    "    Parameters\n",
    "    ----------\n",
    "    features : boolean numpy array with shape (n, m)\n",
    "        The first dimension corresponds to n category members, and the\n",
    "        second dimension to m features.\n",
    "    \n",
    "    Returns\n",
    "    -------\n",
    "    boolean numpy array with shape (m,) corresponding to the features\n",
    "    of the prototype of the category members\n",
    "    \n",
    "    \"\"\"\n",
    "    proto = []\n",
    "    lst = []\n",
    "    proto.append(np.mean(features, axis = 0))\n",
    "    for p in proto[0]:\n",
    "        if p >= 0.5:\n",
    "            lst.append(True)\n",
    "        else:\n",
    "            lst.append(False)\n",
    "    return np.array(lst)"
   ]
  },
  {
   "cell_type": "markdown",
   "metadata": {
    "deletable": false
   },
   "source": [
    "Test your function on the fruit features, to see if it gives the right prototype:"
   ]
  },
  {
   "cell_type": "code",
   "execution_count": 7,
   "metadata": {
    "deletable": false
   },
   "outputs": [
    {
     "name": "stdout",
     "output_type": "stream",
     "text": [
      "Actual prototype:   [ True  True False False  True]\n",
      "Computed prototype: [ True  True False False  True]\n"
     ]
    }
   ],
   "source": [
    "print(\"Actual prototype:   \" + str(fruit_prototype))\n",
    "print(\"Computed prototype: \" + str(prototype(fruit_features)))"
   ]
  },
  {
   "cell_type": "code",
   "execution_count": 8,
   "metadata": {
    "deletable": false
   },
   "outputs": [],
   "source": [
    "# add your own test cases here!\n"
   ]
  },
  {
   "cell_type": "code",
   "execution_count": 9,
   "metadata": {
    "deletable": false,
    "nbgrader": {
     "checksum": "fa1aeb1f5b6848e3a67676c7243c99d9",
     "grade": true,
     "grade_id": "test_prototype",
     "locked": false,
     "points": 0.5,
     "schema_version": 1,
     "solution": false
    }
   },
   "outputs": [
    {
     "name": "stdout",
     "output_type": "stream",
     "text": [
      "Success!\n"
     ]
    }
   ],
   "source": [
    "\"\"\"Test the prototype function.\"\"\"\n",
    "from nose.tools import assert_equal\n",
    "from numpy.testing import assert_array_equal\n",
    "\n",
    "# make sure they get features that are half or more\n",
    "assert_array_equal(prototype(np.array([[0, 1], [0, 0]], dtype=bool)), np.array([0, 1]))\n",
    "\n",
    "for i in range(10):\n",
    "    # create a random array of features\n",
    "    n, m = np.random.randint(10, 100, 2)\n",
    "    features = np.random.randint(0, 2, (n, m)).astype(bool)\n",
    "    \n",
    "    # compute the prototype\n",
    "    proto = prototype(features)\n",
    "    \n",
    "    # check the shape and type\n",
    "    assert_equal(proto.shape, (m,), \"incorrect shape for the prototype array\")\n",
    "    assert_equal(proto.dtype, np.bool, \"prototype is not a boolean array\")\n",
    "    \n",
    "    # check that the prototype is correct\n",
    "    for j in range(m):\n",
    "        count = features[:, j].sum()\n",
    "        if count >= (n / 2) and not proto[j]:\n",
    "            raise AssertionError(\"prototype should have feature {}, but it doesn't\".format(j))\n",
    "        elif count < (n / 2) and proto[j]:\n",
    "            raise AssertionError(\"prototype should NOT have feature {}, but it does\".format(j))\n",
    "\n",
    "print(\"Success!\")"
   ]
  },
  {
   "cell_type": "markdown",
   "metadata": {
    "deletable": false
   },
   "source": [
    "----"
   ]
  },
  {
   "cell_type": "markdown",
   "metadata": {
    "deletable": false
   },
   "source": [
    "## Part B (0.5 points)"
   ]
  },
  {
   "cell_type": "markdown",
   "metadata": {
    "deletable": false
   },
   "source": [
    "According to **Shepard's Universal Law of Generalization**, the similarity between two feature vectors is defined as follows:\n",
    "\n",
    "> For binary feature vectors ${\\bf a}$ and ${\\bf b}$ define a function $d:\\{0,1\\}^n \\rightarrow \\mathbb{Z}$ such that $d({\\bf a},{\\bf b})$ is the number of features (positions) by which ${\\bf a}$ and ${\\bf b}$ differ. The similarity between ${\\bf a}$ and ${\\bf b}$ may be calculated as $s({\\bf a},{\\bf b}) = e^{-d({\\bf a},{\\bf b})}$.\n",
    "\n",
    "Because we are using binary feature representations, note that $d({\\bf a},{\\bf b})$ corresponds to the Hamming distance between ${\\bf a}$ and ${\\bf b}$\n",
    "\n",
    "Returning to our fruits example from earlier, let's take the example of computing the similarity between grapefruits and bananas:\n",
    "\n",
    "|            | Sweet | Sour  | Bitter | Salty | Seeds |\n",
    "|:-----------|:-----:|:-----:|:------:|:-----:|:-----:|\n",
    "| Grapefruit | 1     | 1     | 1      | 0     | 1     |\n",
    "| Banana     | 1     | 0     | 0      | 0     | 0     |\n",
    "\n",
    "So according to Shepard's Universal Law of Generalization, we want to look at the number of places where the two feature vectors are different. In this case, there are three positions in which grapefruit and banana differ: on the \"sour\", \"bitter\", and \"seeds\" features. So, $d(\\textbf{grapefruit},\\textbf{banana})=3$. Thus, the similarity would be:\n",
    "\n",
    "$$\n",
    "\\begin{align*}\n",
    "s(\\mathbf{grapefruit},\\mathbf{banana})&=e^{-d(\\mathbf{grapefruit},\\mathbf{banana})}\\\\\n",
    "&=e^{-3}\\\\\n",
    "&=0.049787068367863944\n",
    "\\end{align*}\n",
    "$$"
   ]
  },
  {
   "cell_type": "markdown",
   "metadata": {
    "deletable": false
   },
   "source": [
    "<div class=\"alert alert-success\">Complete the function `shepard_sim`, which takes as input two binary feature vectors of length $m$, `a` and `b`, and returns a value between 0 and 1 representing the similarity between the two inputs.</div>"
   ]
  },
  {
   "cell_type": "markdown",
   "metadata": {
    "deletable": false
   },
   "source": [
    "**Hint:** Try looking up the logical operator `np.logical_xor` and thinking about how you could use it to complete `shepard_sim`. You can also use the `^` operator, which works similarly to `&` and `|` (recall that you used these in the truth tables problem of Problem Set 0)."
   ]
  },
  {
   "cell_type": "code",
   "execution_count": 10,
   "metadata": {
    "deletable": false
   },
   "outputs": [],
   "source": [
    "np.logical_xor?"
   ]
  },
  {
   "cell_type": "code",
   "execution_count": 11,
   "metadata": {
    "deletable": false,
    "nbgrader": {
     "checksum": "56290350389e4261062c66fc245e6efc",
     "grade": false,
     "grade_id": "shepard_sim",
     "locked": false,
     "schema_version": 1,
     "solution": true
    }
   },
   "outputs": [],
   "source": [
    "def shepard_sim(a, b):\n",
    "    \"\"\"\n",
    "    Computes the similarity between binary feature vectors a and b, using\n",
    "    Shepard's law of generalization:\n",
    "    \n",
    "    S(a, b) = e^(-d(a, b))\n",
    "    \n",
    "    where d(a, b) corresponds to the number of locations where a and b differ\n",
    "    (i.e., a=1 and b=0, or a=0 and b=1).\n",
    "    \n",
    "    Hint: your answer can be done in 1 line of code, including the return\n",
    "    statement.\n",
    "    \n",
    "    Parameters\n",
    "    ----------\n",
    "    a, b : boolean numpy array with shape (m,)\n",
    "    \n",
    "    Returns\n",
    "    -------\n",
    "    similarity between a and b\n",
    "    \n",
    "    \"\"\"\n",
    "    return np.math.exp(-sum(np.logical_xor(a,b)))"
   ]
  },
  {
   "cell_type": "markdown",
   "metadata": {
    "deletable": false
   },
   "source": [
    "Test your function on the grapefruit and banana feature vectors:"
   ]
  },
  {
   "cell_type": "code",
   "execution_count": 12,
   "metadata": {
    "deletable": false
   },
   "outputs": [
    {
     "data": {
      "text/plain": [
       "0.049787068367863944"
      ]
     },
     "execution_count": 12,
     "metadata": {},
     "output_type": "execute_result"
    }
   ],
   "source": [
    "grapefruit_features = np.array([True,  True,  True, False, True ])\n",
    "banana_features  = np.array([True, False,  False,  False, False ])\n",
    "\n",
    "shepard_sim(grapefruit_features, banana_features)"
   ]
  },
  {
   "cell_type": "code",
   "execution_count": 13,
   "metadata": {
    "deletable": false
   },
   "outputs": [],
   "source": [
    "# add your own test cases here!\n"
   ]
  },
  {
   "cell_type": "code",
   "execution_count": 14,
   "metadata": {
    "deletable": false,
    "nbgrader": {
     "checksum": "ead80da496a536193cf5a116e342d891",
     "grade": true,
     "grade_id": "test_shepard_sim",
     "locked": false,
     "points": 0.25,
     "schema_version": 1,
     "solution": false
    }
   },
   "outputs": [
    {
     "name": "stdout",
     "output_type": "stream",
     "text": [
      "Success!\n"
     ]
    }
   ],
   "source": [
    "\"\"\"Test the shepard_sim function.\"\"\"\n",
    "from numpy.testing import assert_almost_equal\n",
    "\n",
    "a = np.array([ True, False,  True,  True,  True,  True], dtype=bool)\n",
    "b = np.array([ True,  True,  True, False, False, False], dtype=bool)\n",
    "assert_almost_equal(shepard_sim(a, b), 0.01831563888873418)\n",
    "\n",
    "a = np.array([False,  True,  True,  True,  True, False,  True,  True,  True,\n",
    "       False, False, False, False, False, False,  True], dtype=bool)\n",
    "b = np.array([False,  True, False,  True, False, False, False, False,  True,\n",
    "       False,  True,  True, False, False, False,  True], dtype=bool)\n",
    "assert_almost_equal(shepard_sim(a, b), 0.0024787521766663585)\n",
    "\n",
    "a = np.array([ True,  True, False,  True], dtype=bool)\n",
    "b = np.array([ True,  True,  True, False], dtype=bool)\n",
    "assert_almost_equal(shepard_sim(a, b), 0.1353352832366127)\n",
    "\n",
    "a = np.array([ True], dtype=bool)\n",
    "b = np.array([ True], dtype=bool)\n",
    "assert_almost_equal(shepard_sim(a, b), 1.0)\n",
    "\n",
    "a = np.array([False,  True,  True, False,  True,  True,  True], dtype=bool)\n",
    "b = np.array([False,  True, False, False, False,  True,  True], dtype=bool)\n",
    "assert_almost_equal(shepard_sim(a, b), 0.1353352832366127)\n",
    "\n",
    "a = np.array([False, False], dtype=bool)\n",
    "b = np.array([False, False], dtype=bool)\n",
    "assert_almost_equal(shepard_sim(a, b), 1.0)\n",
    "\n",
    "a = np.array([ True,  True,  True, False,  True, False,  True,  True,  True,\n",
    "       False, False,  True,  True, False,  True], dtype=bool)\n",
    "b = np.array([ True, False,  True,  True, False,  True, False, False,  True,\n",
    "       False,  True, False,  True,  True, False], dtype=bool)\n",
    "assert_almost_equal(shepard_sim(a, b), 4.5399929762484854e-05)\n",
    "\n",
    "a = np.array([False,  True, False], dtype=bool)\n",
    "b = np.array([ True,  True, False], dtype=bool)\n",
    "assert_almost_equal(shepard_sim(a, b), 0.36787944117144233)\n",
    "\n",
    "a = np.array([False,  True,  True,  True,  True,  True,  True], dtype=bool)\n",
    "b = np.array([False, False,  True,  True,  True, False,  True], dtype=bool)\n",
    "assert_almost_equal(shepard_sim(a, b), 0.1353352832366127)\n",
    "\n",
    "a = np.array([ True, False, False,  True,  True,  True], dtype=bool)\n",
    "b = np.array([False,  True, False, False, False, False], dtype=bool)\n",
    "assert_almost_equal(shepard_sim(a, b), 0.006737946999085467)\n",
    "\n",
    "print(\"Success!\")"
   ]
  },
  {
   "cell_type": "markdown",
   "metadata": {
    "deletable": false
   },
   "source": [
    "---"
   ]
  },
  {
   "cell_type": "markdown",
   "metadata": {
    "deletable": false
   },
   "source": [
    "## Part C (1 point)"
   ]
  },
  {
   "cell_type": "markdown",
   "metadata": {
    "deletable": false
   },
   "source": [
    "Now that we have both a way of computing prototypes, and another way of quantifying similarity, let's revisit our animal dataset from Problem 4.\n",
    "\n",
    "First, let's load our data in. For convenience, we are going to convert the animal and feature names to lists:"
   ]
  },
  {
   "cell_type": "code",
   "execution_count": 15,
   "metadata": {
    "deletable": false,
    "nbgrader": {
     "checksum": "87b14cbd2d2f7831f463184a00118bc2",
     "grade": false,
     "grade_id": "load_data",
     "locked": true,
     "schema_version": 1,
     "solution": false
    }
   },
   "outputs": [],
   "source": [
    "data = np.load(\"data/50animals.npz\")\n",
    "\n",
    "# create variables out of the arrays\n",
    "animal_features = data['animal_features']\n",
    "feature_names = list(data['feature_names'])\n",
    "animal_names = list(data['animal_names'])"
   ]
  },
  {
   "cell_type": "markdown",
   "metadata": {
    "deletable": false
   },
   "source": [
    "Recall that `animal_features` corresponds to a $50\\times 85$ boolean array of features:"
   ]
  },
  {
   "cell_type": "code",
   "execution_count": 16,
   "metadata": {
    "deletable": false
   },
   "outputs": [
    {
     "data": {
      "text/plain": [
       "array([[ True,  True, False, ..., False,  True, False],\n",
       "       [ True,  True, False, ..., False,  True,  True],\n",
       "       [ True, False,  True, ..., False,  True, False],\n",
       "       ..., \n",
       "       [ True,  True, False, ...,  True,  True, False],\n",
       "       [ True,  True, False, ...,  True,  True, False],\n",
       "       [ True,  True, False, ...,  True,  True, False]], dtype=bool)"
      ]
     },
     "execution_count": 16,
     "metadata": {},
     "output_type": "execute_result"
    }
   ],
   "source": [
    "animal_features"
   ]
  },
  {
   "cell_type": "markdown",
   "metadata": {
    "deletable": false
   },
   "source": [
    "And that `feature_names` corresponds to a list of length 85 of the feature names (only the first 10 are shown here, because the list is fairly long -- though feel free to take a look at the whole list if you want to!):"
   ]
  },
  {
   "cell_type": "code",
   "execution_count": 17,
   "metadata": {
    "deletable": false
   },
   "outputs": [
    {
     "data": {
      "text/plain": [
       "['active',\n",
       " 'agile',\n",
       " 'aquatic',\n",
       " 'arctic habitat',\n",
       " 'big',\n",
       " 'bipedal',\n",
       " 'black',\n",
       " 'blue',\n",
       " 'brown',\n",
       " 'builds nests']"
      ]
     },
     "execution_count": 17,
     "metadata": {},
     "output_type": "execute_result"
    }
   ],
   "source": [
    "feature_names[:10]"
   ]
  },
  {
   "cell_type": "markdown",
   "metadata": {
    "deletable": false
   },
   "source": [
    "And that `animal_names` corresponds to a list of length 50 of the animal names (again, only showing the first 10 here, because the list is long):"
   ]
  },
  {
   "cell_type": "code",
   "execution_count": 18,
   "metadata": {
    "deletable": false
   },
   "outputs": [
    {
     "data": {
      "text/plain": [
       "['antelope',\n",
       " 'bat',\n",
       " 'beaver',\n",
       " 'blue whale',\n",
       " 'bobcat',\n",
       " 'buffalo',\n",
       " 'chihuahua',\n",
       " 'chimpanzee',\n",
       " 'collie',\n",
       " 'cow']"
      ]
     },
     "execution_count": 18,
     "metadata": {},
     "output_type": "execute_result"
    }
   ],
   "source": [
    "animal_names[:10]"
   ]
  },
  {
   "cell_type": "markdown",
   "metadata": {
    "deletable": false
   },
   "source": [
    "<div class=\"alert alert-success\">Complete the function `find_feature_prototype` to take the name of a feature and find the **prototype** of the animals that have that feature, using your function `prototype`.</div>"
   ]
  },
  {
   "cell_type": "code",
   "execution_count": 19,
   "metadata": {
    "deletable": false,
    "nbgrader": {
     "checksum": "e799967f465631e7eca420f68202331f",
     "grade": false,
     "grade_id": "find_feature_prototype",
     "locked": false,
     "schema_version": 1,
     "solution": true
    }
   },
   "outputs": [],
   "source": [
    "def find_feature_prototype(name, features, feature_names):\n",
    "    \"\"\"\n",
    "    Computes the prototype of all animals with a given feature.\n",
    "    \n",
    "    Hint: your solution can be done in 4 lines of code, including the\n",
    "    return statement.\n",
    "    \n",
    "    You should be using boolean indexing in your answer -- refer back to\n",
    "    Problem Set 0 if you forget how to do this!\n",
    "    \n",
    "    Parameters\n",
    "    ----------\n",
    "    name : string\n",
    "        the name of a feature\n",
    "    features : boolean numpy array\n",
    "        animals by features, with shape (n, m)\n",
    "    feature_names : list of strings\n",
    "        list of feature names with length m\n",
    "    \n",
    "    Returns\n",
    "    -------\n",
    "    boolean numpy array of the prototype's features, with shape (m,)\n",
    "    \n",
    "    \"\"\"\n",
    "    feat_index = feature_names.index(name)\n",
    "    animals = features[:,feat_index] == True\n",
    "    return prototype(features[animals,:])"
   ]
  },
  {
   "cell_type": "markdown",
   "metadata": {
    "deletable": false
   },
   "source": [
    "Try running your function on a few different features, and see what the features are for the prototype:"
   ]
  },
  {
   "cell_type": "code",
   "execution_count": 20,
   "metadata": {
    "deletable": false
   },
   "outputs": [
    {
     "name": "stdout",
     "output_type": "stream",
     "text": [
      "The 'claws' prototype has the following features:\n",
      "['active' 'agile' 'black' 'brown' 'claws' 'eats red meat' 'eats vegetation'\n",
      " 'fast' 'flightless' 'forager' 'forest dweller' 'furry' 'gray' 'has paws'\n",
      " 'has tail' 'hunter' 'intelligent' 'lean' 'nocturnal' 'quadrapedal'\n",
      " 'scavenger' 'small' 'solitary' 'timid' 'white' 'wild']\n"
     ]
    }
   ],
   "source": [
    "claws = find_feature_prototype('claws', animal_features, feature_names)\n",
    "print(\"The 'claws' prototype has the following features:\")\n",
    "print(np.array(feature_names) [claws])"
   ]
  },
  {
   "cell_type": "code",
   "execution_count": null,
   "metadata": {
    "deletable": false
   },
   "outputs": [],
   "source": []
  },
  {
   "cell_type": "code",
   "execution_count": 21,
   "metadata": {
    "deletable": false
   },
   "outputs": [
    {
     "name": "stdout",
     "output_type": "stream",
     "text": [
      "The 'domesticated' prototype has the following features:\n",
      "['active' 'agile' 'black' 'brown' 'claws' 'domesticated' 'eats red meat'\n",
      " 'eats vegetation' 'fast' 'field dweller' 'flightless' 'furry' 'gray'\n",
      " 'grazer' 'has long legs' 'has paws' 'has tail' 'intelligent' 'lean'\n",
      " 'patches' 'quadrapedal' 'small' 'social' 'spots' 'swims' 'timid' 'white']\n"
     ]
    }
   ],
   "source": [
    "domesticated_prototype = find_feature_prototype('domesticated', animal_features, feature_names)\n",
    "print(\"The 'domesticated' prototype has the following features:\")\n",
    "print(np.array(feature_names)[domesticated_prototype])"
   ]
  },
  {
   "cell_type": "code",
   "execution_count": 22,
   "metadata": {
    "deletable": false
   },
   "outputs": [],
   "source": [
    "# add your own test cases here!"
   ]
  },
  {
   "cell_type": "code",
   "execution_count": 23,
   "metadata": {
    "deletable": false,
    "nbgrader": {
     "checksum": "8001281ea026cab872bc2362f1f405da",
     "grade": true,
     "grade_id": "test_find_feature_prototype",
     "locked": false,
     "points": 1,
     "schema_version": 1,
     "solution": false
    }
   },
   "outputs": [
    {
     "name": "stdout",
     "output_type": "stream",
     "text": [
      "Success!\n"
     ]
    }
   ],
   "source": [
    "\"\"\"Test the find_feature_prototype function.\"\"\"\n",
    "from numpy.testing import assert_array_equal\n",
    "\n",
    "# load the animal data\n",
    "data = np.load(\"data/50animals.npz\")\n",
    "af = data['animal_features']\n",
    "fn = list(data['feature_names'])\n",
    "data.close()\n",
    "\n",
    "# check the coastal prototype\n",
    "coastal_prototype = find_feature_prototype('coastal habitat', af, fn)\n",
    "assert_array_equal(coastal_prototype, np.array([ True,  True,  True, False,  True, False,  True, False,  True,\n",
    "       False, False, False, False, False, False, False,  True, False,\n",
    "       False, False,  True,  True, False, False, False,  True,  True,\n",
    "       False, False, False,  True,  True, False,  True,  True, False,\n",
    "        True,  True,  True, False, False, False, False, False, False,\n",
    "        True,  True,  True, False, False,  True, False,  True, False,\n",
    "        True, False, False, False, False, False, False, False,  True,\n",
    "       False, False, False,  True,  True, False, False, False, False,\n",
    "        True,  True, False, False, False, False,  True, False], dtype=bool))\n",
    "\n",
    "for i in range(20):\n",
    "    # create a random feature array, with some generic feature names\n",
    "    n, m = np.random.randint(10, 100, 2)\n",
    "    features = np.random.randint(0, 2, (n, m)).astype(bool)\n",
    "    names = [\"feature_{}\".format(j) for j in range(m)]\n",
    "    \n",
    "    # check that the prototype is correct\n",
    "    j = np.random.randint(0, m)\n",
    "    true_proto = prototype(np.array([f for f in features if f[j]]))\n",
    "    proto = find_feature_prototype('feature_{}'.format(j), features, names)\n",
    "    assert_array_equal(proto, true_proto)\n",
    "\n",
    "# check that the function uses prototype\n",
    "old_prototype = prototype\n",
    "del prototype\n",
    "try:\n",
    "    find_feature_prototype('tusks', af, fn)\n",
    "except NameError:\n",
    "    pass\n",
    "else:\n",
    "    raise AssertionError(\"find_feature_prototype does not call the prototype function\")\n",
    "finally:\n",
    "    prototype = old_prototype\n",
    "    del old_prototype\n",
    "\n",
    "print(\"Success!\")"
   ]
  },
  {
   "cell_type": "markdown",
   "metadata": {
    "deletable": false
   },
   "source": [
    "---"
   ]
  },
  {
   "cell_type": "markdown",
   "metadata": {
    "deletable": false
   },
   "source": [
    "## Part D (1 point)"
   ]
  },
  {
   "cell_type": "markdown",
   "metadata": {
    "deletable": false
   },
   "source": [
    "<div class=\"alert alert-success\">Now, using both your `find_feature_prototype` function and your `shepard_sim` function, complete the function `find_similar_animals` to find the **five most similar animals** to the prototype.</div>"
   ]
  },
  {
   "cell_type": "markdown",
   "metadata": {
    "deletable": false
   },
   "source": [
    "Note: Just like in Problem 4, the `np.argsort()` function can come in handy here (take a look at Problem Set 0 if you forget how it's used). To keep ties in the original order, make sure to use mergesort (which is [stable](http://programmers.stackexchange.com/a/247441)) as so:\n",
    "\n",
    "```\n",
    "indices = np.argsort(array, kind='mergesort')\n",
    "```"
   ]
  },
  {
   "cell_type": "code",
   "execution_count": 24,
   "metadata": {
    "deletable": false,
    "nbgrader": {
     "checksum": "f740608ab039da70bb92304f46b99d34",
     "grade": false,
     "grade_id": "find_similar_animals",
     "locked": false,
     "schema_version": 1,
     "solution": true
    }
   },
   "outputs": [],
   "source": [
    "def find_similar_animals(name, features, feature_names, animal_names):\n",
    "    \"\"\"\n",
    "    Finds the five most similar animals to the prototype for the given feature.\n",
    "    You should return the animals in order from most similar to least similar\n",
    "    to the prototype. \n",
    "    \n",
    "    If two animals have the same similarity score, find_similar_animals \n",
    "    should break ties in the REVERSE of the order they appear in animal_names \n",
    "    (e.g., if the first two entries in animal_names are A and B, and both animals \n",
    "    A and B have the same similarity to target animal C, find_similar_animals should \n",
    "    place B BEFORE A when ranking them in terms of their similarity to C.)\n",
    "    \n",
    "    Hint: your solution can be done in 4 lines of code, including the return\n",
    "    statement.\n",
    "    \n",
    "    Parameters\n",
    "    ----------\n",
    "    feature : string\n",
    "        the name of a feature\n",
    "    features : boolean numpy array\n",
    "        animals by features, with shape (n, m)\n",
    "    feature_names : list of strings\n",
    "        list of feature names with length m\n",
    "    animal_names : list of strings\n",
    "        list of animal names with length n\n",
    "    \n",
    "    Returns\n",
    "    -------\n",
    "    a list of five animal names\n",
    "    \n",
    "    \"\"\"\n",
    "    prototype = find_feature_prototype(name, features, feature_names)\n",
    "    animals = []\n",
    "    for feat in features:\n",
    "        animals.append(shepard_sim(prototype, feat))\n",
    "\n",
    "    animals = np.argsort(animals, kind='mergesort')\n",
    "    animals = animals[-5:]\n",
    "    animals = animals[::-1]\n",
    "    final = []\n",
    "    \n",
    "    for elem in animals[0:]:\n",
    "        final.append(animal_names[elem])\n",
    "    return final"
   ]
  },
  {
   "cell_type": "markdown",
   "metadata": {
    "deletable": false
   },
   "source": [
    "Look and see what the five most similar animals are for the \"coastal\" and \"tusks\" prototypes you calculated above:"
   ]
  },
  {
   "cell_type": "code",
   "execution_count": 25,
   "metadata": {
    "deletable": false
   },
   "outputs": [
    {
     "name": "stdout",
     "output_type": "stream",
     "text": [
      "The most similar animals to the claws prototype are:\n",
      "['siamese cat', 'weasel', 'persian cat', 'wolf', 'raccoon']\n"
     ]
    }
   ],
   "source": [
    "print(\"The most similar animals to the claws prototype are:\")\n",
    "print(find_similar_animals('claws', animal_features, feature_names, animal_names))"
   ]
  },
  {
   "cell_type": "code",
   "execution_count": 26,
   "metadata": {
    "deletable": false
   },
   "outputs": [
    {
     "name": "stdout",
     "output_type": "stream",
     "text": [
      "The most similar animals to the domesticated prototype are:\n",
      "['chihuahua', 'dalmatian', 'collie', 'persian cat', 'horse']\n"
     ]
    }
   ],
   "source": [
    "print(\"The most similar animals to the domesticated prototype are:\")\n",
    "print(find_similar_animals('domesticated', animal_features, feature_names, animal_names))"
   ]
  },
  {
   "cell_type": "code",
   "execution_count": 27,
   "metadata": {
    "deletable": false
   },
   "outputs": [],
   "source": [
    "# add your own test cases here!"
   ]
  },
  {
   "cell_type": "code",
   "execution_count": 28,
   "metadata": {
    "deletable": false,
    "nbgrader": {
     "checksum": "285804c39fbb6d32854f8939cf468dd3",
     "grade": true,
     "grade_id": "test_find_similar_animals",
     "locked": false,
     "points": 1,
     "schema_version": 1,
     "solution": false
    }
   },
   "outputs": [
    {
     "name": "stdout",
     "output_type": "stream",
     "text": [
      "Success!\n"
     ]
    }
   ],
   "source": [
    "\"\"\"Test the find_similar_animals function.\"\"\"\n",
    "from numpy.testing import assert_array_equal\n",
    "\n",
    "# load the animal data\n",
    "data = np.load(\"data/50animals.npz\")\n",
    "af = data['animal_features']\n",
    "fn = list(data['feature_names'])\n",
    "an = list(data['animal_names'])\n",
    "data.close()\n",
    "\n",
    "# check the coastal animals\n",
    "assert_equal(\n",
    "    find_similar_animals('coastal habitat', af, fn, an), \n",
    "    ['dolphin', 'beaver', 'seal', 'otter', 'killer whale'])\n",
    "\n",
    "# check the tunnels animals\n",
    "assert_equal(\n",
    "    find_similar_animals('digs tunnels', af, fn, an),\n",
    "    ['weasel', 'mouse', 'rat', 'rabbit', 'fox'])\n",
    "\n",
    "# check the tusks animals \n",
    "assert_equal(\n",
    "    find_similar_animals('tusks', af, fn, an),\n",
    "    ['elephant', 'walrus', 'hippopotamus', 'ox', 'rhinoceros'])\n",
    "\n",
    "# check the aquatic animals with a different feature array\n",
    "assert_equal(\n",
    "    find_similar_animals('aquatic', af[:25, :40], fn[:40], an[:25]),\n",
    "    ['humpback whale', 'dolphin', 'killer whale', 'blue whale', 'elephant'])\n",
    "\n",
    "# check that the function uses find_feature_prototype\n",
    "old_find_feature_prototype = find_feature_prototype\n",
    "del find_feature_prototype\n",
    "try:\n",
    "    find_similar_animals('coastal habitat', af, fn, an)\n",
    "except NameError:\n",
    "    pass\n",
    "else:\n",
    "    raise AssertionError(\"find_similar_animals does not call the prototype function\")\n",
    "finally:\n",
    "    find_feature_prototype = old_find_feature_prototype\n",
    "    del old_find_feature_prototype\n",
    "\n",
    "# check that the function uses shepard_sim\n",
    "old_shepard_sim = shepard_sim\n",
    "del shepard_sim\n",
    "try:\n",
    "    find_similar_animals('coastal habitat', af, fn, an)\n",
    "except NameError:\n",
    "    pass\n",
    "else:\n",
    "    raise AssertionError(\"find_similar_animals does not call the shepard_sim function\")\n",
    "finally:\n",
    "    shepard_sim = old_shepard_sim\n",
    "    del old_shepard_sim\n",
    "\n",
    "print(\"Success!\")"
   ]
  },
  {
   "cell_type": "markdown",
   "metadata": {
    "deletable": false
   },
   "source": [
    "---"
   ]
  },
  {
   "cell_type": "markdown",
   "metadata": {
    "deletable": false
   },
   "source": [
    "## Part E (1.25 points)"
   ]
  },
  {
   "cell_type": "markdown",
   "metadata": {
    "deletable": false
   },
   "source": [
    "Run your `find_feature_prototype` function and see what features the 'field dweller' prototype has:"
   ]
  },
  {
   "cell_type": "code",
   "execution_count": 29,
   "metadata": {
    "deletable": false,
    "nbgrader": {
     "checksum": "be267a6feea6223ec76d117e8278ae95",
     "grade": false,
     "grade_id": "meat_prototype",
     "locked": true,
     "schema_version": 1,
     "solution": false
    }
   },
   "outputs": [
    {
     "name": "stdout",
     "output_type": "stream",
     "text": [
      "The 'field dweller' prototype has features:\n",
      "['active' 'agile' 'black' 'brown' 'eats fruit' 'eats vegetation' 'fast'\n",
      " 'field dweller' 'flightless' 'forager' 'furry' 'gray' 'grazer'\n",
      " 'has hooves' 'has tail' 'herbivore' 'intelligent' 'plains dweller'\n",
      " 'quadrapedal' 'social' 'strong' 'timid' 'white' 'wild']\n"
     ]
    }
   ],
   "source": [
    "field_dweller_prototype = find_feature_prototype('field dweller', animal_features, feature_names)\n",
    "print(\"The 'field dweller' prototype has features:\")\n",
    "print(np.array(feature_names)[field_dweller_prototype])"
   ]
  },
  {
   "cell_type": "markdown",
   "metadata": {
    "deletable": false
   },
   "source": [
    "Now run your function `find_similar_animals` for the input 'field dweller':"
   ]
  },
  {
   "cell_type": "code",
   "execution_count": 30,
   "metadata": {
    "deletable": false,
    "nbgrader": {
     "checksum": "07a7dfdd34edc5df069bda76ff54e055",
     "grade": false,
     "grade_id": "similar_meat_animals",
     "locked": true,
     "schema_version": 1,
     "solution": false
    }
   },
   "outputs": [
    {
     "data": {
      "text/plain": [
       "['zebra', 'horse', 'antelope', 'sheep', 'ox']"
      ]
     },
     "execution_count": 30,
     "metadata": {},
     "output_type": "execute_result"
    }
   ],
   "source": [
    "find_similar_animals('field dweller', animal_features, feature_names, animal_names)"
   ]
  },
  {
   "cell_type": "markdown",
   "metadata": {
    "deletable": false
   },
   "source": [
    "<div class=\"alert alert-success\">What are the five most similar animals it returns to prototype of the 'carnivore' animals? (**0.5 points**) </div> "
   ]
  },
  {
   "cell_type": "markdown",
   "metadata": {
    "deletable": false,
    "nbgrader": {
     "checksum": "7223c605f54ae21838d13e2767953f3c",
     "grade": true,
     "grade_id": "part_e_1",
     "locked": false,
     "points": 0.5,
     "schema_version": 1,
     "solution": true
    }
   },
   "source": [
    "For the 'field dweller' prototype, the five most similar animals are: zebra, horse, antelope, sheep, and ox. "
   ]
  },
  {
   "cell_type": "markdown",
   "metadata": {
    "deletable": false
   },
   "source": [
    "<div class=\"alert alert-success\">\n",
    "Do you agree that these animals are are similar to the prototype? Do they match your intuitions for the *most* similar animals to the prototype (that is, if you were to intuitively pick out the five animals most similar to the carnivore prototype, would you pick those five in that order)? (**0.25 points**) </div>"
   ]
  },
  {
   "cell_type": "markdown",
   "metadata": {
    "deletable": false,
    "nbgrader": {
     "checksum": "de59a6d13f45299c75f0cfe2e6415590",
     "grade": true,
     "grade_id": "part_e_2",
     "locked": false,
     "points": 0.25,
     "schema_version": 1,
     "solution": true
    }
   },
   "source": [
    "Yes, I agree that these animals are indeed similar to the prototype. They do match my intuitions for the most similar animals to the prototype, however I would order them as zebra, antelope, ox, horse, sheep instead. "
   ]
  },
  {
   "cell_type": "markdown",
   "metadata": {
    "deletable": false
   },
   "source": [
    "<div class=\"alert alert-success\"> If you answered \"yes\" above, explain what it is either about Shepard's law, or about prototypes, that makes this a good similarity metric. If \"no\", what about Shepard's law or prototypes causes your intuitions to be violated? (**0.5 points**) </div>"
   ]
  },
  {
   "cell_type": "markdown",
   "metadata": {
    "deletable": false,
    "nbgrader": {
     "checksum": "31c730cef0e6126cc1289737235fab40",
     "grade": true,
     "grade_id": "part_e_3",
     "locked": false,
     "points": 0.5,
     "schema_version": 1,
     "solution": true
    }
   },
   "source": [
    "I believe what makes this model a good similarity metric is the fact that by Shepard's Law of Generalization, we are looking at the number of places where the feature vectors are *different*, not the same. Even though it is using binary features for categorization (like Tversky's model), I think the prototype model based off of the differences rather than the similarities is evidently a stronger way to categorize similarities."
   ]
  },
  {
   "cell_type": "markdown",
   "metadata": {
    "deletable": false,
    "nbgrader": {}
   },
   "source": [
    "---"
   ]
  },
  {
   "cell_type": "markdown",
   "metadata": {
    "deletable": false,
    "nbgrader": {}
   },
   "source": [
    "Before turning this problem in remember to do the following steps:\n",
    "\n",
    "1. **Restart the kernel** (Kernel$\\rightarrow$Restart)\n",
    "2. **Run all cells** (Cell$\\rightarrow$Run All)\n",
    "3. **Save** (File$\\rightarrow$Save and Checkpoint)"
   ]
  },
  {
   "cell_type": "markdown",
   "metadata": {
    "deletable": false,
    "nbgrader": {
     "cell_type": "release"
    }
   },
   "source": [
    "<div class=\"alert alert-danger\">After you have completed these three steps, ensure that the following cell has printed \"No errors\". If it has <b>not</b> printed \"No errors\", then your code has a bug in it and has thrown an error! Make sure you fix this error before turning in your problem set.</div>"
   ]
  },
  {
   "cell_type": "code",
   "execution_count": 31,
   "metadata": {
    "deletable": false,
    "nbgrader": {}
   },
   "outputs": [
    {
     "name": "stdout",
     "output_type": "stream",
     "text": [
      "No errors!\n"
     ]
    }
   ],
   "source": [
    "print(\"No errors!\")"
   ]
  }
 ],
 "metadata": {
  "kernelspec": {
   "display_name": "Python 3",
   "language": "python",
   "name": "python3"
  },
  "language_info": {
   "codemirror_mode": {
    "name": "ipython",
    "version": 3
   },
   "file_extension": ".py",
   "mimetype": "text/x-python",
   "name": "python",
   "nbconvert_exporter": "python",
   "pygments_lexer": "ipython3",
   "version": "3.6.1"
  }
 },
 "nbformat": 4,
 "nbformat_minor": 1
}
