{
 "cells": [
  {
   "cell_type": "markdown",
   "metadata": {
    "deletable": false,
    "nbgrader": {
     "cell_type": "release"
    }
   },
   "source": [
    "Make sure you fill in any place that says `YOUR CODE HERE` or \"YOUR ANSWER HERE\", as well as your collaborators below:"
   ]
  },
  {
   "cell_type": "code",
   "execution_count": 1,
   "metadata": {
    "deletable": false,
    "nbgrader": {
     "cell_type": "release"
    }
   },
   "outputs": [],
   "source": [
    "COLLABORATORS = \"\""
   ]
  },
  {
   "cell_type": "markdown",
   "metadata": {
    "deletable": false,
    "nbgrader": {}
   },
   "source": [
    "---"
   ]
  },
  {
   "cell_type": "code",
   "execution_count": 2,
   "metadata": {
    "deletable": false
   },
   "outputs": [],
   "source": [
    "import numpy as np"
   ]
  },
  {
   "cell_type": "markdown",
   "metadata": {
    "deletable": false
   },
   "source": [
    "For this problem, you will write code to implement the language-learning game explained in lecture and described by Gold in his 1967 paper. The game is intended to be a formal model of the way in which people learn natural languages. In the game, there is a learner who is trying to learn the language and a teacher who is supplying the learner with examples of valid sentences from the language. For our convenience, we will represent each sentence with a single number and each language as a set of valid sentences (numbers). In this version of the game, we will assume that there are only 10 possible languages: $L_1$, $L_2$, ... , $L_{10}$, and that each language $L_i$ contains the sentences 1 through $i$, so $L_1 = \\{1\\}$, $L_2 = \\{1,2\\}$, $L_3 = \\{1,2,3\\}$, ..., and $L_{10} = \\{1,2,3,4,5,6,7,8,9,10\\}$.\n",
    "\n",
    "The game proceeds as follows: the teacher first selects a target language that the learner must learn. The teacher then generates examples of valid sentences from the target language and tells them to the learner one at a time (we will assume that the teacher chooses each example randomly from the set of valid sentences). Each time the learner sees a new sentence, they get one guess for what the target language is, based on all the observed sentences seen so far. In our version of the game, the game will be over when the learner correctly guesses the target language. The learner’s strategy should be to always guess the first language that is compatible with the sentences seen so far. So if the sequence of observed sentences were $\\{3,1,1,2,1,3,2\\}$, the learner should guess $L_3$, and if the observed sentences were $\\{2,9\\}$, the learner should guess $L_9$."
   ]
  },
  {
   "cell_type": "markdown",
   "metadata": {
    "deletable": false
   },
   "source": [
    "---"
   ]
  },
  {
   "cell_type": "markdown",
   "metadata": {
    "deletable": false
   },
   "source": [
    "## Part A (1 point)"
   ]
  },
  {
   "cell_type": "markdown",
   "metadata": {
    "deletable": false
   },
   "source": [
    "<div class=\"alert alert-success\">Complete the function definition for `select_target_language` below to randomly select the target language.</div>"
   ]
  },
  {
   "cell_type": "markdown",
   "metadata": {
    "deletable": false
   },
   "source": [
    "Note: in the last problem set, we used the `np.random.rand` function to generate random numbers between 0 and 1. There is another random function that will come in handy for this problem, called `np.random.choice`, which will randomly choose an element from a list or array:"
   ]
  },
  {
   "cell_type": "code",
   "execution_count": 3,
   "metadata": {
    "deletable": false
   },
   "outputs": [],
   "source": [
    "np.random.choice?"
   ]
  },
  {
   "cell_type": "code",
   "execution_count": 4,
   "metadata": {
    "deletable": false,
    "nbgrader": {
     "checksum": "22b5d5b2d656f425ca2f006cda179043",
     "grade": false,
     "grade_id": "select_target_language",
     "locked": false,
     "schema_version": 1,
     "solution": true
    }
   },
   "outputs": [],
   "source": [
    "def select_target_language(possible_languages):\n",
    "    \"\"\"Randomly choose a target language from a list of possible\n",
    "    languages.\n",
    "    \n",
    "    Hint: your solution can be done in 1 line of code (including\n",
    "    the return statement).\n",
    "\n",
    "    Parameters\n",
    "    ----------\n",
    "    possible_languages : list of sets\n",
    "        The list of possible languages to choose from\n",
    "\n",
    "    Returns\n",
    "    -------\n",
    "    set : the target language\n",
    "\n",
    "    \"\"\"\n",
    "    return np.random.choice(possible_languages)"
   ]
  },
  {
   "cell_type": "markdown",
   "metadata": {
    "deletable": false
   },
   "source": [
    "Check that your function selects languages randomly from the set of possible languages (i.e., it returns something different if you run it more than once):"
   ]
  },
  {
   "cell_type": "code",
   "execution_count": 5,
   "metadata": {
    "deletable": false
   },
   "outputs": [
    {
     "name": "stdout",
     "output_type": "stream",
     "text": [
      "{1, 2, 3}\n",
      "{1}\n",
      "{1, 2, 3, 4}\n",
      "{1, 2, 3, 4}\n",
      "{1, 2, 3, 4, 5}\n"
     ]
    }
   ],
   "source": [
    "for i in range(5):\n",
    "    print(select_target_language([{1}, {1, 2, 3}, {1, 2}, {1, 2, 3, 4, 5}, {1, 2, 3, 4}]))"
   ]
  },
  {
   "cell_type": "code",
   "execution_count": 6,
   "metadata": {
    "deletable": false
   },
   "outputs": [],
   "source": [
    "# add your own test cases here!\n"
   ]
  },
  {
   "cell_type": "code",
   "execution_count": 7,
   "metadata": {
    "deletable": false,
    "nbgrader": {
     "checksum": "4ae62ef0eb57590bb2f490b4f5433ec5",
     "grade": true,
     "grade_id": "test_select_target_language",
     "locked": false,
     "points": 1,
     "schema_version": 1,
     "solution": false
    }
   },
   "outputs": [
    {
     "name": "stdout",
     "output_type": "stream",
     "text": [
      "Success!\n"
     ]
    }
   ],
   "source": [
    "\"\"\"Check implementation of select_target_language.\"\"\"\n",
    "\n",
    "def gen_random_languages(n):\n",
    "    languages = [tuple(sorted(set(np.random.randint(0, 100, i)))) for i in range(1, n + 1)]\n",
    "    unique = [set(x) for x in set(languages)]\n",
    "    return unique\n",
    "\n",
    "for i in range(1, 21):\n",
    "    # create a random set of target languages\n",
    "    languages = gen_random_languages(i)\n",
    "\n",
    "    # generate a few target languages \n",
    "    selected = set()\n",
    "    for j in range(20):\n",
    "        target = select_target_language(languages)\n",
    "        assert target in languages, \"target language '{}' is not in the given set of languages\".format(target)\n",
    "        selected.add(tuple(sorted(target)))\n",
    "\n",
    "    if i > 1:\n",
    "        assert len(selected) > 1, \"select_target_language does not produce a random answer\"\n",
    "\n",
    "print(\"Success!\")"
   ]
  },
  {
   "cell_type": "markdown",
   "metadata": {
    "deletable": false
   },
   "source": [
    "---"
   ]
  },
  {
   "cell_type": "markdown",
   "metadata": {
    "deletable": false
   },
   "source": [
    "## Part B (1 point)"
   ]
  },
  {
   "cell_type": "markdown",
   "metadata": {
    "deletable": false
   },
   "source": [
    "<div class=\"alert alert-success\">Complete the function definition below for `generate_example`, which randomly generates an example sentence from the target language.</div>"
   ]
  },
  {
   "cell_type": "markdown",
   "metadata": {
    "deletable": false
   },
   "source": [
    "Note: as with the previous part of this problem, the function `np.random.choice` may come in handy! Note, however, that it will not work with sets by default, so you may need to convert the set to a list first."
   ]
  },
  {
   "cell_type": "code",
   "execution_count": 8,
   "metadata": {
    "deletable": false,
    "nbgrader": {
     "checksum": "2573181be7b107eac0a0cb55cad75f17",
     "grade": false,
     "grade_id": "generate_example",
     "locked": false,
     "schema_version": 1,
     "solution": true
    }
   },
   "outputs": [],
   "source": [
    "def generate_example(valid_sentences):\n",
    "    \"\"\"Randomly choose an example \"sentence\" from the given set of valid\n",
    "    sentences.\n",
    "    \n",
    "    Hint: your solution can be done in 1 line of code (including the\n",
    "    return statement).\n",
    "\n",
    "    Parameters\n",
    "    ----------\n",
    "    valid_sentences : set of integers\n",
    "        The valid sentences to choose from\n",
    "\n",
    "    Returns\n",
    "    -------\n",
    "    integer : an integer representing the example sentence\n",
    "\n",
    "    \"\"\"\n",
    "    return np.random.choice(list(valid_sentences))"
   ]
  },
  {
   "cell_type": "markdown",
   "metadata": {
    "deletable": false
   },
   "source": [
    "Test that your function doesn't always return the same output:"
   ]
  },
  {
   "cell_type": "code",
   "execution_count": 9,
   "metadata": {
    "deletable": false
   },
   "outputs": [
    {
     "name": "stdout",
     "output_type": "stream",
     "text": [
      "3\n",
      "2\n",
      "1\n",
      "4\n",
      "4\n",
      "2\n",
      "3\n",
      "1\n",
      "3\n",
      "2\n"
     ]
    }
   ],
   "source": [
    "for i in range(10):\n",
    "    print(generate_example({1, 2, 3, 4, 5}))"
   ]
  },
  {
   "cell_type": "markdown",
   "metadata": {
    "deletable": false
   },
   "source": [
    "Also make sure that it can handle a language containing *any* valid sentences, even if they are not 1 through 10:"
   ]
  },
  {
   "cell_type": "code",
   "execution_count": 10,
   "metadata": {
    "deletable": false
   },
   "outputs": [
    {
     "name": "stdout",
     "output_type": "stream",
     "text": [
      "3\n",
      "4\n",
      "1\n",
      "4\n",
      "8\n",
      "1\n",
      "8\n",
      "8\n",
      "3\n",
      "3\n"
     ]
    }
   ],
   "source": [
    "for i in range(10):\n",
    "    print(generate_example({1, 4, 8, 2, 5, 3}))"
   ]
  },
  {
   "cell_type": "code",
   "execution_count": 11,
   "metadata": {
    "deletable": false
   },
   "outputs": [],
   "source": [
    "# add your own test cases here!\n"
   ]
  },
  {
   "cell_type": "code",
   "execution_count": 12,
   "metadata": {
    "deletable": false,
    "nbgrader": {
     "checksum": "a68c1f7317fbfe468556b6cb99905295",
     "grade": true,
     "grade_id": "test_generate_example",
     "locked": false,
     "points": 1,
     "schema_version": 1,
     "solution": false
    }
   },
   "outputs": [
    {
     "name": "stdout",
     "output_type": "stream",
     "text": [
      "Success!\n"
     ]
    }
   ],
   "source": [
    "\"\"\"Check the implementation of generate_example\"\"\"\n",
    "\n",
    "for i in range(1, 21):\n",
    "    # create a random set of target languages\n",
    "    language = set(np.random.randint(0, 100, i))\n",
    "\n",
    "    # generate a few examples\n",
    "    selected = set()\n",
    "    for j in range(20):\n",
    "        example = generate_example(language)\n",
    "        assert example in language, \"example '{}' is not in the given language\".format(example)\n",
    "        selected.add(example)\n",
    "\n",
    "    if i > 1:\n",
    "        assert len(selected) > 1, \"generate_example does not give a random answer\"\n",
    "\n",
    "print(\"Success!\")"
   ]
  },
  {
   "cell_type": "markdown",
   "metadata": {
    "deletable": false
   },
   "source": [
    "---"
   ]
  },
  {
   "cell_type": "markdown",
   "metadata": {
    "deletable": false
   },
   "source": [
    "## Part C (1 point)"
   ]
  },
  {
   "cell_type": "markdown",
   "metadata": {
    "deletable": false
   },
   "source": [
    "Now that we have some functions to generate a target language and examples, we can try playing a (modified) version of Gold's game. For this, you can use the function `gold_game` provided below. The function takes as an argument `guesser`, a function that guesses from the observations and possible languages."
   ]
  },
  {
   "cell_type": "code",
   "execution_count": 13,
   "metadata": {
    "deletable": false,
    "nbgrader": {
     "checksum": "60cbcd536cf2856aed591a8fa3df3924",
     "grade": false,
     "grade_id": "gold_game",
     "locked": true,
     "schema_version": 1,
     "solution": false
    }
   },
   "outputs": [],
   "source": [
    "def gold_game(guesser):\n",
    "    \"\"\"Plays a version of Gold's game using the `guesser` function to generate guesses.\n",
    "    \n",
    "    Parameters\n",
    "    ----------\n",
    "    guesser : function\n",
    "        The function that generates guesses. Takes as arguments\n",
    "        the list of observations and list of possible languages.\n",
    "        \n",
    "    \"\"\"\n",
    "    # generate the list of possible languages\n",
    "    possible_languages = [set(range(1, n + 1)) for n in range(1, 10)]\n",
    "    \n",
    "    # randomly choose the target language\n",
    "    valid_sentences = select_target_language(possible_languages)\n",
    "    \n",
    "    observations = []\n",
    "    # don't actually loop forever, to prevent infinite loops\n",
    "    for i in range(100):\n",
    "        # print the status\n",
    "        print(\"ROUND {}\".format(len(observations) + 1))\n",
    "        \n",
    "        # observe a new sentence\n",
    "        observations.append(generate_example(valid_sentences))\n",
    "        print(\"Observations: {}\".format(observations))\n",
    "        \n",
    "        # generate a guess for what the language is\n",
    "        guess = guesser(observations, possible_languages)\n",
    "        print(\"You guessed: {}\".format(guess))\n",
    "        \n",
    "        # if the guess was correct, then stop, otherwise, keep going\n",
    "        if guess == valid_sentences:\n",
    "            print(\"--> Correct!\")\n",
    "            break\n",
    "        else:\n",
    "            print(\"Sorry, wrong language.\\n\")\n",
    "            \n",
    "    if guess != valid_sentences:\n",
    "        raise RuntimeError(\"The guesser never guessed the right answer! Terminating after 100 tries.\")"
   ]
  },
  {
   "cell_type": "markdown",
   "metadata": {
    "deletable": false
   },
   "source": [
    "We can then create a guessing function that promps you for input:"
   ]
  },
  {
   "cell_type": "code",
   "execution_count": 14,
   "metadata": {
    "deletable": false,
    "nbgrader": {
     "checksum": "c3e51629f079cf784a8e823701b9b6a5",
     "grade": false,
     "grade_id": "human_guesser",
     "locked": true,
     "schema_version": 1,
     "solution": false
    }
   },
   "outputs": [],
   "source": [
    "def human_guesser(observations, possible_languages):\n",
    "    \"\"\"Prompt the user to guess the language (of those in `possible_languages`)\n",
    "    generated the sentences in `observations`.\n",
    "\n",
    "    Parameters\n",
    "    ----------\n",
    "    observations : list of integers\n",
    "        \"Grammatical\" sentences that have been observed\n",
    "    possible_languages : list of sets\n",
    "        Possible languages that could have resulted in the sentences\n",
    "        that were observed.\n",
    "\n",
    "    Returns\n",
    "    -------\n",
    "    set of integers : a guess for the true language\n",
    "\n",
    "    \"\"\"\n",
    "    # tell the user what languages there are\n",
    "    print(\"Languages:\")\n",
    "    for i, language in enumerate(possible_languages):\n",
    "        print(\"    {} : {}\".format(i, language))\n",
    "    print()\n",
    "\n",
    "    # prompt them for a guess\n",
    "    guess = None\n",
    "    while guess is None:\n",
    "        guess = input(\"Type the index of the language you want to guess: \")\n",
    "        try:\n",
    "            guess = int(guess)\n",
    "        except:\n",
    "            guess = None\n",
    "        else:\n",
    "            if guess < 0 or guess > (len(possible_languages) - 1):\n",
    "                guess = None\n",
    "            \n",
    "    return possible_languages[guess]"
   ]
  },
  {
   "cell_type": "markdown",
   "metadata": {
    "deletable": false
   },
   "source": [
    "Then, to play the game yourself, you can run `gold_game` with the `human_guesser` function. Uncomment and run the following cell (remember to comment it back out before turning in your problem set!):"
   ]
  },
  {
   "cell_type": "code",
   "execution_count": 15,
   "metadata": {
    "deletable": false
   },
   "outputs": [],
   "source": [
    "#gold_game(human_guesser)"
   ]
  },
  {
   "cell_type": "markdown",
   "metadata": {
    "deletable": false
   },
   "source": [
    "<div class=\"alert alert-success\">Now, we're interested in writing a program that can play the game without any human input. Complete the function `guess_language` below to guess the target language based on all the previously observed example sentences.</div>"
   ]
  },
  {
   "cell_type": "markdown",
   "metadata": {
    "deletable": false
   },
   "source": [
    "Hint: you may want to take a look at [how to check if one set is a subset of another](https://docs.python.org/3.4/library/stdtypes.html?highlight=set#set.issubset)."
   ]
  },
  {
   "cell_type": "code",
   "execution_count": 16,
   "metadata": {
    "deletable": false,
    "nbgrader": {
     "checksum": "f51fab0774669dc6947480cf3896247c",
     "grade": false,
     "grade_id": "guess_language",
     "locked": false,
     "schema_version": 1,
     "solution": true
    }
   },
   "outputs": [],
   "source": [
    "def guess_language(observations, possible_languages):\n",
    "    \"\"\"Guess which language (of those in `possible_languages`) generated\n",
    "    the sentences in `observations`. \n",
    "    \n",
    "    Note that your function should guess the *simplest* (i.e.. shortest) \n",
    "    language consistent with the sentences in observations. In the event \n",
    "    of a tie, you may return any of the tied languages.\n",
    "\n",
    "    Hint: your solution can be done in 4 lines of code, including the\n",
    "    return statement.\n",
    "\n",
    "    Parameters\n",
    "    ----------\n",
    "    observations : list of integers\n",
    "        \"Grammatical\" sentences that have been observed\n",
    "    possible_languages : list of sets\n",
    "        Possible languages that could have resulted in the sentences\n",
    "        that were observed.\n",
    "\n",
    "    Returns\n",
    "    -------\n",
    "    set of integers : your guess for the language that generated\n",
    "    the sentences in `observations`\n",
    "    \"\"\"\n",
    "    for p in sorted(possible_languages, key=len):\n",
    "        if set(observations).issubset(p):\n",
    "            return p"
   ]
  },
  {
   "cell_type": "markdown",
   "metadata": {
    "deletable": false
   },
   "source": [
    "Try playing Gold's Game using your function:"
   ]
  },
  {
   "cell_type": "code",
   "execution_count": 17,
   "metadata": {
    "deletable": false
   },
   "outputs": [
    {
     "name": "stdout",
     "output_type": "stream",
     "text": [
      "ROUND 1\n",
      "Observations: [2]\n",
      "You guessed: {1, 2}\n",
      "Sorry, wrong language.\n",
      "\n",
      "ROUND 2\n",
      "Observations: [2, 6]\n",
      "You guessed: {1, 2, 3, 4, 5, 6}\n",
      "--> Correct!\n"
     ]
    }
   ],
   "source": [
    "gold_game(guess_language)\n",
    "#You want to guess the smallest possible language which includes all of the observed sentences. \n",
    "#If you observe sentence 4, then you would want to guess the smallest language that includes sentence 4. \n",
    "#Then if you observe sentence 1 as well as sentence 4, you want to guess the smallest possible \n",
    "#language which includes both sentence 1 and sentence 4.\n",
    "\n"
   ]
  },
  {
   "cell_type": "markdown",
   "metadata": {
    "deletable": false
   },
   "source": [
    "Here are also a few toy examples for you to try:"
   ]
  },
  {
   "cell_type": "code",
   "execution_count": 18,
   "metadata": {
    "deletable": false
   },
   "outputs": [
    {
     "data": {
      "text/plain": [
       "{1, 2}"
      ]
     },
     "execution_count": 18,
     "metadata": {},
     "output_type": "execute_result"
    }
   ],
   "source": [
    "guess_language([2], [{1, 2, 3}, {1}, {1, 2}])"
   ]
  },
  {
   "cell_type": "code",
   "execution_count": 19,
   "metadata": {
    "deletable": false
   },
   "outputs": [
    {
     "data": {
      "text/plain": [
       "{1, 3, 4}"
      ]
     },
     "execution_count": 19,
     "metadata": {},
     "output_type": "execute_result"
    }
   ],
   "source": [
    "guess_language([1, 3], [{2, 3, 4}, {1, 3, 4}, {1, 2, 4}, {1, 2, 3}])"
   ]
  },
  {
   "cell_type": "code",
   "execution_count": 20,
   "metadata": {
    "deletable": false
   },
   "outputs": [],
   "source": [
    "# add your own test cases here!\n"
   ]
  },
  {
   "cell_type": "code",
   "execution_count": 21,
   "metadata": {
    "deletable": false,
    "nbgrader": {
     "checksum": "575af021a7127e60657357c2579cb55c",
     "grade": true,
     "grade_id": "test_guess_language",
     "locked": false,
     "points": 1,
     "schema_version": 1,
     "solution": false
    }
   },
   "outputs": [
    {
     "name": "stdout",
     "output_type": "stream",
     "text": [
      "Success!\n"
     ]
    }
   ],
   "source": [
    "\"\"\"Check the implementation of guess_language\"\"\"\n",
    "from nose.tools import assert_equal\n",
    "\n",
    "def gen_random_languages(n):\n",
    "    languages = [tuple(sorted(set(np.random.randint(0, 100, i)))) for i in range(1, n + 1)]\n",
    "    unique = [set(x) for x in set(languages)]\n",
    "    return unique\n",
    "\n",
    "for i in range(1, 21):\n",
    "    languages = gen_random_languages(i)\n",
    "    target = select_target_language(languages)\n",
    "\n",
    "    observations = []\n",
    "    for j in range(1, i + 1):\n",
    "        observations.append(generate_example(target))\n",
    "        guess = guess_language(observations, languages)\n",
    "        \n",
    "        for obs in observations:\n",
    "            assert obs in guess, \"Observation '{}' is not in the guessed language {}\".format(obs, guess)\n",
    "            \n",
    "        for l in languages:\n",
    "            if all([obs in l for obs in observations]) and guess != l:\n",
    "                assert len(l) >= len(guess), \"Guessed language should be the simplest language consistent with the observations\"\n",
    "                \n",
    "print(\"Success!\")"
   ]
  },
  {
   "cell_type": "markdown",
   "metadata": {
    "deletable": false
   },
   "source": [
    "---"
   ]
  },
  {
   "cell_type": "markdown",
   "metadata": {
    "deletable": false
   },
   "source": [
    "## Part D (1 point)"
   ]
  },
  {
   "cell_type": "markdown",
   "metadata": {
    "deletable": false
   },
   "source": [
    "Gold’s version of the language-learning game is different from ours: in his version, the learner is never told whether they correctly guessed the target language, and the game never ends. The learner is said to have won the game if there comes a point in time where they always guess the correct language from that point onward. Additionally, the teacher must eventually show the learner an example of every valid sentence in the target language. "
   ]
  },
  {
   "cell_type": "markdown",
   "metadata": {
    "deletable": false
   },
   "source": [
    "<div class=\"alert alert-success\">If we played the game this way, would the language learner that you implemented always be able to win the game (for *any* set of finite languages, not just the ones we considered here)? A one sentence answer for this part is sufficient. (**0.5 points**)</div>"
   ]
  },
  {
   "cell_type": "markdown",
   "metadata": {
    "deletable": false,
    "nbgrader": {
     "checksum": "0273f5869e5bafe8967004fdd3fe3587",
     "grade": true,
     "grade_id": "part_d_1",
     "locked": false,
     "points": 0.5,
     "schema_version": 1,
     "solution": true
    }
   },
   "source": [
    "Yes, if the set is finite then the language learner could be able to correctly guess the language at a certain point."
   ]
  },
  {
   "cell_type": "markdown",
   "metadata": {
    "deletable": false
   },
   "source": [
    "<div class=\"alert alert-success\">Why or why not? Please provide an explanation to the above. (**0.5 points**)</div>"
   ]
  },
  {
   "cell_type": "markdown",
   "metadata": {
    "deletable": false,
    "nbgrader": {
     "checksum": "b6be225aa5430d77a47699a91b14ff7a",
     "grade": true,
     "grade_id": "part_d_2",
     "locked": false,
     "points": 0.5,
     "schema_version": 1,
     "solution": true
    }
   },
   "source": [
    "Since the set is finite, the teacher has to have a number ('language') in the finite set of numbers. Therefore, once the teacher shows the example of the language with that number, the language learner would always guess the correct language from this point onward. "
   ]
  },
  {
   "cell_type": "markdown",
   "metadata": {
    "deletable": false
   },
   "source": [
    "## Part E (1 point)"
   ]
  },
  {
   "cell_type": "markdown",
   "metadata": {
    "deletable": false
   },
   "source": [
    "Assume that instead of 10 languages, we had an infinitude of languages $L_1$, $L_2$, $L_3$, ..., $L_\\infty$ with each language $L_i$ containing all the sentences from 1 to $i$. "
   ]
  },
  {
   "cell_type": "markdown",
   "metadata": {
    "deletable": false
   },
   "source": [
    "<div class=\"alert alert-success\">If we played this game with Gold’s version of the rules described above, would the language learner that you implemented always be able to win the game? A one sentence answer is sufficient. (**0.5 points**)</div>"
   ]
  },
  {
   "cell_type": "markdown",
   "metadata": {
    "deletable": false,
    "nbgrader": {
     "checksum": "7223c605f54ae21838d13e2767953f3c",
     "grade": true,
     "grade_id": "part_e_1",
     "locked": false,
     "points": 0.5,
     "schema_version": 1,
     "solution": true
    }
   },
   "source": [
    "No, it would not be able to win the game."
   ]
  },
  {
   "cell_type": "markdown",
   "metadata": {
    "deletable": false
   },
   "source": [
    " <div class=\"alert alert-success\"> Why or why not? Please provide an explanation. (**0.5 points**)</div>"
   ]
  },
  {
   "cell_type": "markdown",
   "metadata": {
    "deletable": false,
    "nbgrader": {
     "checksum": "52e87b422158e8de19a1196a0621c620",
     "grade": true,
     "grade_id": "part_e_2",
     "locked": false,
     "points": 0.5,
     "schema_version": 1,
     "solution": true
    }
   },
   "source": [
    "If there was an infinitude of languages, then the teacher could theoretically give a number, and then all the numbers under it for an infinite amount of time—thus never resulting in a 'win' for the language learner. As L reaches infinity, it would take an infinite amount of time to get to the next L because the language learner has to guess everything in between 1 and that number. For this reason, the language learner could never be confident that it has the right number because the teacher use this method to 'trick' the learner. "
   ]
  },
  {
   "cell_type": "markdown",
   "metadata": {
    "deletable": false,
    "nbgrader": {}
   },
   "source": [
    "---"
   ]
  },
  {
   "cell_type": "markdown",
   "metadata": {
    "deletable": false,
    "nbgrader": {}
   },
   "source": [
    "Before turning this problem in remember to do the following steps:\n",
    "\n",
    "1. **Restart the kernel** (Kernel$\\rightarrow$Restart)\n",
    "2. **Run all cells** (Cell$\\rightarrow$Run All)\n",
    "3. **Save** (File$\\rightarrow$Save and Checkpoint)"
   ]
  },
  {
   "cell_type": "markdown",
   "metadata": {
    "deletable": false,
    "nbgrader": {
     "cell_type": "release"
    }
   },
   "source": [
    "<div class=\"alert alert-danger\">After you have completed these three steps, ensure that the following cell has printed \"No errors\". If it has <b>not</b> printed \"No errors\", then your code has a bug in it and has thrown an error! Make sure you fix this error before turning in your problem set.</div>"
   ]
  },
  {
   "cell_type": "code",
   "execution_count": 22,
   "metadata": {
    "deletable": false,
    "nbgrader": {}
   },
   "outputs": [
    {
     "name": "stdout",
     "output_type": "stream",
     "text": [
      "No errors!\n"
     ]
    }
   ],
   "source": [
    "print(\"No errors!\")"
   ]
  }
 ],
 "metadata": {
  "kernelspec": {
   "display_name": "Python 3",
   "language": "python",
   "name": "python3"
  },
  "language_info": {
   "codemirror_mode": {
    "name": "ipython",
    "version": 3
   },
   "file_extension": ".py",
   "mimetype": "text/x-python",
   "name": "python",
   "nbconvert_exporter": "python",
   "pygments_lexer": "ipython3",
   "version": "3.6.1"
  }
 },
 "nbformat": 4,
 "nbformat_minor": 1
}
