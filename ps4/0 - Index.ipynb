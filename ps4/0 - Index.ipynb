{
 "cells": [
  {
   "cell_type": "markdown",
   "metadata": {},
   "source": [
    "# CogSci 131: Computational Models of Cognition"
   ]
  },
  {
   "cell_type": "markdown",
   "metadata": {},
   "source": [
    "---"
   ]
  },
  {
   "cell_type": "markdown",
   "metadata": {},
   "source": [
    "### Academic Integrity"
   ]
  },
  {
   "cell_type": "markdown",
   "metadata": {},
   "source": [
    "The University defines academic misconduct as “any action or attempted action that may result in creating an unfair academic advantage for oneself or an unfair academic advantage or disadvantage for any other member or members of the academic community.” All forms of academic misconduct including but not limited to cheating, fabrication, plagiarism, or facilitating academic dishonesty are prohibited.\n"
   ]
  },
  {
   "cell_type": "markdown",
   "metadata": {},
   "source": [
    "### Collaboration Policy"
   ]
  },
  {
   "cell_type": "markdown",
   "metadata": {},
   "source": [
    "Collaboration is permitted when solving problems, but each student must:\n",
    "\n",
    "1. **Write his or her own code.** You may share pseudocode with your collaborators, but should perform all final implementations on your own.\n",
    "2. **Compose his or her written answers independently.** You may discuss questions with your fellow classmates, but must compose your final responses on your own.\n",
    "3. **List the people he or she worked with on his or her problem set.** Failure to report your collaborators may result in a zero for the problem set.\n",
    "\n",
    "In general, you should not give or receive aid that makes the assigned tasks significantly easier, and should document any significant help that you do receive."
   ]
  },
  {
   "cell_type": "markdown",
   "metadata": {},
   "source": [
    "### Submission Instructions"
   ]
  },
  {
   "cell_type": "markdown",
   "metadata": {},
   "source": [
    "Problems will require you to fill in the provided IPython Notebooks, which may require you to write Python code, written answers, or both. All the files you need are provided for you --- you just need to fill them in with your answers. Make sure to fill in your collaborators at the top of _each_ notebook.\n",
    "\n",
    "You will be uploading your problem sets to BCourses as a zip file. The provided [Create Submission](./Create Submission.ipynb) notebook will automatically create this file and provides instructions for uploading it to BCourses. **It is very important that you use the [Create Submission](./Create Submission.ipynb) notebook when preparing your submission**; if you do not, you will not receive credit.\n",
    "\n",
    "You can resubmit to BCourses as many times as necessary until the due date -- only your most recent submission will be graded. If you make any changes to your submission after the due date, we will regard your **entire** problem set as having been turned in at the last time it was changed."
   ]
  },
  {
   "cell_type": "markdown",
   "metadata": {},
   "source": [
    "### Validation Scripts"
   ]
  },
  {
   "cell_type": "markdown",
   "metadata": {},
   "source": [
    "All notebooks have a cell containing tests for your code. Make sure you run these cells for each part of the homework before submitting your assignment. **If your code does not pass the test cells, you will NOT receive credit.** In general, you can expect that if your code passes the test cells, then you will receive full credit for the coding part of your answer. \n",
    "\n",
    "However, the instructors reserve the right to deduct points if your code does not conform to the spirit of the problem. For example, if we ask you to write code to compute the sum of `[1, 2, 3, 4, 5]`, we expect a solution like `answer = np.sum([1, 2, 3, 4, 5])`, NOT `answer = 15`. The reason for this is that if you just supply us with a number, we cannot determine how you got that number: just like in a math class where you need to show your work, we want to see all the code you used to find the solution."
   ]
  },
  {
   "cell_type": "markdown",
   "metadata": {},
   "source": [
    "### Late Problem Set Policy"
   ]
  },
  {
   "cell_type": "markdown",
   "metadata": {},
   "source": [
    "This problem set is due at the **start of class** on the due date listed above. You get **THREE LATE DAYS** total for the entire semester, to account for foreseeable minor crises. If you turn in a problem set late after using these late days, 20% of the total points on the problem set will be deducted for each 24 hours (or portion thereof) that it is late."
   ]
  },
  {
   "cell_type": "markdown",
   "metadata": {},
   "source": [
    "### Questions"
   ]
  },
  {
   "cell_type": "markdown",
   "metadata": {},
   "source": [
    "If you have any questions regarding the problem set, please post them to the class [Piazza](https://piazza.com/berkeley/spring2018/cogsci131/home) site. In general, the Piazza site is for you to work together and to answer each other's questions. The GSIs will answer questions only once per day, and will **not** answer questions the night before the problem set is due. So get started early!"
   ]
  }
 ],
 "metadata": {
  "kernelspec": {
   "display_name": "Python 3",
   "language": "python",
   "name": "python3"
  },
  "language_info": {
   "codemirror_mode": {
    "name": "ipython",
    "version": 3
   },
   "file_extension": ".py",
   "mimetype": "text/x-python",
   "name": "python",
   "nbconvert_exporter": "python",
   "pygments_lexer": "ipython3",
   "version": "3.4.3"
  }
 },
 "nbformat": 4,
 "nbformat_minor": 1
}
