{
 "cells": [
  {
   "cell_type": "markdown",
   "metadata": {
    "deletable": false,
    "nbgrader": {
     "cell_type": "release"
    }
   },
   "source": [
    "Make sure you fill in any place that says `YOUR CODE HERE` or \"YOUR ANSWER HERE\", as well as your collaborators below:"
   ]
  },
  {
   "cell_type": "code",
   "execution_count": null,
   "metadata": {
    "deletable": false,
    "nbgrader": {
     "cell_type": "release"
    }
   },
   "outputs": [],
   "source": [
    "COLLABORATORS = \"\""
   ]
  },
  {
   "cell_type": "markdown",
   "metadata": {
    "deletable": false,
    "nbgrader": {}
   },
   "source": [
    "---"
   ]
  },
  {
   "cell_type": "markdown",
   "metadata": {
    "deletable": false
   },
   "source": [
    "## PS1 Autograder Tests"
   ]
  },
  {
   "cell_type": "markdown",
   "metadata": {
    "deletable": false
   },
   "source": [
    "This notebook is provided in case you accidentally modify a test cell in one of your problem set notebooks. You can copy and paste the tests from this file into the corresponding test block in your notebook to restore it to its original state."
   ]
  },
  {
   "cell_type": "markdown",
   "metadata": {
    "deletable": false
   },
   "source": [
    "<div class=\"alert alert-warning\">**IMPORTANT**: If you try to validate this notebook, it will fail. This is as expected, since the unit tests contained here reference code that is defined in other notebooks. Don't worry about it! If your other notebooks pass validation, you can submit your problem set with confidence. Nothing in this notebook will be graded</div>"
   ]
  },
  {
   "cell_type": "markdown",
   "metadata": {
    "deletable": false
   },
   "source": [
    "---"
   ]
  },
  {
   "cell_type": "markdown",
   "metadata": {
    "deletable": false
   },
   "source": [
    "### 2 - Production Systems.ipynb\n",
    "**Part A**"
   ]
  },
  {
   "cell_type": "code",
   "execution_count": null,
   "metadata": {
    "deletable": false,
    "nbgrader": {
     "checksum": "b2a073b292ab9189152808241876aa44",
     "grade": false,
     "grade_id": "2A",
     "locked": true,
     "schema_version": 1,
     "solution": false
    }
   },
   "outputs": [],
   "source": [
    "from nose.tools import assert_equal\n",
    "\n",
    "# check that a --> b is triggered\n",
    "assert_equal(match({'a'}, [('a', 'b')]), ('a', 'b'))\n",
    "\n",
    "# check that nothing is triggered, because 'b' does not trigger any rules\n",
    "assert_equal(match({'b'}, [('a', 'b')]), None)\n",
    "\n",
    "# check that nothing is triggered, because 'a' and 'b' are already in the belief\n",
    "assert_equal(match({'a', 'b'}, [('a', 'b')]), None)\n",
    "\n",
    "# check that a --> b is triggered\n",
    "assert_equal(match({'a'}, [('a', 'b'), ('b', 'c')]), ('a', 'b'))\n",
    "\n",
    "# check that b --> c is triggered\n",
    "assert_equal(match({'a', 'b'}, [('a', 'b'), ('b', 'c')]), ('b', 'c'))\n",
    "    \n",
    "# check that nothing is triggered, because 'a', 'b', and 'c' are already in the belief\n",
    "assert_equal(match({'a', 'b', 'c'}, [('a', 'b'), ('b', 'c')]), None)\n",
    "\n",
    "print(\"Success!\")"
   ]
  },
  {
   "cell_type": "markdown",
   "metadata": {
    "deletable": false
   },
   "source": [
    "**Part B1**"
   ]
  },
  {
   "cell_type": "code",
   "execution_count": null,
   "metadata": {
    "deletable": false,
    "nbgrader": {
     "checksum": "729e5c0c6849f1581775472f12127b73",
     "grade": false,
     "grade_id": "2B1",
     "locked": true,
     "schema_version": 1,
     "solution": false
    }
   },
   "outputs": [],
   "source": [
    "\"\"\"Check that `forward_chain` uses the `match` function.\"\"\"\n",
    "from nose.tools import assert_raises\n",
    "orig_match = match\n",
    "del match\n",
    "try:\n",
    "    assert_raises(NameError, forward_chain, {'a'}, [('a', 'b')])\n",
    "finally:\n",
    "    match = orig_match\n",
    "\n",
    "print(\"Success!\")"
   ]
  },
  {
   "cell_type": "markdown",
   "metadata": {
    "deletable": false
   },
   "source": [
    "**Part B2**"
   ]
  },
  {
   "cell_type": "code",
   "execution_count": null,
   "metadata": {
    "deletable": false,
    "nbgrader": {
     "checksum": "3bc13e860b2a0e6ceb933a0ec78e570d",
     "grade": false,
     "grade_id": "2B2",
     "locked": true,
     "schema_version": 1,
     "solution": false
    }
   },
   "outputs": [],
   "source": [
    "\"\"\"Ensure that the new belief is a different object from the original belief.\"\"\"\n",
    "b1 = {'a'}\n",
    "b2 = forward_chain(b1, [('a', 'b')])\n",
    "assert_equal(b1, {'a'})\n",
    "assert_equal(b2, ({'a', 'b'}, [('a', 'b')]))\n",
    "\n",
    "print(\"Success!\")"
   ]
  },
  {
   "cell_type": "markdown",
   "metadata": {
    "deletable": false
   },
   "source": [
    "**Part B3**"
   ]
  },
  {
   "cell_type": "code",
   "execution_count": null,
   "metadata": {
    "deletable": false,
    "nbgrader": {
     "checksum": "afa1bec6fa37735abd1d2a6c0edfc85f",
     "grade": false,
     "grade_id": "2B3",
     "locked": true,
     "schema_version": 1,
     "solution": false
    }
   },
   "outputs": [],
   "source": [
    "\"\"\"Check that full forward chaining works.\"\"\"\n",
    "b, r = forward_chain({'a'}, [('a', 'b'), ('b', 'c'), ('c', 'd')])\n",
    "assert_equal(b, {'a', 'b', 'c', 'd'})\n",
    "assert_equal(r, [('a', 'b'), ('b', 'c'), ('c', 'd')])\n",
    "\n",
    "b, r = forward_chain({'a'}, [('b', 'c'), ('c', 'd'), ('a', 'b')])\n",
    "assert_equal(b, {'a', 'b', 'c', 'd'})\n",
    "assert_equal(r, [('a', 'b'), ('b', 'c'), ('c', 'd')])\n",
    "\n",
    "b, r = forward_chain({'a'}, [('a', 'c'), ('a', 'b')])\n",
    "assert_equal(b, {'a', 'b', 'c'})\n",
    "assert_equal(r, [('a', 'c'), ('a', 'b')])\n",
    "\n",
    "b, r = forward_chain({'b'}, [('a', 'b'), ('b', 'c')])\n",
    "assert_equal(b, {'b', 'c'})\n",
    "assert_equal(r, [('b', 'c')])\n",
    "\n",
    "b, r = forward_chain({'a', 'b', 'c'}, [('b', 'c'), ('b', 'a'), ('a', 'b')])\n",
    "assert_equal(b, {'a', 'b', 'c'})\n",
    "assert_equal(r, [])\n",
    "\n",
    "b, r = forward_chain(set(), [('b', 'c'), ('b', 'a'), ('a', 'b')])\n",
    "assert_equal(b, set())\n",
    "assert_equal(r, [])\n",
    "\n",
    "print(\"Success!\")"
   ]
  },
  {
   "cell_type": "markdown",
   "metadata": {
    "deletable": false
   },
   "source": [
    "### 3 - Formal Languages.ipynb\n",
    "**Part B**"
   ]
  },
  {
   "cell_type": "code",
   "execution_count": null,
   "metadata": {
    "deletable": false,
    "nbgrader": {
     "checksum": "b427b233571f1f6fc9e4118e769a1c0e",
     "grade": false,
     "grade_id": "3B",
     "locked": true,
     "schema_version": 1,
     "solution": false
    }
   },
   "outputs": [],
   "source": [
    "\"\"\"Check that `tic` produces expected output.\"\"\"\n",
    "from nose.tools import assert_equal\n",
    "\n",
    "lengths = []\n",
    "for i in range(10):\n",
    "    output = tic()\n",
    "    lengths.append(output)\n",
    "    \n",
    "    # check that the output only consists of ' ', t, i, c, and o\n",
    "    assert_equal(sorted(set(output)), [' ', 'c', 'i', 'o', 't'])\n",
    "\n",
    "    # check that the ouptut is repeated string\n",
    "    assert len(set(output.split('tictoc '))) == 1\n",
    "    \n",
    "# check that the function doesn't produce the same thing every time\n",
    "assert len(set(lengths)) > 1\n",
    "\n",
    "print(\"Success!\")"
   ]
  },
  {
   "cell_type": "markdown",
   "metadata": {
    "deletable": false
   },
   "source": [
    "**Part C1**"
   ]
  },
  {
   "cell_type": "code",
   "execution_count": null,
   "metadata": {
    "deletable": false,
    "nbgrader": {
     "checksum": "4d02f5caa4d44061e03cec66cac0ee64",
     "grade": false,
     "grade_id": "3C1",
     "locked": true,
     "schema_version": 1,
     "solution": false
    }
   },
   "outputs": [],
   "source": [
    "\"\"\"Check that `abncn` produces the correct output.\"\"\"\n",
    "assert_equal(abncdn(1), \"abcd\")\n",
    "assert_equal(abncdn(2), \"ababcdcd\")\n",
    "assert_equal(abncdn(3), \"abababcdcdcd\")\n",
    "assert_equal(abncdn(9), \"abababababababababcdcdcdcdcdcdcdcdcd\")\n",
    "print(\"Success!\")"
   ]
  },
  {
   "cell_type": "markdown",
   "metadata": {
    "deletable": false
   },
   "source": [
    "**Part C2**"
   ]
  },
  {
   "cell_type": "code",
   "execution_count": null,
   "metadata": {
    "deletable": false,
    "nbgrader": {
     "checksum": "df4840175ff1f2cb23f5fa474dcdf819",
     "grade": false,
     "grade_id": "3C2",
     "locked": true,
     "schema_version": 1,
     "solution": false
    }
   },
   "outputs": [],
   "source": [
    "\"\"\"Check that `abncn` produces different length strings for different inputs.\"\"\"\n",
    "for i in range(1, 10):\n",
    "    output = abncdn(i-1)\n",
    "    assert_equal(len(output), i * 4)\n",
    "\n",
    "print(\"Success!\")"
   ]
  },
  {
   "cell_type": "markdown",
   "metadata": {
    "deletable": false
   },
   "source": [
    "### 4 - Turing Machines.ipynb\n",
    "**Part B**"
   ]
  },
  {
   "cell_type": "code",
   "execution_count": null,
   "metadata": {
    "deletable": false,
    "nbgrader": {
     "checksum": "632a21ec38ccff9a4d2e927f4e6f2e70",
     "grade": false,
     "grade_id": "4B",
     "locked": true,
     "schema_version": 1,
     "solution": false
    }
   },
   "outputs": [],
   "source": [
    "\"\"\"Test that anbm_program halts on the correct symbols for various inputs.\"\"\"\n",
    "from nose.tools import assert_equal, assert_less_equal\n",
    "assert_equal(turing_machine(list(\" \"), akbm_program), 'n')\n",
    "assert_equal(turing_machine(list(\"ab\"), akbm_program), 'y')\n",
    "assert_equal(turing_machine(list(\"a\"), akbm_program), 'n')\n",
    "assert_equal(turing_machine(list(\"b\"), akbm_program), 'n')\n",
    "assert_equal(turing_machine(list(\"ba\"), akbm_program), 'n')\n",
    "assert_equal(turing_machine(list(\"aba\"), akbm_program), 'n')\n",
    "assert_equal(turing_machine(list(\"abb\"), akbm_program), 'y')\n",
    "assert_equal(turing_machine(list(\"aaabb\"), akbm_program), 'y')\n",
    "assert_equal(turing_machine(list(\"aabb\"), akbm_program), 'y')\n",
    "assert_equal(turing_machine(list(\"abab\"), akbm_program), 'n')\n",
    "assert_equal(turing_machine(list(\"aaaaaabbbb\"), akbm_program), 'y')\n",
    "assert_equal(turing_machine(list(\"aaaaaabbbbbb\"), akbm_program), 'y')\n",
    "assert_equal(turing_machine(list(\"aaaaaabbbbbbbb\"), akbm_program), 'y')\n",
    "\n",
    "# check that a finite number of states is used\n",
    "import turing_machine_helper as tmh\n",
    "assert_equal(turing_machine(list(\"a\" * 5 + \"b\" * 5), akbm_program), 'y')\n",
    "assert_equal(turing_machine(list(\"a\" * 10 + \"b\" * 10), akbm_program), 'y')\n",
    "states1 = tmh.turing_machine(list(\"a\" * 5 + \"b\" * 5), akbm_program, return_states=True)\n",
    "states2 = tmh.turing_machine(list(\"a\" * 10 + \"b\" * 10), akbm_program, return_states=True)\n",
    "assert_equal(states1, states2, \"number of states changes with input size\")\n",
    "assert_less_equal(len(states2), 20, \"too many states\")\n",
    "\n",
    "print(\"Success!\")"
   ]
  },
  {
   "cell_type": "markdown",
   "metadata": {
    "deletable": false
   },
   "source": [
    "**Part C**"
   ]
  },
  {
   "cell_type": "code",
   "execution_count": null,
   "metadata": {
    "deletable": false,
    "nbgrader": {
     "checksum": "61d67d6fe91cc442c5c5eb43d9eb2b9b",
     "grade": false,
     "grade_id": "4C",
     "locked": true,
     "schema_version": 1,
     "solution": false
    }
   },
   "outputs": [],
   "source": [
    "\"\"\"Test that the akbk_program halts on the correct symbols for various inputs.\"\"\"\n",
    "from nose.tools import assert_equal, assert_less_equal\n",
    "assert_equal(turing_machine(list(\" \"), akbk_program), 'n')\n",
    "assert_equal(turing_machine(list(\"ab\"), akbk_program), 'y')\n",
    "assert_equal(turing_machine(list(\"a\"), akbk_program), 'n')\n",
    "assert_equal(turing_machine(list(\"b\"), akbk_program), 'n')\n",
    "assert_equal(turing_machine(list(\"ba\"), akbk_program), 'n')\n",
    "assert_equal(turing_machine(list(\"aba\"), akbk_program), 'n')\n",
    "assert_equal(turing_machine(list(\"abb\"), akbk_program), 'n')\n",
    "assert_equal(turing_machine(list(\"aaabb\"), akbk_program), 'n')\n",
    "assert_equal(turing_machine(list(\"aabb\"), akbk_program), 'y')\n",
    "assert_equal(turing_machine(list(\"abab\"), akbk_program), 'n')\n",
    "assert_equal(turing_machine(list(\"aaaaaabbbb\"), akbk_program), 'n')\n",
    "assert_equal(turing_machine(list(\"aaaaaabbbbbb\"), akbk_program), 'y')\n",
    "assert_equal(turing_machine(list(\"aaaaaabbbbbbbb\"), akbk_program), 'n')\n",
    "\n",
    "# check that a finite number of states is used\n",
    "import turing_machine_helper as tmh\n",
    "assert_equal(turing_machine(list(\"a\" * 5 + \"b\" * 5), akbk_program), 'y')\n",
    "assert_equal(turing_machine(list(\"a\" * 10 + \"b\" * 10), akbk_program), 'y')\n",
    "states1 = tmh.turing_machine(list(\"a\" * 5 + \"b\" * 5), akbk_program, return_states=True)\n",
    "states2 = tmh.turing_machine(list(\"a\" * 10 + \"b\" * 10), akbk_program, return_states=True)\n",
    "assert_equal(states1, states2, \"number of states changes with input size\")\n",
    "assert_less_equal(len(states2), 20, \"too many states\")\n",
    "\n",
    "print(\"Success!\")"
   ]
  },
  {
   "cell_type": "markdown",
   "metadata": {
    "deletable": false
   },
   "source": [
    "**Part D**"
   ]
  },
  {
   "cell_type": "code",
   "execution_count": null,
   "metadata": {
    "deletable": false,
    "nbgrader": {
     "checksum": "d4beb9663d8dd87a74974cf435c9b091",
     "grade": false,
     "grade_id": "4D",
     "locked": true,
     "schema_version": 1,
     "solution": false
    }
   },
   "outputs": [],
   "source": [
    "\"\"\"Test that the akbkck_program halts on the correct symbols for various inputs.\"\"\"\n",
    "from nose.tools import assert_equal, assert_less_equal\n",
    "assert_equal(turing_machine(list(\" \"), akbkck_program), 'n')\n",
    "assert_equal(turing_machine(list(\"a\"), akbkck_program), 'n')\n",
    "assert_equal(turing_machine(list(\"b\"), akbkck_program), 'n')\n",
    "assert_equal(turing_machine(list(\"c\"), akbkck_program), 'n')\n",
    "assert_equal(turing_machine(list(\"abc\"), akbkck_program), 'y')\n",
    "assert_equal(turing_machine(list(\"cba\"), akbkck_program), 'n')\n",
    "assert_equal(turing_machine(list(\"bca\"), akbkck_program), 'n')\n",
    "assert_equal(turing_machine(list(\"acb\"), akbkck_program), 'n')\n",
    "assert_equal(turing_machine(list(\"abcabc\"), akbkck_program), 'n')\n",
    "assert_equal(turing_machine(list(\"aabc\"), akbkck_program), 'n')\n",
    "assert_equal(turing_machine(list(\"abbc\"), akbkck_program), 'n')\n",
    "assert_equal(turing_machine(list(\"abcc\"), akbkck_program), 'n')\n",
    "assert_equal(turing_machine(list(\"aaaabbbbcccc\"), akbkck_program), 'y')\n",
    "assert_equal(turing_machine(list(\"aaaabbbbccc\"), akbkck_program), 'n')\n",
    "assert_equal(turing_machine(list(\"aaabbbbcccc\"), akbkck_program), 'n')\n",
    "assert_equal(turing_machine(list(\"aaaabbbcccc\"), akbkck_program), 'n')\n",
    "assert_equal(turing_machine(list(\"aaaaabbbbbccccc\"), akbkck_program), 'y')\n",
    "\n",
    "# check that a finite number of states is used\n",
    "import turing_machine_helper as tmh\n",
    "assert_equal(turing_machine(list(\"a\" * 5 + \"b\" * 5 + \"c\" * 5), akbkck_program), 'y')\n",
    "assert_equal(turing_machine(list(\"a\" * 10 + \"b\" * 10 + \"c\" * 10), akbkck_program), 'y')\n",
    "states1 = tmh.turing_machine(list(\"a\" * 5 + \"b\" * 5 + \"c\" * 5), akbkck_program, return_states=True)\n",
    "states2 = tmh.turing_machine(list(\"a\" * 10 + \"b\" * 10 + \"c\" * 10), akbkck_program, return_states=True)\n",
    "assert_equal(states1, states2, \"number of states changes with input size\")\n",
    "assert_less_equal(len(states2), 20, \"too many states\")\n",
    "\n",
    "print(\"Success!\")"
   ]
  },
  {
   "cell_type": "markdown",
   "metadata": {
    "deletable": false,
    "nbgrader": {}
   },
   "source": [
    "---"
   ]
  },
  {
   "cell_type": "markdown",
   "metadata": {
    "deletable": false,
    "nbgrader": {}
   },
   "source": [
    "Before turning this problem in remember to do the following steps:\n",
    "\n",
    "1. **Restart the kernel** (Kernel$\\rightarrow$Restart)\n",
    "2. **Run all cells** (Cell$\\rightarrow$Run All)\n",
    "3. **Save** (File$\\rightarrow$Save and Checkpoint)"
   ]
  },
  {
   "cell_type": "markdown",
   "metadata": {
    "deletable": false,
    "nbgrader": {
     "cell_type": "release"
    }
   },
   "source": [
    "<div class=\"alert alert-danger\">After you have completed these three steps, ensure that the following cell has printed \"No errors\". If it has <b>not</b> printed \"No errors\", then your code has a bug in it and has thrown an error! Make sure you fix this error before turning in your problem set.</div>"
   ]
  },
  {
   "cell_type": "code",
   "execution_count": null,
   "metadata": {
    "deletable": false,
    "nbgrader": {}
   },
   "outputs": [],
   "source": [
    "print(\"No errors!\")"
   ]
  }
 ],
 "metadata": {
  "kernelspec": {
   "display_name": "Python 3",
   "language": "python",
   "name": "python3"
  },
  "language_info": {
   "codemirror_mode": {
    "name": "ipython",
    "version": 3
   },
   "file_extension": ".py",
   "mimetype": "text/x-python",
   "name": "python",
   "nbconvert_exporter": "python",
   "pygments_lexer": "ipython3",
   "version": "3.5.1"
  }
 },
 "nbformat": 4,
 "nbformat_minor": 0
}
