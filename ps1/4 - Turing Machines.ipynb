{
 "cells": [
  {
   "cell_type": "markdown",
   "metadata": {
    "deletable": false,
    "nbgrader": {
     "cell_type": "release"
    }
   },
   "source": [
    "Make sure you fill in any place that says `YOUR CODE HERE` or \"YOUR ANSWER HERE\", as well as your collaborators below:"
   ]
  },
  {
   "cell_type": "code",
   "execution_count": 1,
   "metadata": {
    "deletable": false,
    "nbgrader": {
     "cell_type": "release"
    }
   },
   "outputs": [],
   "source": [
    "COLLABORATORS = \"Cyan Bastiaans\""
   ]
  },
  {
   "cell_type": "markdown",
   "metadata": {
    "deletable": false,
    "nbgrader": {}
   },
   "source": [
    "---"
   ]
  },
  {
   "cell_type": "markdown",
   "metadata": {
    "deletable": false
   },
   "source": [
    "## Part A (1 point)"
   ]
  },
  {
   "cell_type": "markdown",
   "metadata": {
    "deletable": false
   },
   "source": [
    "<div class=\"alert alert-success\">\n",
    "In your own words, explain what a Turing machine is. How is the concept of a Turing machine related to the study of cognition and language? Why is it so important?\n",
    "</div>"
   ]
  },
  {
   "cell_type": "markdown",
   "metadata": {
    "deletable": false,
    "nbgrader": {
     "checksum": "53c9ab826990bee224ccbcb5db0cefa4",
     "grade": true,
     "grade_id": "turing-machine-definition",
     "locked": false,
     "points": 1,
     "schema_version": 1,
     "solution": true
    }
   },
   "source": [
    "A Turing Machine is an abstract computation system that can simulate any algorithm if given a program for it. It takes in inputs, and uses a set of rules to determine the output. It is related to the study of cognition and language because like language and cognition, it is a formal system. It uses predefined sets of rules and symbols to generate a certain output. It is much like language, because language can be thought of by applying grammatical rules to generate sentences—and cognition—which (more complicatedly) uses a set of rules on incoming stimulus to produce an apt response."
   ]
  },
  {
   "cell_type": "markdown",
   "metadata": {
    "deletable": false
   },
   "source": [
    "---"
   ]
  },
  {
   "cell_type": "markdown",
   "metadata": {
    "deletable": false
   },
   "source": [
    "In the next few parts of this problem, you will write code for several different Turing machines. To facilitate this, we have provided you the following code which runs a Turing machine, and optionally prints out its state at each step:"
   ]
  },
  {
   "cell_type": "code",
   "execution_count": 2,
   "metadata": {
    "deletable": false,
    "nbgrader": {
     "checksum": "f448248b696eab1387e8304aec8992fa",
     "grade": false,
     "grade_id": "turing_machine",
     "locked": true,
     "schema_version": 1,
     "solution": false
    }
   },
   "outputs": [],
   "source": [
    "def turing_machine(tape, program, verbose=False):\n",
    "    \"\"\"Run a given Turing machine with the given input.\n",
    "\n",
    "    The program, accepted as the second argument, should accept two parameters:\n",
    "\n",
    "      * state: A string representing the current state of the Turing machine.\n",
    "        For example, the initial state that the Turing machine starts in is\n",
    "        a string \"initial state\".\n",
    "      * symbol: The current symbol being read on the tape, for example,\n",
    "        \"a\" or \"b\". If there is nothing to read, then the symbol will be an\n",
    "        empty string.\n",
    "\n",
    "    The program should return a 3-tuple of (new state, new symbol, action):\n",
    "\n",
    "      * new state: The next state of the Turing machine, as determined by\n",
    "        your program.\n",
    "      * new symbol: A new symbol to write on the tape *before* the Turing\n",
    "        machine executes the action.\n",
    "      * action: The action that the Turing machine should take after writing\n",
    "        the new symbol. This should be a string, and should be either \"left\"\n",
    "        (move left), \"right\" (move right), or \"halt\" (stop executing).\n",
    "\n",
    "    The program is always run starting from the beginning (index 0) of the tape.\n",
    "    If the Turing machine is at index 0, and the program returns an action of\n",
    "    \"left\", then the tape will be extended to the left. If the Turing machine is\n",
    "    at the last index of the tap, and the program returns an action of \"right\",\n",
    "    then the tape will be extended to the right. In both cases, the symbol that\n",
    "    is read after extending the tape is always an empty string.\n",
    "    \n",
    "    Parameters\n",
    "    ----------\n",
    "    tape: list\n",
    "        A list of symbols representing the tape\n",
    "    program: function\n",
    "        The Turing machine to be run. Should accept two paramters:\n",
    "        the current state of the Turing machine, and the current symbol\n",
    "        being read.\n",
    "    verbose: boolean (optional)\n",
    "        Whether to print out the current state of the Turing machine\n",
    "        after each step.\n",
    "        \n",
    "    Returns\n",
    "    -------\n",
    "    The symbol being read by the Turing machine when it halted.\n",
    "        \n",
    "    \"\"\"\n",
    "    \n",
    "    # start in the intial state with the head over the first position\n",
    "    state = \"initial state\"\n",
    "    head = 0\n",
    "    action = \"\"\n",
    "    \n",
    "    # helper function to print out the current state of the\n",
    "    # Turing machine\n",
    "    def print_tape(tape, head, state):\n",
    "        print(\"state: \" + str(state))\n",
    "        tape = [str(x) if x != \"\" else \" \" for x in tape]\n",
    "        print(\" \".join(tape))\n",
    "        print((\" \" * head * 2) + \"^\")\n",
    "    \n",
    "    # don't actually loop forever, to prevent infinite for loops\n",
    "    for i in range(1000):\n",
    "        if verbose:\n",
    "            print_tape(tape, head, state)\n",
    "        \n",
    "        # run the next step of the program, which tells us the new\n",
    "        # state, the new symbol, and what action to take\n",
    "        state, tape[head], action = program(state, tape[head])\n",
    "        \n",
    "        # if the action is left, then make sure there is enough\n",
    "        # tape on the left size\n",
    "        if action == \"left\":\n",
    "            if head == 0:\n",
    "                tape.insert(0, \"\")\n",
    "            else:\n",
    "                head -= 1\n",
    "                \n",
    "        # if the action is right, then make sure there is enough\n",
    "        # tape on the right side\n",
    "        elif action == \"right\":\n",
    "            if head == (len(tape) - 1):\n",
    "                tape.append(\"\")\n",
    "            head += 1\n",
    "            \n",
    "        # if the action is halt, then stop\n",
    "        elif action == \"halt\":\n",
    "            break\n",
    "            \n",
    "        # unrecognized action\n",
    "        else:\n",
    "            raise ValueError(\"invalid action: \" + str(action))\n",
    "\n",
    "    if verbose:\n",
    "        print_tape(tape, head, state)\n",
    "\n",
    "    # return the last symbol\n",
    "    if i == 1000:\n",
    "        return None\n",
    "    else:\n",
    "        return tape[head]"
   ]
  },
  {
   "cell_type": "markdown",
   "metadata": {
    "deletable": false
   },
   "source": [
    "As an example of how to write a program for the `turing_machine` function, here is a simple Turing machine that detects if a string consists of all a's (i.e., $a^k$):"
   ]
  },
  {
   "cell_type": "code",
   "execution_count": 3,
   "metadata": {
    "deletable": false
   },
   "outputs": [],
   "source": [
    "def ak_program(state, symbol):\n",
    "    \"\"\"A program for a Turing machine, which computes whether a string\n",
    "    follows the form of a^k.\n",
    "\n",
    "    Halts on \"y\" if the string does follow the form a^k, and halts on \n",
    "    \"n\" if it does not.\n",
    "    \n",
    "    Parameters\n",
    "    ----------\n",
    "    state: string\n",
    "        The current state of the Turing machine\n",
    "    symbol: string\n",
    "        The symbol currently read by the Turing machine\n",
    "        \n",
    "    Returns\n",
    "    -------\n",
    "    3-tuple of (new state, new symbol, action)\n",
    "        The new state of the Turing machine, the symbol\n",
    "        that should be written to the current position, and the\n",
    "        action that should be taken after writing.\n",
    "    \n",
    "    \"\"\"\n",
    "    # The first state is always \"initial state\". If the symbol is \n",
    "    # \"a\", though, then we want to move right and continue looking \n",
    "    # for another \"a\".\n",
    "    if state == \"initial state\" and symbol == \"a\":\n",
    "        return (\"found a\", \"a\", \"right\")\n",
    "\n",
    "    # If the state is \"found a\", then we know there is an \"a\"\n",
    "    # directly to the left, so we want to verify that the current\n",
    "    # symbol is another \"a\". If it is, then we can continue\n",
    "    # moving right and looking for \"a\"s\n",
    "    elif state == \"found a\" and symbol == \"a\":\n",
    "        return (\"found a\", \"a\", \"right\")\n",
    "\n",
    "    # If the state is \"found a\", and there is no current symbol,\n",
    "    # then we know our string fits the bill.\n",
    "    elif state == \"found a\" and symbol == \"\":\n",
    "        return (\"found a\", \"y\", \"halt\")\n",
    "\n",
    "    # If the state/symbol is anything else, then this string does\n",
    "    # not follow the form of a^k\n",
    "    else:\n",
    "        return (state, \"n\", \"halt\")"
   ]
  },
  {
   "cell_type": "markdown",
   "metadata": {
    "deletable": false
   },
   "source": [
    "We can verify that this program does the right thing with a few test cases:"
   ]
  },
  {
   "cell_type": "code",
   "execution_count": 4,
   "metadata": {
    "deletable": false
   },
   "outputs": [
    {
     "name": "stdout",
     "output_type": "stream",
     "text": [
      "state: initial state\n",
      "a a a\n",
      "^\n",
      "state: found a\n",
      "a a a\n",
      "  ^\n",
      "state: found a\n",
      "a a a\n",
      "    ^\n",
      "state: found a\n",
      "a a a  \n",
      "      ^\n",
      "state: found a\n",
      "a a a y\n",
      "      ^\n"
     ]
    },
    {
     "data": {
      "text/plain": [
       "'y'"
      ]
     },
     "execution_count": 4,
     "metadata": {},
     "output_type": "execute_result"
    }
   ],
   "source": [
    "# string with all a's\n",
    "turing_machine(list(\"aaa\"), ak_program, verbose=True)"
   ]
  },
  {
   "cell_type": "code",
   "execution_count": 5,
   "metadata": {
    "deletable": false
   },
   "outputs": [
    {
     "name": "stdout",
     "output_type": "stream",
     "text": [
      "state: initial state\n",
      "a a b\n",
      "^\n",
      "state: found a\n",
      "a a b\n",
      "  ^\n",
      "state: found a\n",
      "a a b\n",
      "    ^\n",
      "state: found a\n",
      "a a n\n",
      "    ^\n"
     ]
    },
    {
     "data": {
      "text/plain": [
       "'n'"
      ]
     },
     "execution_count": 5,
     "metadata": {},
     "output_type": "execute_result"
    }
   ],
   "source": [
    "# string with some a's and some other symbols\n",
    "turing_machine(list(\"aab\"), ak_program, verbose=True)"
   ]
  },
  {
   "cell_type": "code",
   "execution_count": 6,
   "metadata": {
    "deletable": false
   },
   "outputs": [
    {
     "name": "stdout",
     "output_type": "stream",
     "text": [
      "state: initial state\n",
      "b\n",
      "^\n",
      "state: initial state\n",
      "n\n",
      "^\n"
     ]
    },
    {
     "data": {
      "text/plain": [
       "'n'"
      ]
     },
     "execution_count": 6,
     "metadata": {},
     "output_type": "execute_result"
    }
   ],
   "source": [
    "# string with no a's\n",
    "turing_machine(list(\"b\"), ak_program, verbose=True)"
   ]
  },
  {
   "cell_type": "code",
   "execution_count": 7,
   "metadata": {
    "deletable": false
   },
   "outputs": [
    {
     "name": "stdout",
     "output_type": "stream",
     "text": [
      "state: initial state\n",
      " \n",
      "^\n",
      "state: initial state\n",
      "n\n",
      "^\n"
     ]
    },
    {
     "data": {
      "text/plain": [
       "'n'"
      ]
     },
     "execution_count": 7,
     "metadata": {},
     "output_type": "execute_result"
    }
   ],
   "source": [
    "# no symbols at all\n",
    "turing_machine(list(\" \"), ak_program, verbose=True)"
   ]
  },
  {
   "cell_type": "markdown",
   "metadata": {
    "deletable": false
   },
   "source": [
    "---\n",
    "\n",
    "## Part B (0.5 points)"
   ]
  },
  {
   "cell_type": "markdown",
   "metadata": {
    "deletable": false
   },
   "source": [
    "<div class=\"alert alert-success\">\n",
    "As a warmup, write code to implement a simple Turing machine that detects whether a string consists of some number of $a$'s followed by some (not necessarily the same) number of $b$'s.\n",
    "</div>"
   ]
  },
  {
   "cell_type": "code",
   "execution_count": 8,
   "metadata": {
    "deletable": false,
    "nbgrader": {
     "checksum": "d84560a5d92b0a948edf8b4579a7ecf0",
     "grade": false,
     "grade_id": "akbm_program",
     "locked": false,
     "schema_version": 1,
     "solution": true
    }
   },
   "outputs": [],
   "source": [
    "def akbm_program(state, symbol):\n",
    "    \"\"\"A program for a Turing machine, which computes whether a string\n",
    "    follows the form of a^k b^m.\n",
    "\n",
    "    You should assume that the machine starts in the state \"initial state\",\n",
    "    and that it begins on the leftmost character of the string. Your Turing\n",
    "    machine should halt on the character \"y\" if the string does follow the\n",
    "    form of a^k b^m, and \"n\" otherwise.\n",
    "\n",
    "    Hint: you can do this using only three states (including the initial state)\n",
    "    \n",
    "    Parameters\n",
    "    ----------\n",
    "    state: string\n",
    "        The current state of the Turing machine\n",
    "    symbol: string\n",
    "        The symbol currently read by the Turing machine\n",
    "        \n",
    "    Returns\n",
    "    -------\n",
    "    3-tuple of (new state, new symbol, action)\n",
    "        The new state of the Turing machine, the symbol\n",
    "        that should be written to the current position, and the\n",
    "        action that should be taken after writing.\n",
    "    \n",
    "    \"\"\"\n",
    "    \n",
    "    if state == \"initial state\":\n",
    "        if symbol == \"\":\n",
    "            return (\"a\", \"n\", \"halt\")\n",
    "        if symbol == \"a\":\n",
    "            return (\"a\", \"a\", \"right\")\n",
    "        if symbol == \"b\":\n",
    "            return (\"b\", \"n\", \"halt\")\n",
    "    \n",
    "    if state == \"a\":\n",
    "        if symbol == \"\":\n",
    "            return (\"a\", \"n\", \"halt\")\n",
    "        if symbol == \"a\":\n",
    "            return (\"a\", \"a\", \"right\")\n",
    "        elif symbol == \"b\":\n",
    "            return (\"b\", \"b\", \"right\")\n",
    "    \n",
    "    if state == \"b\":\n",
    "        if symbol == \"\":\n",
    "            return (\"b\", \"y\", \"halt\")\n",
    "        if symbol == \"a\":\n",
    "            return (\"b\", \"n\", \"halt\")\n",
    "        elif symbol == \"b\":\n",
    "            return (\"b\", \"b\", \"right\")    \n",
    "        \n",
    "    else:\n",
    "        return (state, \"n\", \"halt\")"
   ]
  },
  {
   "cell_type": "markdown",
   "metadata": {
    "deletable": false
   },
   "source": [
    "You can use the provided `turing_machine` function to see what your program halts on for a given input. For example:"
   ]
  },
  {
   "cell_type": "code",
   "execution_count": 9,
   "metadata": {
    "deletable": false
   },
   "outputs": [
    {
     "data": {
      "text/plain": [
       "'n'"
      ]
     },
     "execution_count": 9,
     "metadata": {},
     "output_type": "execute_result"
    }
   ],
   "source": [
    "turing_machine([\"b\", \"a\"], akbm_program)"
   ]
  },
  {
   "cell_type": "markdown",
   "metadata": {
    "deletable": false
   },
   "source": [
    "You may find it useful to try out various inputs using the `verbose` flag, to see what the state of the Turing machine is at each step:"
   ]
  },
  {
   "cell_type": "code",
   "execution_count": 10,
   "metadata": {
    "deletable": false
   },
   "outputs": [
    {
     "name": "stdout",
     "output_type": "stream",
     "text": [
      "state: initial state\n",
      "a b\n",
      "^\n",
      "state: a\n",
      "a b\n",
      "  ^\n",
      "state: b\n",
      "a b  \n",
      "    ^\n",
      "state: b\n",
      "a b y\n",
      "    ^\n"
     ]
    },
    {
     "data": {
      "text/plain": [
       "'y'"
      ]
     },
     "execution_count": 10,
     "metadata": {},
     "output_type": "execute_result"
    }
   ],
   "source": [
    "turing_machine([\"a\", \"b\"], akbm_program, verbose=True)"
   ]
  },
  {
   "cell_type": "code",
   "execution_count": 11,
   "metadata": {
    "deletable": false
   },
   "outputs": [],
   "source": [
    "# add your own test cases here!\n"
   ]
  },
  {
   "cell_type": "code",
   "execution_count": 12,
   "metadata": {
    "deletable": false,
    "nbgrader": {
     "checksum": "a0bbda399b7260a8c5f47eee82baded2",
     "grade": true,
     "grade_id": "test_anbm_program",
     "locked": false,
     "points": 0.5,
     "schema_version": 1,
     "solution": false
    }
   },
   "outputs": [
    {
     "name": "stdout",
     "output_type": "stream",
     "text": [
      "Success!\n"
     ]
    }
   ],
   "source": [
    "\"\"\"Test that anbm_program halts on the correct symbols for various inputs.\"\"\"\n",
    "from nose.tools import assert_equal, assert_less_equal\n",
    "assert_equal(turing_machine(list(\" \"), akbm_program), 'n')\n",
    "assert_equal(turing_machine(list(\"ab\"), akbm_program), 'y')\n",
    "assert_equal(turing_machine(list(\"a\"), akbm_program), 'n')\n",
    "assert_equal(turing_machine(list(\"b\"), akbm_program), 'n')\n",
    "assert_equal(turing_machine(list(\"ba\"), akbm_program), 'n')\n",
    "assert_equal(turing_machine(list(\"aba\"), akbm_program), 'n')\n",
    "assert_equal(turing_machine(list(\"abb\"), akbm_program), 'y')\n",
    "assert_equal(turing_machine(list(\"aaabb\"), akbm_program), 'y')\n",
    "assert_equal(turing_machine(list(\"aabb\"), akbm_program), 'y')\n",
    "assert_equal(turing_machine(list(\"abab\"), akbm_program), 'n')\n",
    "assert_equal(turing_machine(list(\"aaaaaabbbb\"), akbm_program), 'y')\n",
    "assert_equal(turing_machine(list(\"aaaaaabbbbbb\"), akbm_program), 'y')\n",
    "assert_equal(turing_machine(list(\"aaaaaabbbbbbbb\"), akbm_program), 'y')\n",
    "\n",
    "# check that a finite number of states is used\n",
    "import turing_machine_helper as tmh\n",
    "assert_equal(turing_machine(list(\"a\" * 5 + \"b\" * 5), akbm_program), 'y')\n",
    "assert_equal(turing_machine(list(\"a\" * 10 + \"b\" * 10), akbm_program), 'y')\n",
    "states1 = tmh.turing_machine(list(\"a\" * 5 + \"b\" * 5), akbm_program, return_states=True)\n",
    "states2 = tmh.turing_machine(list(\"a\" * 10 + \"b\" * 10), akbm_program, return_states=True)\n",
    "assert_equal(states1, states2, \"number of states changes with input size\")\n",
    "assert_less_equal(len(states2), 20, \"too many states\")\n",
    "\n",
    "print(\"Success!\")"
   ]
  },
  {
   "cell_type": "markdown",
   "metadata": {
    "deletable": false
   },
   "source": [
    "---\n",
    "\n",
    "## Part C (1.5 points)"
   ]
  },
  {
   "cell_type": "markdown",
   "metadata": {
    "deletable": false
   },
   "source": [
    "<div class=\"alert alert-success\">\n",
    "Let's do something a little more difficult. Now, write a program that can determine whether a string is of the form $a^kb^k$. Note that this time the number of $a$'s and $b$'s must the the same.\n",
    "</div>"
   ]
  },
  {
   "cell_type": "markdown",
   "metadata": {
    "deletable": false
   },
   "source": [
    "<div class=\"alert alert-warning\">\n",
    "As a hint, recall that a Turing Machine can replace the symbol currently being read with a new value -- this can be useful if you want to mark the location of particular symbols in your input sequence\n",
    "</div>"
   ]
  },
  {
   "cell_type": "code",
   "execution_count": 13,
   "metadata": {
    "deletable": false,
    "nbgrader": {
     "checksum": "8e267c2bbd33546ec4d41ecc58097e13",
     "grade": false,
     "grade_id": "akbk_program",
     "locked": false,
     "schema_version": 1,
     "solution": true
    }
   },
   "outputs": [],
   "source": [
    "def akbk_program(state, symbol):\n",
    "    \"\"\"A program for a Turing machine, which computes whether a string\n",
    "    follows the form of a^k b^k.\n",
    "\n",
    "    Halts on \"y\" if the string does follow the form a^k b^k, and halts on \n",
    "    \"n\" if it does not.\n",
    "\n",
    "    Hint: you can do this in 5 states (including the initial state). You\n",
    "    may want to introduce a new symbol beyond just \"a\", \"b\", \"y\", and \"n\".\n",
    "    \n",
    "    Parameters\n",
    "    ----------\n",
    "    state: string\n",
    "        The current state of the Turing machine\n",
    "    symbol: string\n",
    "        The symbol currently read by the Turing machine\n",
    "        \n",
    "    Returns\n",
    "    -------\n",
    "    3-tuple of (new state, new symbol, action)\n",
    "        The new state of the Turing machine, the symbol\n",
    "        that should be written to the current position, and the\n",
    "        action that should be taken after writing.\n",
    "    \n",
    "    \"\"\"\n",
    "    mark_a = \"ma\"\n",
    "    mark_b = \"mb\"\n",
    "    i = \"initial state\"\n",
    "\n",
    "    if state == i:\n",
    "        if symbol == \"a\":\n",
    "            return (\"Find B\", mark_a, \"right\")\n",
    "        else:\n",
    "            return (i, \"n\", \"halt\")\n",
    "    \n",
    "    if state == \"Find B\":\n",
    "        if symbol == \"a\":\n",
    "            return (\"Find B\", \"a\", \"right\")        \n",
    "        if symbol == \"b\":\n",
    "            return (\"Find A\", mark_b, \"left\")\n",
    "        if symbol == \"\":\n",
    "            return (\"Find B\", \"n\", \"halt\")\n",
    "        if symbol == mark_b:\n",
    "            return (\"Find B\", mark_b, \"right\")\n",
    "        if symbol == mark_a:\n",
    "            return (\"Find B\", mark_a, \"right\")\n",
    "    \n",
    "    if state == \"Find A\":\n",
    "        if symbol == \"b\":\n",
    "            return (\"Find A\", \"b\", \"left\")        \n",
    "        if symbol == \"a\":\n",
    "            return (\"Find B\", mark_a, \"right\")\n",
    "        if symbol == \"\":\n",
    "            return (\"runthru\", \"\", \"right\")\n",
    "        if symbol == mark_b:\n",
    "            return (\"Find A\", mark_b, \"left\")\n",
    "        if symbol == mark_a:\n",
    "            return (\"Find A\", mark_a, \"left\")\n",
    "    \n",
    "    if state == \"runthru\":\n",
    "        if symbol == \"a\" or symbol == \"b\":\n",
    "            return (\"runthru\", \"n\", \"halt\")\n",
    "        elif symbol == mark_a:\n",
    "            return (\"runthru\", mark_a, \"right\")\n",
    "        elif symbol == mark_b:\n",
    "            return (\"runthru\", mark_b, \"right\")\n",
    "        else:\n",
    "            return (\"runthru\", \"y\", \"halt\")\n",
    "    "
   ]
  },
  {
   "cell_type": "markdown",
   "metadata": {
    "deletable": false
   },
   "source": [
    "As before, you will probably find it useful to play around with different inputs with the `verbose` option set to `True`, to see what the Turing machine is doing at each step:"
   ]
  },
  {
   "cell_type": "code",
   "execution_count": 14,
   "metadata": {
    "deletable": false
   },
   "outputs": [
    {
     "name": "stdout",
     "output_type": "stream",
     "text": [
      "state: initial state\n",
      "a a b b\n",
      "^\n",
      "state: Find B\n",
      "ma a b b\n",
      "  ^\n",
      "state: Find B\n",
      "ma a b b\n",
      "    ^\n",
      "state: Find A\n",
      "ma a mb b\n",
      "  ^\n",
      "state: Find B\n",
      "ma ma mb b\n",
      "    ^\n",
      "state: Find B\n",
      "ma ma mb b\n",
      "      ^\n",
      "state: Find A\n",
      "ma ma mb mb\n",
      "    ^\n",
      "state: Find A\n",
      "ma ma mb mb\n",
      "  ^\n",
      "state: Find A\n",
      "ma ma mb mb\n",
      "^\n",
      "state: Find A\n",
      "  ma ma mb mb\n",
      "^\n",
      "state: runthru\n",
      "  ma ma mb mb\n",
      "  ^\n",
      "state: runthru\n",
      "  ma ma mb mb\n",
      "    ^\n",
      "state: runthru\n",
      "  ma ma mb mb\n",
      "      ^\n",
      "state: runthru\n",
      "  ma ma mb mb\n",
      "        ^\n",
      "state: runthru\n",
      "  ma ma mb mb  \n",
      "          ^\n",
      "state: runthru\n",
      "  ma ma mb mb y\n",
      "          ^\n"
     ]
    },
    {
     "data": {
      "text/plain": [
       "'y'"
      ]
     },
     "execution_count": 14,
     "metadata": {},
     "output_type": "execute_result"
    }
   ],
   "source": [
    "turing_machine([\"a\", \"a\", \"b\", \"b\"], akbk_program, verbose=True)"
   ]
  },
  {
   "cell_type": "code",
   "execution_count": 15,
   "metadata": {
    "deletable": false
   },
   "outputs": [],
   "source": [
    "# add your own test cases here!\n"
   ]
  },
  {
   "cell_type": "code",
   "execution_count": 16,
   "metadata": {
    "deletable": false,
    "nbgrader": {
     "checksum": "3fee2785856168b72d4242ec36a0ffc1",
     "grade": true,
     "grade_id": "test_akbk_program",
     "locked": false,
     "points": 1.5,
     "schema_version": 1,
     "solution": false
    }
   },
   "outputs": [
    {
     "name": "stdout",
     "output_type": "stream",
     "text": [
      "Success!\n"
     ]
    }
   ],
   "source": [
    "\"\"\"Test that the akbk_program halts on the correct symbols for various inputs.\"\"\"\n",
    "from nose.tools import assert_equal, assert_less_equal\n",
    "assert_equal(turing_machine(list(\" \"), akbk_program), 'n')\n",
    "assert_equal(turing_machine(list(\"ab\"), akbk_program), 'y')\n",
    "assert_equal(turing_machine(list(\"a\"), akbk_program), 'n')\n",
    "assert_equal(turing_machine(list(\"b\"), akbk_program), 'n')\n",
    "assert_equal(turing_machine(list(\"ba\"), akbk_program), 'n')\n",
    "assert_equal(turing_machine(list(\"aba\"), akbk_program), 'n')\n",
    "assert_equal(turing_machine(list(\"abb\"), akbk_program), 'n')\n",
    "assert_equal(turing_machine(list(\"aaabb\"), akbk_program), 'n')\n",
    "assert_equal(turing_machine(list(\"aabb\"), akbk_program), 'y')\n",
    "assert_equal(turing_machine(list(\"abab\"), akbk_program), 'n')\n",
    "assert_equal(turing_machine(list(\"aaaaaabbbb\"), akbk_program), 'n')\n",
    "assert_equal(turing_machine(list(\"aaaaaabbbbbb\"), akbk_program), 'y')\n",
    "assert_equal(turing_machine(list(\"aaaaaabbbbbbbb\"), akbk_program), 'n')\n",
    "\n",
    "# check that a finite number of states is used\n",
    "import turing_machine_helper as tmh\n",
    "assert_equal(turing_machine(list(\"a\" * 5 + \"b\" * 5), akbk_program), 'y')\n",
    "assert_equal(turing_machine(list(\"a\" * 10 + \"b\" * 10), akbk_program), 'y')\n",
    "states1 = tmh.turing_machine(list(\"a\" * 5 + \"b\" * 5), akbk_program, return_states=True)\n",
    "states2 = tmh.turing_machine(list(\"a\" * 10 + \"b\" * 10), akbk_program, return_states=True)\n",
    "assert_equal(states1, states2, \"number of states changes with input size\")\n",
    "assert_less_equal(len(states2), 20, \"too many states\")\n",
    "\n",
    "print(\"Success!\")"
   ]
  },
  {
   "cell_type": "markdown",
   "metadata": {
    "deletable": false
   },
   "source": [
    "---\n",
    "\n",
    "## Part D (2 points)"
   ]
  },
  {
   "cell_type": "markdown",
   "metadata": {
    "deletable": false
   },
   "source": [
    "<div class=\"alert alert-success\">\n",
    "Based off of your previous Turing machine, construct a new Turing machine that now determines whether a string is of the form $a^kb^kc^k$. Note that now there are <i>three</i> symbols you must account for, and there must be exactly the same number of each of them.\n",
    "</div>"
   ]
  },
  {
   "cell_type": "code",
   "execution_count": 17,
   "metadata": {
    "deletable": false,
    "nbgrader": {
     "checksum": "29c790bf04d9656e1e9fa6818ef73117",
     "grade": false,
     "grade_id": "akbkck_program",
     "locked": false,
     "schema_version": 1,
     "solution": true
    }
   },
   "outputs": [],
   "source": [
    "def akbkck_program(state, symbol):\n",
    "    \"\"\"A program for a Turing machine, which computes whether a string\n",
    "    follows the form of a^k b^k c^k.\n",
    "\n",
    "    Halts on \"y\" if the string does follow the form a^k b^k c^k, and halts\n",
    "    on \"n\" if it does not.\n",
    "\n",
    "    Hint: you can do this in 6 states, including the initial state. You may\n",
    "    want to introduce more symbols beyond just \"a\", \"b\", \"y\", and \"n\".\n",
    "    \n",
    "    Parameters\n",
    "    ----------\n",
    "    state: string\n",
    "        The current state of the Turing machine\n",
    "    symbol: string\n",
    "        The symbol currently read by the Turing machine\n",
    "        \n",
    "    Returns\n",
    "    -------\n",
    "    3-tuple of (new state, new symbol, action)\n",
    "        The new state of the Turing machine, the symbol\n",
    "        that should be written to the current position, and the\n",
    "        action that should be taken after writing.\n",
    "    \n",
    "    \"\"\"\n",
    "    mark_a = \"ma\"\n",
    "    mark_b = \"mb\"\n",
    "    mark_c = \"mc\"\n",
    "    i = \"initial state\"\n",
    "\n",
    "    if state == i:\n",
    "        if symbol == \"a\":\n",
    "            return (\"Find B\", mark_a, \"right\")\n",
    "        else:\n",
    "            return (i, \"n\", \"halt\")\n",
    "    \n",
    "    if state == \"Find B\":\n",
    "        if symbol == \"b\":\n",
    "            return (\"Find C\", mark_b, \"right\")\n",
    "        if symbol == \"\":\n",
    "            return (\"Find B\", \"n\", \"halt\")\n",
    "        if symbol == \"c\":\n",
    "            return (\"Find B\", \"n\", \"halt\")\n",
    "        else:\n",
    "            return (\"Find B\", symbol, \"right\")\n",
    "        \n",
    "    if state == \"Find C\":\n",
    "        if symbol == \"c\":\n",
    "            return (\"Find A\", mark_c, \"left\")\n",
    "        if symbol == \"\":\n",
    "            return (\"Find C\", \"n\", \"halt\")\n",
    "        else:\n",
    "            return (\"Find C\", symbol, \"right\")\n",
    "        \n",
    "    if state == \"Find A\":\n",
    "        if symbol == \"\":\n",
    "            return (\"Runthru\", symbol, \"right\")\n",
    "        if symbol == \"a\":\n",
    "            return (\"Find B\", mark_a, \"right\")\n",
    "        if symbol != \"a\":\n",
    "            return (\"Find A\", symbol, \"left\")\n",
    "    \n",
    "    if state == \"Runthru\":\n",
    "        if symbol == \"\":\n",
    "            return (\"Runthru\", \"y\", \"halt\")\n",
    "        if (symbol != mark_a) and (symbol != mark_b) and (symbol != mark_c):\n",
    "            return (\"Runthru\", \"n\", \"halt\")\n",
    "        if symbol != \"\":\n",
    "            return (\"Runthru\", symbol, \"right\")\n",
    "        \n",
    "        \n",
    "            \n",
    "    \n",
    "    \n",
    "    "
   ]
  },
  {
   "cell_type": "code",
   "execution_count": 18,
   "metadata": {
    "deletable": false
   },
   "outputs": [
    {
     "name": "stdout",
     "output_type": "stream",
     "text": [
      "state: initial state\n",
      "a b c\n",
      "^\n",
      "state: Find B\n",
      "ma b c\n",
      "  ^\n",
      "state: Find C\n",
      "ma mb c\n",
      "    ^\n",
      "state: Find A\n",
      "ma mb mc\n",
      "  ^\n",
      "state: Find A\n",
      "ma mb mc\n",
      "^\n",
      "state: Find A\n",
      "  ma mb mc\n",
      "^\n",
      "state: Runthru\n",
      "  ma mb mc\n",
      "  ^\n",
      "state: Runthru\n",
      "  ma mb mc\n",
      "    ^\n",
      "state: Runthru\n",
      "  ma mb mc\n",
      "      ^\n",
      "state: Runthru\n",
      "  ma mb mc  \n",
      "        ^\n",
      "state: Runthru\n",
      "  ma mb mc y\n",
      "        ^\n"
     ]
    },
    {
     "data": {
      "text/plain": [
       "'y'"
      ]
     },
     "execution_count": 18,
     "metadata": {},
     "output_type": "execute_result"
    }
   ],
   "source": [
    "turing_machine([\"a\", \"b\", \"c\"], akbkck_program, verbose=True)"
   ]
  },
  {
   "cell_type": "code",
   "execution_count": 19,
   "metadata": {
    "deletable": false
   },
   "outputs": [],
   "source": [
    "# add your own test cases here!\n"
   ]
  },
  {
   "cell_type": "code",
   "execution_count": 20,
   "metadata": {
    "deletable": false,
    "nbgrader": {
     "checksum": "aa8a7247740718b598a9155b22ed5d2e",
     "grade": true,
     "grade_id": "test_akbkck_program",
     "locked": false,
     "points": 2,
     "schema_version": 1,
     "solution": false
    }
   },
   "outputs": [
    {
     "name": "stdout",
     "output_type": "stream",
     "text": [
      "Success!\n"
     ]
    }
   ],
   "source": [
    "\"\"\"Test that the akbkck_program halts on the correct symbols for various inputs.\"\"\"\n",
    "from nose.tools import assert_equal, assert_less_equal\n",
    "assert_equal(turing_machine(list(\" \"), akbkck_program), 'n')\n",
    "assert_equal(turing_machine(list(\"a\"), akbkck_program), 'n')\n",
    "assert_equal(turing_machine(list(\"b\"), akbkck_program), 'n')\n",
    "assert_equal(turing_machine(list(\"c\"), akbkck_program), 'n')\n",
    "assert_equal(turing_machine(list(\"abc\"), akbkck_program), 'y')\n",
    "assert_equal(turing_machine(list(\"cba\"), akbkck_program), 'n')\n",
    "assert_equal(turing_machine(list(\"bca\"), akbkck_program), 'n')\n",
    "assert_equal(turing_machine(list(\"acb\"), akbkck_program), 'n')\n",
    "assert_equal(turing_machine(list(\"abcabc\"), akbkck_program), 'n')\n",
    "assert_equal(turing_machine(list(\"aabc\"), akbkck_program), 'n')\n",
    "assert_equal(turing_machine(list(\"abbc\"), akbkck_program), 'n')\n",
    "assert_equal(turing_machine(list(\"abcc\"), akbkck_program), 'n')\n",
    "assert_equal(turing_machine(list(\"aaaabbbbcccc\"), akbkck_program), 'y')\n",
    "assert_equal(turing_machine(list(\"aaaabbbbccc\"), akbkck_program), 'n')\n",
    "assert_equal(turing_machine(list(\"aaabbbbcccc\"), akbkck_program), 'n')\n",
    "assert_equal(turing_machine(list(\"aaaabbbcccc\"), akbkck_program), 'n')\n",
    "assert_equal(turing_machine(list(\"aaaaabbbbbccccc\"), akbkck_program), 'y')\n",
    "\n",
    "# check that a finite number of states is used\n",
    "import turing_machine_helper as tmh\n",
    "assert_equal(turing_machine(list(\"a\" * 5 + \"b\" * 5 + \"c\" * 5), akbkck_program), 'y')\n",
    "assert_equal(turing_machine(list(\"a\" * 10 + \"b\" * 10 + \"c\" * 10), akbkck_program), 'y')\n",
    "states1 = tmh.turing_machine(list(\"a\" * 5 + \"b\" * 5 + \"c\" * 5), akbkck_program, return_states=True)\n",
    "states2 = tmh.turing_machine(list(\"a\" * 10 + \"b\" * 10 + \"c\" * 10), akbkck_program, return_states=True)\n",
    "assert_equal(states1, states2, \"number of states changes with input size\")\n",
    "assert_less_equal(len(states2), 20, \"too many states\")\n",
    "\n",
    "print(\"Success!\")"
   ]
  },
  {
   "cell_type": "markdown",
   "metadata": {
    "deletable": false
   },
   "source": [
    "---\n",
    "## Part E (1 point)"
   ]
  },
  {
   "cell_type": "markdown",
   "metadata": {
    "deletable": false
   },
   "source": [
    "In this problem, you wrote three Turing machines which could detect strings of the following forms:\n",
    "\n",
    "* $a^k b^m$\n",
    "* $a^k b^k$\n",
    "* $a^k b^k c^k$"
   ]
  },
  {
   "cell_type": "markdown",
   "metadata": {
    "deletable": false
   },
   "source": [
    "<div class=\"alert alert-success\">At what level of the Chomsky hierarchy are each of these languages? How are they related to <i>computable languages</i>, which are the ones that Turing machines can recognize?</div>"
   ]
  },
  {
   "cell_type": "markdown",
   "metadata": {
    "deletable": false,
    "nbgrader": {
     "checksum": "3da988cde9c878b2f44518b0d514fc51",
     "grade": true,
     "grade_id": "part_e",
     "locked": false,
     "points": 1,
     "schema_version": 1,
     "solution": true
    }
   },
   "source": [
    "$a^k b^m$ is a regular language or type 3. $a^k b^k$ is a context free language or type 2. $a^k b^k c^k$ is a context sensitive language or type 1. They are all related to computable language in the sense that they are each subsets of a computable language and a Turing Machine can recognize them, but computable languages are much more complex and are recursively ennumerable languages—meaning there are no restrictions on the number of rules the language can have."
   ]
  },
  {
   "cell_type": "markdown",
   "metadata": {
    "deletable": false,
    "nbgrader": {}
   },
   "source": [
    "---"
   ]
  },
  {
   "cell_type": "markdown",
   "metadata": {
    "deletable": false,
    "nbgrader": {}
   },
   "source": [
    "Before turning this problem in remember to do the following steps:\n",
    "\n",
    "1. **Restart the kernel** (Kernel$\\rightarrow$Restart)\n",
    "2. **Run all cells** (Cell$\\rightarrow$Run All)\n",
    "3. **Save** (File$\\rightarrow$Save and Checkpoint)"
   ]
  },
  {
   "cell_type": "markdown",
   "metadata": {
    "deletable": false,
    "nbgrader": {
     "cell_type": "release"
    }
   },
   "source": [
    "<div class=\"alert alert-danger\">After you have completed these three steps, ensure that the following cell has printed \"No errors\". If it has <b>not</b> printed \"No errors\", then your code has a bug in it and has thrown an error! Make sure you fix this error before turning in your problem set.</div>"
   ]
  },
  {
   "cell_type": "code",
   "execution_count": 21,
   "metadata": {
    "deletable": false,
    "nbgrader": {}
   },
   "outputs": [
    {
     "name": "stdout",
     "output_type": "stream",
     "text": [
      "No errors!\n"
     ]
    }
   ],
   "source": [
    "print(\"No errors!\")"
   ]
  }
 ],
 "metadata": {
  "kernelspec": {
   "display_name": "Python 3",
   "language": "python",
   "name": "python3"
  },
  "language_info": {
   "codemirror_mode": {
    "name": "ipython",
    "version": 3
   },
   "file_extension": ".py",
   "mimetype": "text/x-python",
   "name": "python",
   "nbconvert_exporter": "python",
   "pygments_lexer": "ipython3",
   "version": "3.6.1"
  }
 },
 "nbformat": 4,
 "nbformat_minor": 1
}
