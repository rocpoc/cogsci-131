{
 "cells": [
  {
   "cell_type": "markdown",
   "metadata": {
    "deletable": false,
    "nbgrader": {
     "cell_type": "release"
    }
   },
   "source": [
    "Make sure you fill in any place that says `YOUR CODE HERE` or \"YOUR ANSWER HERE\", as well as your collaborators below:"
   ]
  },
  {
   "cell_type": "code",
   "execution_count": 1,
   "metadata": {
    "deletable": false,
    "nbgrader": {
     "cell_type": "release"
    }
   },
   "outputs": [],
   "source": [
    "COLLABORATORS = \"\""
   ]
  },
  {
   "cell_type": "markdown",
   "metadata": {
    "deletable": false,
    "nbgrader": {}
   },
   "source": [
    "---"
   ]
  },
  {
   "cell_type": "code",
   "execution_count": 2,
   "metadata": {
    "deletable": false
   },
   "outputs": [],
   "source": [
    "%matplotlib inline\n",
    "import numpy as np\n",
    "import matplotlib.pyplot as plt\n",
    "\n",
    "# special imports for computing mds and dendrograms\n",
    "from representations import mds, plot_dendrogram"
   ]
  },
  {
   "cell_type": "markdown",
   "metadata": {
    "deletable": false
   },
   "source": [
    "In this problem, we will explore the MDS (Multi-Dimensional Scaling) algorithm, which is is a procedure for transforming an array of pairwise distances back into the points that generated them. MDS has additionally been used by cognitive scientists to create spatial representations of the similarities among a set of stimuli."
   ]
  },
  {
   "cell_type": "markdown",
   "metadata": {
    "deletable": false
   },
   "source": [
    "---\n",
    "## Part A (1 point)"
   ]
  },
  {
   "cell_type": "markdown",
   "metadata": {
    "deletable": false
   },
   "source": [
    "Alyssa P. Hacker and Ben Bitdiddle are playing a game. Ben thinks of a shape, and then finds the distances between all the vertices of the shape. He then tells Alyssa what the distances between the vertices are, and Alyssa has to guess what the shape is. To begin, Ben gives Alyssa the following pairwise distances:"
   ]
  },
  {
   "cell_type": "code",
   "execution_count": 3,
   "metadata": {
    "deletable": false
   },
   "outputs": [
    {
     "data": {
      "text/plain": [
       "array([[ 0.        ,  1.41460942,  3.73533076,  3.87653275,  1.56487081,\n",
       "         0.44290686,  1.57879807,  2.48820976,  1.76912434,  0.52183108],\n",
       "       [ 1.41460942,  0.        ,  1.38455232,  3.55283339,  3.73107995,\n",
       "         0.41997598,  0.37901174,  1.63843624,  2.38032639,  1.66237917],\n",
       "       [ 3.73533076,  1.38455232,  0.        ,  1.2436466 ,  3.61609586,\n",
       "         1.64683317,  0.48404899,  0.42033858,  1.58202263,  2.31082687],\n",
       "       [ 3.87653275,  3.55283339,  1.2436466 ,  0.        ,  1.47740542,\n",
       "         2.41698011,  1.62227382,  0.37433128,  0.44797643,  1.62240421],\n",
       "       [ 1.56487081,  3.73107995,  3.61609586,  1.47740542,  0.        ,\n",
       "         1.71490194,  2.36399763,  1.6097853 ,  0.4331262 ,  0.43317642],\n",
       "       [ 0.44290686,  0.41997598,  1.64683317,  2.41698011,  1.71490194,\n",
       "         0.        ,  0.35382313,  1.07937493,  1.08662342,  0.42792882],\n",
       "       [ 1.57879807,  0.37901174,  0.48404899,  1.62227382,  2.36399763,\n",
       "         0.35382313,  0.        ,  0.44261487,  1.03862746,  0.97881196],\n",
       "       [ 2.48820976,  1.63843624,  0.42033858,  0.37433128,  1.6097853 ,\n",
       "         1.07937493,  0.44261487,  0.        ,  0.37803858,  0.99674373],\n",
       "       [ 1.76912434,  2.38032639,  1.58202263,  0.44797643,  0.4331262 ,\n",
       "         1.08662342,  1.03862746,  0.37803858,  0.        ,  0.37825831],\n",
       "       [ 0.52183108,  1.66237917,  2.31082687,  1.62240421,  0.43317642,\n",
       "         0.42792882,  0.97881196,  0.99674373,  0.37825831,  0.        ]])"
      ]
     },
     "execution_count": 3,
     "metadata": {},
     "output_type": "execute_result"
    }
   ],
   "source": [
    "shape_data = np.load(\"data/shape.npy\")\n",
    "shape_data"
   ]
  },
  {
   "cell_type": "markdown",
   "metadata": {
    "deletable": false
   },
   "source": [
    "Alyssa knows that just by looking at the distances between the points, she can't tell what the shape originally was. However, Alyssa took CogSci 131 and therefore also knows that she can use the MDS (Multi-Dimensional Scaling) algorithm to transform these distances into points.\n",
    "\n",
    "We have provided you with a function, `mds`, which performs the MDS algorithm. Look at the documentation for the function to figure out how to call it:"
   ]
  },
  {
   "cell_type": "code",
   "execution_count": 4,
   "metadata": {
    "deletable": false
   },
   "outputs": [],
   "source": [
    "mds??"
   ]
  },
  {
   "cell_type": "markdown",
   "metadata": {
    "deletable": false
   },
   "source": [
    "<div class=\"alert alert-success\">Then, in the following cell, write code to perform MDS on the shape data that Ben gave Alyssa. Save the output of the MDS algorithm into a variable called `shape_points`, and then plot the points as black dots. Make sure you include a title for your plot. Additionally, set the axis limits to `[-1, 1]` for both the x-axis and the y-axis. Your solution can be done in 5 lines of code.</div>"
   ]
  },
  {
   "cell_type": "markdown",
   "metadata": {
    "deletable": false
   },
   "source": [
    "_Hint:_ For a quick refresher on constructing plots with matplotlib, take a look at the Problem Set 0 notebook \"Manipulating and Plotting Data\" or the tutorial [here](http://nbviewer.ipython.org/github/jrjohansson/scientific-python-lectures/blob/master/Lecture-4-Matplotlib.ipynb)."
   ]
  },
  {
   "cell_type": "code",
   "execution_count": 5,
   "metadata": {
    "deletable": false,
    "nbgrader": {
     "checksum": "866a27b1a7ecad57d93e9f22acc27963",
     "grade": false,
     "grade_id": "shape_plot",
     "locked": false,
     "schema_version": 1,
     "solution": true
    }
   },
   "outputs": [
    {
     "data": {
      "text/plain": [
       "[<matplotlib.lines.Line2D at 0x7f092f800f98>]"
      ]
     },
     "execution_count": 5,
     "metadata": {},
     "output_type": "execute_result"
    },
    {
     "data": {
      "image/png": "[encoded data removed]",
      "text/plain": [
       "<matplotlib.figure.Figure at 0x7f09329f8668>"
      ]
     },
     "metadata": {},
     "output_type": "display_data"
    }
   ],
   "source": [
    "# load the data\n",
    "shape_data = np.load(\"data/shape.npy\")\n",
    "\n",
    "# create the figure\n",
    "fig, axis = plt.subplots()\n",
    "\n",
    "# YOUR CODE HERE\n",
    "shape_points = mds(shape_data)\n",
    "axis.set_title(\"MDS\")\n",
    "axis.set_ylim([-1, 1])\n",
    "axis.set_xlim([-1, 1])\n",
    "axis.plot([x[0] for x in shape_points], [y[1] for y in shape_points], \"ko\")"
   ]
  },
  {
   "cell_type": "code",
   "execution_count": 6,
   "metadata": {
    "deletable": false,
    "nbgrader": {
     "checksum": "1d23565a37042028ee16d96e650fc6a1",
     "grade": true,
     "grade_id": "check_shape_plot",
     "locked": false,
     "points": 0.15,
     "schema_version": 1,
     "solution": false
    }
   },
   "outputs": [
    {
     "name": "stdout",
     "output_type": "stream",
     "text": [
      "Success!\n"
     ]
    }
   ],
   "source": [
    "\"\"\"Check that MDS was correctly used on the shape data and that the points were plotted.\"\"\"\n",
    "from numpy.testing import assert_array_equal, assert_almost_equal\n",
    "from nose.tools import assert_equal, assert_not_equal\n",
    "from plotchecker import ScatterPlotChecker\n",
    "\n",
    "# check that shape_data hasn't changed\n",
    "assert_array_equal(shape_data, np.load(\"data/shape.npy\"))\n",
    "\n",
    "# check that shape points has the correct shape and type\n",
    "assert_equal(shape_points.shape, (10, 2), \"incorrect shape of shape_points\")\n",
    "assert_equal(shape_points.dtype, np.float64, \"incorrect data type of shape_points\")\n",
    "\n",
    "# check the correct data was plotted\n",
    "pc = ScatterPlotChecker(axis)\n",
    "pc.assert_x_data_equal(shape_points[:, 0])\n",
    "pc.assert_y_data_equal(shape_points[:, 1])\n",
    "\n",
    "# check that the plotted data has the correct values\n",
    "vals = [(1, 0.60353738), (4, 0.4613193), (-2, -0.24098396), (-6, 0.10159001), (-10, 0.10731944)]\n",
    "for (idx, val) in vals:\n",
    "    assert_almost_equal(shape_points.flatten()[idx], val, 6, \"incorrect entry within kinship_points\")\n",
    "\n",
    "# check that black circles were used\n",
    "pc.assert_colors_equal('k')\n",
    "\n",
    "# check that a title was included\n",
    "pc.assert_title_exists()\n",
    "\n",
    "# check that axis limits were set\n",
    "pc.assert_xlim_equal((-1, 1))\n",
    "pc.assert_ylim_equal((-1, 1))\n",
    "\n",
    "print(\"Success!\")"
   ]
  },
  {
   "cell_type": "markdown",
   "metadata": {
    "deletable": false
   },
   "source": [
    "<div class=\"alert alert-success\">What is the shape that Ben was thinking of?</div>"
   ]
  },
  {
   "cell_type": "markdown",
   "metadata": {
    "deletable": false,
    "nbgrader": {
     "checksum": "3007c0f48ed64b2a9406f849472d8f1f",
     "grade": true,
     "grade_id": "shape_game_answer",
     "locked": false,
     "points": 0.1,
     "schema_version": 1,
     "solution": true
    }
   },
   "source": [
    "A star!"
   ]
  },
  {
   "cell_type": "markdown",
   "metadata": {
    "deletable": false
   },
   "source": [
    "<div class=\"alert alert-success\">Give a brief explanation of what the MDS algorithm does. That is, what is it doing when it goes from a $n\\times n$ array of distances to an array of $n$  2D points?</div>"
   ]
  },
  {
   "cell_type": "markdown",
   "metadata": {
    "deletable": false,
    "nbgrader": {
     "checksum": "7bb7af827e22a21dd2f087b67b32a18c",
     "grade": true,
     "grade_id": "explain_mds",
     "locked": false,
     "points": 0.75,
     "schema_version": 1,
     "solution": true
    }
   },
   "source": [
    "When the MDS algorithm goes from the array of distances to the 2D array of points, it tries to fit all the points in a graph while preserving their respective distances as well as possible, and in doing such, maps points in a way that the ones that are alike are more closely grouped together. Thus the MDS algorithm essentially maps a psychological space by showing the similarity of the points in a dataset. "
   ]
  },
  {
   "cell_type": "markdown",
   "metadata": {
    "deletable": false
   },
   "source": [
    "---\n",
    "## Part B (1 point)"
   ]
  },
  {
   "cell_type": "markdown",
   "metadata": {
    "deletable": false
   },
   "source": [
    "Satisfied that she was able to correctly guess Ben's shape, Alyssa starts thinking about other cool ways that the MDS algorithm could be used. She remembers talking about various notions of *similarity* from CogSci 131, and wonders if the MDS algorithm could be used as a way to represent psychological similarity.\n",
    "\n",
    "Being the aspiring cognitive scientist that she is, Alyssa goes ahead and collects some similarity judgments about different kinds of musical genres. That is, she asks several people to rank the similarity of (for example) jazz piano and heavy metal rock, averages all the responses, and then scales the data to lie between 0 and 1. She saves her similarity data in the file `music_similarities.npz` and the names of musical genres in `music_list.npz`"
   ]
  },
  {
   "cell_type": "code",
   "execution_count": 7,
   "metadata": {
    "deletable": false
   },
   "outputs": [],
   "source": [
    "music_similarities = np.load(\"data/music_similarities.npz\")['data']\n",
    "music_names = np.load(\"data/music_list.npz\")['data']"
   ]
  },
  {
   "cell_type": "markdown",
   "metadata": {
    "deletable": false
   },
   "source": [
    "This music_similarities file contains Alyssa's similarity matrix, and the music_names file contains the names of the music she used in her experiment on musical similarity."
   ]
  },
  {
   "cell_type": "code",
   "execution_count": 8,
   "metadata": {
    "deletable": false
   },
   "outputs": [
    {
     "data": {
      "text/plain": [
       "array(['country', 'classical rock', 'big band', 'jazz piano',\n",
       "       'heavy metal', 'blues', 'alternative rock', 'jazz vocals',\n",
       "       'classical piano', 'flamenco guitar', 'classical cello', 'bluegrass'], \n",
       "      dtype='<U16')"
      ]
     },
     "execution_count": 8,
     "metadata": {},
     "output_type": "execute_result"
    }
   ],
   "source": [
    "music_names"
   ]
  },
  {
   "cell_type": "markdown",
   "metadata": {
    "deletable": false
   },
   "source": [
    "The other is a $12\\times 12$ matrix of similarities where index $(i,j)$ lists the similarity between the kinship term in `names[i]` and the kinship term in `names[j]`:"
   ]
  },
  {
   "cell_type": "code",
   "execution_count": 9,
   "metadata": {
    "deletable": false
   },
   "outputs": [
    {
     "data": {
      "text/plain": [
       "array([[ 1.        ,  0.19557398,  0.08017857,  0.05327806,  0.3167602 ,\n",
       "         0.0034949 ,  0.24709184,  0.05983418,  0.08734694,  0.11965561,\n",
       "         0.00653061,  0.00669643],\n",
       "       [ 0.19557398,  1.        ,  0.13020408,  0.39118622,  0.38071429,\n",
       "         0.10742347,  0.63563776,  0.07559949,  0.31561224,  0.24243622,\n",
       "         0.31841837,  0.27072704],\n",
       "       [ 0.08017857,  0.13020408,  1.        ,  0.01788265,  0.06780612,\n",
       "         0.02966837,  0.06732143,  0.12543367,  0.18173469,  0.09813776,\n",
       "         0.3327551 ,  0.12563776],\n",
       "       [ 0.05327806,  0.39118622,  0.01788265,  1.        ,  0.16566327,\n",
       "         0.00487245,  0.33997449,  0.02440051,  0.05375   ,  0.13733418,\n",
       "         0.05696429,  0.13871173],\n",
       "       [ 0.3167602 ,  0.38071429,  0.06780612,  0.16566327,  1.        ,\n",
       "         0.03897959,  0.87012755,  0.17989796,  0.32701531,  0.28844388,\n",
       "         0.21528061,  0.10905612],\n",
       "       [ 0.0034949 ,  0.10742347,  0.02966837,  0.00487245,  0.03897959,\n",
       "         1.        ,  0.0765051 ,  0.21165816,  0.11183673,  0.02492347,\n",
       "         0.06494898,  0.20854592],\n",
       "       [ 0.24709184,  0.63563776,  0.06732143,  0.33997449,  0.87012755,\n",
       "         0.0765051 ,  1.        ,  0.19619898,  0.40693878,  0.30946429,\n",
       "         0.31216837,  0.23979592],\n",
       "       [ 0.05983418,  0.07559949,  0.12543367,  0.02440051,  0.17989796,\n",
       "         0.21165816,  0.19619898,  1.        ,  0.40321429,  0.17169643,\n",
       "         0.24135204,  0.19674745],\n",
       "       [ 0.08734694,  0.31561224,  0.18173469,  0.05375   ,  0.32701531,\n",
       "         0.11183673,  0.40693878,  0.40321429,  1.        ,  0.34237245,\n",
       "         0.52147959,  0.13903061],\n",
       "       [ 0.11965561,  0.24243622,  0.09813776,  0.13733418,  0.28844388,\n",
       "         0.02492347,  0.30946429,  0.17169643,  0.34237245,  1.        ,\n",
       "         0.21941327,  0.03156888],\n",
       "       [ 0.00653061,  0.31841837,  0.3327551 ,  0.05696429,  0.21528061,\n",
       "         0.06494898,  0.31216837,  0.24135204,  0.52147959,  0.21941327,\n",
       "         1.        ,  0.18941327],\n",
       "       [ 0.00669643,  0.27072704,  0.12563776,  0.13871173,  0.10905612,\n",
       "         0.20854592,  0.23979592,  0.19674745,  0.13903061,  0.03156888,\n",
       "         0.18941327,  1.        ]])"
      ]
     },
     "execution_count": 9,
     "metadata": {},
     "output_type": "execute_result"
    }
   ],
   "source": [
    "music_similarities"
   ]
  },
  {
   "cell_type": "markdown",
   "metadata": {
    "deletable": false
   },
   "source": [
    "Alyssa remembers that the MDS algorithm takes pairwise *distances*; however, her behavioral data is of pairwise *similarities*. Thus, Alyssa must transform her data into *dissimilarities*. Because the data lies between 0 and 1, a simple way to do this is just to subtract the similarities from 1."
   ]
  },
  {
   "cell_type": "markdown",
   "metadata": {
    "deletable": false
   },
   "source": [
    "<div class=\"alert alert-success\">Help Alyssa visualize her musical similarity data by writing code to compute the 2D points from the similarity data, and plot the points along with labels stating which points correspond to which music genres. Store the output of the `mds` algorithm in a variable called `music_points`. Don't forget to include a title for your plot!</div>"
   ]
  },
  {
   "cell_type": "markdown",
   "metadata": {
    "deletable": false
   },
   "source": [
    "*Hint*: you can add a text label using the `axis.text` command. You may also want to prepend some spaces to the beginning of each label so that they don't overlap with the points!"
   ]
  },
  {
   "cell_type": "code",
   "execution_count": 10,
   "metadata": {
    "deletable": false
   },
   "outputs": [],
   "source": [
    "# get a handle to an axis object, then close the plot\n",
    "axis = plt.gca()\n",
    "plt.close()\n",
    "\n",
    "# look up documentation on axis.text\n",
    "axis.text?"
   ]
  },
  {
   "cell_type": "code",
   "execution_count": 11,
   "metadata": {
    "deletable": false,
    "nbgrader": {
     "checksum": "c1d294db50b02b79868d4c810152afa9",
     "grade": false,
     "grade_id": "kinship_mds",
     "locked": false,
     "schema_version": 1,
     "solution": true
    }
   },
   "outputs": [
    {
     "data": {
      "image/png": "[encoded data removed]",
      "text/plain": [
       "<matplotlib.figure.Figure at 0x7f092f67d160>"
      ]
     },
     "metadata": {},
     "output_type": "display_data"
    }
   ],
   "source": [
    "music_names = np.load(\"data/music_list.npz\")['data']\n",
    "music_similarities = np.load(\"data/music_similarities.npz\")['data']\n",
    "\n",
    "# create the figure\n",
    "fig, axis = plt.subplots()\n",
    "\n",
    "# YOUR CODE HERE\n",
    "axis.set_title(\"Music Similarities\")\n",
    "m_s = music_similarities.copy()\n",
    "m_s[:] = [1-x for x in m_s]\n",
    "music_points = mds(m_s)\n",
    "music_zip = list(zip(music_names, m_s))\n",
    "axis.plot([x[0] for x in music_points], [y[1] for y in music_points], \"ko\")\n",
    "n=0\n",
    "for elem in music_points:\n",
    "    axis.text(elem[0], elem[1], \"  \" + music_zip[n][0])\n",
    "    n = n+1     "
   ]
  },
  {
   "cell_type": "code",
   "execution_count": 12,
   "metadata": {
    "deletable": false,
    "nbgrader": {
     "checksum": "ae36627ddc2bfaf74a82aeb1222d07c4",
     "grade": true,
     "grade_id": "test_kinship_mds",
     "locked": false,
     "points": 1,
     "schema_version": 1,
     "solution": false
    }
   },
   "outputs": [
    {
     "name": "stdout",
     "output_type": "stream",
     "text": [
      "Success!\n"
     ]
    }
   ],
   "source": [
    "\"\"\"Check that MDS was correctly used on the music data and that the points were plotted.\"\"\"\n",
    "from numpy.testing import assert_array_equal, assert_almost_equal\n",
    "from nose.tools import assert_equal, assert_not_equal\n",
    "from plotchecker import ScatterPlotChecker\n",
    "\n",
    "names = np.load(\"data/music_list.npz\")['data']\n",
    "similarities = np.load(\"data/music_similarities.npz\")['data']\n",
    "\n",
    "assert_equal(list(music_names), list(names), \"music_names array has changed\")\n",
    "assert_array_equal(music_similarities, similarities, \"music_similarities array has changed\")\n",
    "\n",
    "# check that music_points has the correct shape and type\n",
    "assert_equal(music_points.shape, (12, 2), \"incorrect shape of music_points\")\n",
    "assert_equal(music_points.dtype, np.float64, \"incorrect data type of music_points\")\n",
    "\n",
    "# check the correct data was plotted\n",
    "pc = ScatterPlotChecker(axis)\n",
    "pc.assert_x_data_equal(music_points[:, 0])\n",
    "pc.assert_y_data_equal(music_points[:, 1])\n",
    "\n",
    "# check that the plotted data has the correct values\n",
    "vals = [(0, -0.59924511), (1, 0.19729266), (2, -0.21593404), (3, 0.09087466), (4, 0.66645917)]\n",
    "for (idx, val) in vals:\n",
    "    assert_almost_equal(music_points.flatten()[idx], val, 6, \"incorrect entry within music_points\")\n",
    "\n",
    "# check that black circles were used\n",
    "pc.assert_colors_equal('k')\n",
    "\n",
    "# check that a title was included\n",
    "pc.assert_title_exists()\n",
    "\n",
    "# check that the labels are correct\n",
    "pc.assert_textlabels_equal(music_names)\n",
    "pc.assert_textpoints_equal(music_points)\n",
    "\n",
    "print(\"Success!\")"
   ]
  },
  {
   "cell_type": "markdown",
   "metadata": {
    "deletable": false
   },
   "source": [
    "---\n",
    "\n",
    "## Part C (0.5 points)"
   ]
  },
  {
   "cell_type": "markdown",
   "metadata": {
    "deletable": false
   },
   "source": [
    "<div class=\"alert alert-success\">By looking at the graph from Part B, can you identify any **pairs** of points that have similar distances on the 2D plane, but which have different relationships conceptually?</div>"
   ]
  },
  {
   "cell_type": "markdown",
   "metadata": {
    "deletable": false,
    "nbgrader": {
     "checksum": "3e57608a002c9ba49ba29da15596a239",
     "grade": true,
     "grade_id": "part_c",
     "locked": false,
     "points": 0.5,
     "schema_version": 1,
     "solution": true
    }
   },
   "source": [
    "(heavy metal, classical piano) and (bluegrass, blues) have similar distances from each other, but I would definitely say bluegrass and blues are much more similar than heavy metal and classical piano, conceptually. "
   ]
  },
  {
   "cell_type": "markdown",
   "metadata": {
    "deletable": false
   },
   "source": [
    "---\n",
    "\n",
    "## Part D (0.5 points)"
   ]
  },
  {
   "cell_type": "markdown",
   "metadata": {
    "deletable": false
   },
   "source": [
    "<div class=\"alert alert-success\">Overall, how well does the spatial representation produced by the MDS algorithm capture your intuitions about the similarities between these musical categories? Justify your answer.</div>"
   ]
  },
  {
   "cell_type": "markdown",
   "metadata": {
    "deletable": false,
    "nbgrader": {
     "checksum": "561bd622b8514f51ab0176f6e1db36b5",
     "grade": true,
     "grade_id": "part_d",
     "locked": false,
     "points": 0.5,
     "schema_version": 1,
     "solution": true
    }
   },
   "source": [
    "Overall, I would say this spatial representation captures a *majority* of my intuitions about the similarities between these music categories. However, I would probably change a few of the plots: country, blues, and bluegrass should be much closer together, jazz vocals and jazz piano should be closer, put heavy metal further away from country than bluegrass (bluegrass is currently further away), and put the jazz genres closer to classical than country. Other than thesse, I would say this MDS algorithm does a substantial job in categorizing the similarities based on rythm, speed, and style of each genre."
   ]
  },
  {
   "cell_type": "markdown",
   "metadata": {
    "deletable": false
   },
   "source": [
    "---\n",
    "\n",
    "## Part E (1 point)"
   ]
  },
  {
   "cell_type": "markdown",
   "metadata": {
    "deletable": false
   },
   "source": [
    "Being a polymath with a wide range of interests, and being especially interested in ways of visualizing psychological similarity data, Alyssa obtained similarity judgments about kinship relations, for example: how similar is an aunt to a nephew? And how similar is a daughter to a grandmother? Her similarity data, and the list of kinship category names she used in her new experiment are conveniently stored in an npz file (which are loaded below).\n",
    "\n",
    "She decides to try a different way of representing her kinship data (a different representation than the one she used for musical categories). She has heard of a special type of plot called a \"dendrogram\", which will create a hierarchical clustering based on the similarities (e.g., as opposed to a spatial layout).\n",
    "\n",
    "We have provided for you a `plot_dendrogram` function that will perform hierarchical clustering and then create a dendrogram plot for you:"
   ]
  },
  {
   "cell_type": "code",
   "execution_count": 13,
   "metadata": {
    "deletable": false
   },
   "outputs": [
    {
     "name": "stdout",
     "output_type": "stream",
     "text": [
      "['aunt', 'daughter', 'father', 'granddaughter', 'grandfather', 'grandmother', 'grandson', 'mother', 'nephew', 'niece', 'son', 'uncle']\n"
     ]
    }
   ],
   "source": [
    "# The kinship similarity data\n",
    "kinship_data = np.load(\"data/kinship.npz\")\n",
    "\n",
    "# the list of names\n",
    "kinship_names = list(kinship_data['names'])\n",
    "print(kinship_names)\n",
    "\n",
    "# The similarity matrix\n",
    "kinship_similarities = kinship_data['similarities']"
   ]
  },
  {
   "cell_type": "code",
   "execution_count": 14,
   "metadata": {
    "deletable": false
   },
   "outputs": [],
   "source": [
    "plot_dendrogram??"
   ]
  },
  {
   "cell_type": "markdown",
   "metadata": {
    "deletable": false
   },
   "source": [
    "<div class=\"alert alert-success\">From the documetation, figure out how to call the `plot_dendrogram` function with the kinship data, and then call the function in the following cell. Save the output of `plot_dendrogram` into a variable called `kinship_dissimilarities`. Make sure you add a title to your plot as well. Your solution can be done in 2 lines of code.</div>"
   ]
  },
  {
   "cell_type": "code",
   "execution_count": 15,
   "metadata": {
    "deletable": false,
    "nbgrader": {
     "checksum": "35087ab29a93cf5f2199bd0c92fd3dc2",
     "grade": false,
     "grade_id": "dendrogram_plot",
     "locked": false,
     "schema_version": 1,
     "solution": true
    }
   },
   "outputs": [
    {
     "data": {
      "image/png": "[encoded data removed]",
      "text/plain": [
       "<matplotlib.figure.Figure at 0x7f092f663518>"
      ]
     },
     "metadata": {},
     "output_type": "display_data"
    }
   ],
   "source": [
    "# load the kinship data\n",
    "kinship_data = np.load(\"data/kinship.npz\")\n",
    "kinship_names = list(kinship_data['names'])\n",
    "kinship_similarities = kinship_data['similarities']\n",
    "\n",
    "# create the figure\n",
    "fig, axis = plt.subplots()\n",
    "\n",
    "# YOUR CODE HERE\n",
    "axis.set_title(\"Kinship Dendrogram\")\n",
    "kinship_dissimilarities = plot_dendrogram(axis, kinship_similarities, kinship_names)"
   ]
  },
  {
   "cell_type": "code",
   "execution_count": 16,
   "metadata": {
    "deletable": false,
    "nbgrader": {
     "checksum": "6722e7d4d9d09261df10df3dd36c169b",
     "grade": true,
     "grade_id": "check_dendrogram_plot",
     "locked": false,
     "points": 0.25,
     "schema_version": 1,
     "solution": false
    }
   },
   "outputs": [
    {
     "name": "stdout",
     "output_type": "stream",
     "text": [
      "Success!\n"
     ]
    }
   ],
   "source": [
    "\"\"\"Check that the dendrogram function was correctly used for the kinship data.\"\"\"\n",
    "from numpy.testing import assert_array_equal\n",
    "from nose.tools import assert_equal, assert_not_equal\n",
    "from plotchecker import PlotChecker\n",
    "\n",
    "# check that the kinship data hasn't changed\n",
    "kd = np.load(\"data/kinship.npz\")\n",
    "assert_equal(kinship_names, list(kd['names']), \"kinship_names array has changed\")\n",
    "assert_array_equal(kinship_similarities, kd['similarities'], \"kinship_similarities array has changed\")\n",
    "\n",
    "# check that a title was included\n",
    "pc = PlotChecker(axis)\n",
    "pc.assert_title_exists()\n",
    "\n",
    "# check that the labels are correct\n",
    "labels = [\"aunt\", \"uncle\", \"nephew\", \"niece\", \"father\", \"mother\", \"daughter\", \n",
    "          \"son\", \"grandfather\", \"grandmother\", \"granddaughter\", \"grandson\"]\n",
    "pc.assert_xticklabels_equal(labels)\n",
    "\n",
    "# check that the dissimilarities are correct\n",
    "assert_array_equal(kinship_dissimilarities, 1 - kinship_similarities, \"kinship dissimilarities are incorrect\")\n",
    "\n",
    "print(\"Success!\")"
   ]
  },
  {
   "cell_type": "markdown",
   "metadata": {
    "deletable": false
   },
   "source": [
    "<div class=\"alert alert-success\">How well do the results of the hierarchical clustering capture your intuitions about the similarity of the kinship terms? Justify your answer.</div>"
   ]
  },
  {
   "cell_type": "markdown",
   "metadata": {
    "deletable": false,
    "nbgrader": {
     "checksum": "7a3dcbd765718cbd484500fe3b97ab84",
     "grade": true,
     "grade_id": "part_e",
     "locked": false,
     "points": 0.75,
     "schema_version": 1,
     "solution": true
    }
   },
   "source": [
    "I believe the results are pretty intuitive for me, and I would say that the dendrogram accurately clusters them accordingly except for one part: grandson and granddaughter should not be clustered with grandfather and granddaughter, rather in the daughter / son hierarchy because I believe they share more similarities with this cluster than the grandfather and grandmother hierarchy. Other than that, I believe all the other ones are hierarchically clustered accurately. "
   ]
  },
  {
   "cell_type": "markdown",
   "metadata": {
    "deletable": false,
    "nbgrader": {}
   },
   "source": [
    "---"
   ]
  },
  {
   "cell_type": "markdown",
   "metadata": {
    "deletable": false,
    "nbgrader": {}
   },
   "source": [
    "Before turning this problem in remember to do the following steps:\n",
    "\n",
    "1. **Restart the kernel** (Kernel$\\rightarrow$Restart)\n",
    "2. **Run all cells** (Cell$\\rightarrow$Run All)\n",
    "3. **Save** (File$\\rightarrow$Save and Checkpoint)"
   ]
  },
  {
   "cell_type": "markdown",
   "metadata": {
    "deletable": false,
    "nbgrader": {
     "cell_type": "release"
    }
   },
   "source": [
    "<div class=\"alert alert-danger\">After you have completed these three steps, ensure that the following cell has printed \"No errors\". If it has <b>not</b> printed \"No errors\", then your code has a bug in it and has thrown an error! Make sure you fix this error before turning in your problem set.</div>"
   ]
  },
  {
   "cell_type": "code",
   "execution_count": 17,
   "metadata": {
    "deletable": false,
    "nbgrader": {}
   },
   "outputs": [
    {
     "name": "stdout",
     "output_type": "stream",
     "text": [
      "No errors!\n"
     ]
    }
   ],
   "source": [
    "print(\"No errors!\")"
   ]
  }
 ],
 "metadata": {
  "kernelspec": {
   "display_name": "Python 3",
   "language": "python",
   "name": "python3"
  },
  "language_info": {
   "codemirror_mode": {
    "name": "ipython",
    "version": 3
   },
   "file_extension": ".py",
   "mimetype": "text/x-python",
   "name": "python",
   "nbconvert_exporter": "python",
   "pygments_lexer": "ipython3",
   "version": "3.6.1"
  }
 },
 "nbformat": 4,
 "nbformat_minor": 1
}
