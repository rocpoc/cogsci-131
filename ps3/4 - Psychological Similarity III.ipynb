{
 "cells": [
  {
   "cell_type": "markdown",
   "metadata": {
    "deletable": false,
    "nbgrader": {
     "cell_type": "release"
    }
   },
   "source": [
    "Make sure you fill in any place that says `YOUR CODE HERE` or \"YOUR ANSWER HERE\", as well as your collaborators below:"
   ]
  },
  {
   "cell_type": "code",
   "execution_count": 1,
   "metadata": {
    "deletable": false,
    "nbgrader": {
     "cell_type": "release"
    }
   },
   "outputs": [],
   "source": [
    "COLLABORATORS = \"\""
   ]
  },
  {
   "cell_type": "markdown",
   "metadata": {
    "deletable": false,
    "nbgrader": {}
   },
   "source": [
    "---"
   ]
  },
  {
   "cell_type": "markdown",
   "metadata": {
    "deletable": false
   },
   "source": [
    "In this problem you will compare and contrast the two types of representations that we used in the previous two problems of this problem set."
   ]
  },
  {
   "cell_type": "markdown",
   "metadata": {
    "deletable": false
   },
   "source": [
    "---\n",
    "\n",
    "## Part A (1 point)"
   ]
  },
  {
   "cell_type": "markdown",
   "metadata": {
    "deletable": false
   },
   "source": [
    "<div class=\"alert alert-success\">In the last two sections we analyzed similarity data on kinship terms and colors. Name two more kinds of stimuli for which stimuli whose similarity is best represented using <b>hierarchical clustering</b>. Justify your answer. (**0.5 points**)</div>"
   ]
  },
  {
   "cell_type": "markdown",
   "metadata": {
    "deletable": false,
    "nbgrader": {
     "checksum": "dee431de79ef7abade9907f29d34ffb1",
     "grade": true,
     "grade_id": "part_b1",
     "locked": false,
     "points": 0.5,
     "schema_version": 1,
     "solution": true
    }
   },
   "source": [
    "One stimuli whose similarity is best represented with hierarchical clustering would be a menu. The food/drink items would essentially 'inherit' other features from the items above it; for example if we wanted a veggie sandwhich, we would go down the hierarchy: food --> bread --> sandwhich --> veggie, etc. Items on a menu can be thought of as similar based on their hierarchy to other foods or ingredients in them, so it would best be represented with hierarchy. \n",
    "\n",
    "Another stimuli best represented with hierarchical clustering would be cars/car models. The similarity of the cars can be thought of as inheriting properties, as well as having specific features that they have. For instance, if we wanted a medium/small eco-friendly vehicle with the latest features, we could go down a hierarchy: car --> medium/small --> hybrid --> Toyota Prius 2018. This hierarchy could also be organized in many different ways, like brands, year, use, etc. Cars are best thought of as similar based on their properties and features to other cars, so organizing it with hierarchical clustering would be the best way to visualize and organize their similarities."
   ]
  },
  {
   "cell_type": "markdown",
   "metadata": {
    "deletable": false
   },
   "source": [
    "<div class=\"alert alert-success\">Name two more kinds of stimuli whose similarity would be best captured by a <b>spatial representation</b>. Justify your answer. (**0.5 points**)</div>"
   ]
  },
  {
   "cell_type": "markdown",
   "metadata": {
    "deletable": false,
    "nbgrader": {
     "checksum": "6341c5151929c0ed862112e77b4aa5a6",
     "grade": true,
     "grade_id": "part_b2",
     "locked": false,
     "points": 0.5,
     "schema_version": 1,
     "solution": true
    }
   },
   "source": [
    "One stimuli whose similarity is best captured using spatial representation would be members of congress and their voting patterns—with respect to their parties. This could be easily computed with MDS because the distance of the congressmen and congresswomen from each other could be gaged by how they voted similalrly or differently on different bills. Thus, a spatial representation of how similar each one is to each other and how they deviate from their party would be the ideal way to visualize this.  \n",
    "\n",
    "Another stimuli whose similarity is best represented with a spatial representation would be the flavors of a variety of foods. The MDS algorithm would compute the distances of flavors based on how similar each food tastes to each other, and therefore separating and clustering food types. This representation would be ideal at visualizing the different flavors of foods because similar food types—like fruits and sweets—would be closer together than say, bread and candy. The MDS would likely cluster the foods based off of the 5 different flavors, and therefore the spatial organization would be an ideal way to see this."
   ]
  },
  {
   "cell_type": "markdown",
   "metadata": {
    "deletable": false
   },
   "source": [
    "---\n",
    "\n",
    "## Part B (1 point)"
   ]
  },
  {
   "cell_type": "markdown",
   "metadata": {
    "deletable": false
   },
   "source": [
    "<div class=\"alert alert-success\">Both MDS and hierarchical clustering are algorithms that generate representations, which can then be used as models of psychological concept space. Which of Marr's levels do these models correspond to? Explain why they correspond to the level you chose. (**0.5 points**)</div>"
   ]
  },
  {
   "cell_type": "markdown",
   "metadata": {
    "deletable": false,
    "nbgrader": {
     "checksum": "3f7362fd3ff319cccabab53a37b8e6f8",
     "grade": true,
     "grade_id": "part_c1",
     "locked": false,
     "points": 0.5,
     "schema_version": 1,
     "solution": true
    }
   },
   "source": [
    "Both MDS and hierarchical clustering corressspond to Marr's representional level. This is because they are both algorithms for transforming the input data into meaningful outputs, and mapping it to a psychological space which can then be used to infer more data."
   ]
  },
  {
   "cell_type": "markdown",
   "metadata": {
    "deletable": false
   },
   "source": [
    "<div class=\"alert alert-success\">Explain why they *do not* correspond to the other two levels in Marr's hierarchy. (**0.5 points**) </div>"
   ]
  },
  {
   "cell_type": "markdown",
   "metadata": {
    "deletable": false,
    "nbgrader": {
     "checksum": "9c546ae38793babdfdb0a29e33daa67e",
     "grade": true,
     "grade_id": "part_c2",
     "locked": false,
     "points": 0.5,
     "schema_version": 1,
     "solution": true
    }
   },
   "source": [
    "They do not correspond to the implementation level because both MDS and hierarchical clustering are not concerned with their physical implementation, i.e how the digital chips are calculating the numbers/distances and mapping their similarities. They are strictly algorithms which process data and map it into visual space. In addition, they do not correspond to the computational level because both MDS and hierarchical clustering are not aware or concerned with what the output data signifies or what the overall goal of the output should be -- they simply process the input data into something that then we can then make inferences about or process. "
   ]
  },
  {
   "cell_type": "markdown",
   "metadata": {
    "deletable": false,
    "nbgrader": {}
   },
   "source": [
    "---"
   ]
  },
  {
   "cell_type": "markdown",
   "metadata": {
    "deletable": false,
    "nbgrader": {}
   },
   "source": [
    "Before turning this problem in remember to do the following steps:\n",
    "\n",
    "1. **Restart the kernel** (Kernel$\\rightarrow$Restart)\n",
    "2. **Run all cells** (Cell$\\rightarrow$Run All)\n",
    "3. **Save** (File$\\rightarrow$Save and Checkpoint)"
   ]
  },
  {
   "cell_type": "markdown",
   "metadata": {
    "deletable": false,
    "nbgrader": {
     "cell_type": "release"
    }
   },
   "source": [
    "<div class=\"alert alert-danger\">After you have completed these three steps, ensure that the following cell has printed \"No errors\". If it has <b>not</b> printed \"No errors\", then your code has a bug in it and has thrown an error! Make sure you fix this error before turning in your problem set.</div>"
   ]
  },
  {
   "cell_type": "code",
   "execution_count": 2,
   "metadata": {
    "deletable": false,
    "nbgrader": {}
   },
   "outputs": [
    {
     "name": "stdout",
     "output_type": "stream",
     "text": [
      "No errors!\n"
     ]
    }
   ],
   "source": [
    "print(\"No errors!\")"
   ]
  }
 ],
 "metadata": {
  "anaconda-cloud": {},
  "kernelspec": {
   "display_name": "Python 3",
   "language": "python",
   "name": "python3"
  },
  "language_info": {
   "codemirror_mode": {
    "name": "ipython",
    "version": 3
   },
   "file_extension": ".py",
   "mimetype": "text/x-python",
   "name": "python",
   "nbconvert_exporter": "python",
   "pygments_lexer": "ipython3",
   "version": "3.6.1"
  }
 },
 "nbformat": 4,
 "nbformat_minor": 1
}
