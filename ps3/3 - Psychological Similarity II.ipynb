{
 "cells": [
  {
   "cell_type": "markdown",
   "metadata": {
    "deletable": false,
    "nbgrader": {
     "cell_type": "release"
    }
   },
   "source": [
    "Make sure you fill in any place that says `YOUR CODE HERE` or \"YOUR ANSWER HERE\", as well as your collaborators below:"
   ]
  },
  {
   "cell_type": "code",
   "execution_count": 1,
   "metadata": {
    "deletable": false,
    "nbgrader": {
     "cell_type": "release"
    }
   },
   "outputs": [],
   "source": [
    "COLLABORATORS = \"\""
   ]
  },
  {
   "cell_type": "markdown",
   "metadata": {
    "deletable": false,
    "nbgrader": {}
   },
   "source": [
    "---"
   ]
  },
  {
   "cell_type": "code",
   "execution_count": 2,
   "metadata": {
    "deletable": false
   },
   "outputs": [],
   "source": [
    "%matplotlib inline\n",
    "import numpy as np\n",
    "import matplotlib.pyplot as plt\n",
    "\n",
    "# special imports for computing mds and dendrograms\n",
    "from representations import mds, plot_dendrogram"
   ]
  },
  {
   "cell_type": "markdown",
   "metadata": {
    "deletable": false
   },
   "source": [
    "----\n",
    "\n",
    "## Part A (1 point)"
   ]
  },
  {
   "cell_type": "markdown",
   "metadata": {
    "deletable": false
   },
   "source": [
    "Louis Reasoner thinks that Alyssa's representations of the kinship data using MDS and the dendrogram is pretty cool. He decides to try modeling some different data that he has: similarity judgments of colors. Loading in the data, Louis sees that it has three keys:"
   ]
  },
  {
   "cell_type": "code",
   "execution_count": 3,
   "metadata": {
    "deletable": false
   },
   "outputs": [
    {
     "data": {
      "text/plain": [
       "['similarities', 'rgba', 'wavelengths']"
      ]
     },
     "execution_count": 3,
     "metadata": {},
     "output_type": "execute_result"
    }
   ],
   "source": [
    "color_data = np.load(\"data/color.npz\")\n",
    "color_data.keys()"
   ]
  },
  {
   "cell_type": "markdown",
   "metadata": {
    "deletable": false
   },
   "source": [
    "The array `rgba` corresponds to RGBA (red-green-blue-alpha) color values:"
   ]
  },
  {
   "cell_type": "code",
   "execution_count": 4,
   "metadata": {
    "deletable": false
   },
   "outputs": [
    {
     "data": {
      "text/plain": [
       "array([[ 0.06581168,  0.        ,  1.        ,  1.        ],\n",
       "       [ 0.        ,  0.27594593,  1.        ,  1.        ],\n",
       "       [ 0.        ,  0.69975173,  1.        ,  1.        ],\n",
       "       [ 0.        ,  0.81973916,  1.        ,  1.        ],\n",
       "       [ 0.        ,  1.        ,  0.61985506,  1.        ],\n",
       "       [ 0.1012907 ,  1.        ,  0.        ,  1.        ],\n",
       "       [ 0.63910109,  1.        ,  0.        ,  1.        ],\n",
       "       [ 0.87217408,  1.        ,  0.        ,  1.        ],\n",
       "       [ 1.        ,  0.7318658 ,  0.        ,  1.        ],\n",
       "       [ 1.        ,  0.49517684,  0.        ,  1.        ],\n",
       "       [ 1.        ,  0.32581067,  0.        ,  1.        ],\n",
       "       [ 1.        ,  0.        ,  0.        ,  1.        ],\n",
       "       [ 1.        ,  0.        ,  0.        ,  1.        ],\n",
       "       [ 1.        ,  0.        ,  0.        ,  1.        ]])"
      ]
     },
     "execution_count": 4,
     "metadata": {},
     "output_type": "execute_result"
    }
   ],
   "source": [
    "rgba = color_data['rgba']\n",
    "rgba"
   ]
  },
  {
   "cell_type": "markdown",
   "metadata": {
    "deletable": false
   },
   "source": [
    "The array `wavelengths` are the nanometer wavelengths corresponding to the RGBA values:"
   ]
  },
  {
   "cell_type": "code",
   "execution_count": 5,
   "metadata": {
    "deletable": false
   },
   "outputs": [
    {
     "data": {
      "text/plain": [
       "array([434, 445, 465, 472, 490, 504, 537, 555, 584, 600, 610, 628, 651, 674])"
      ]
     },
     "execution_count": 5,
     "metadata": {},
     "output_type": "execute_result"
    }
   ],
   "source": [
    "wavelengths = color_data['wavelengths']\n",
    "wavelengths"
   ]
  },
  {
   "cell_type": "markdown",
   "metadata": {
    "deletable": false
   },
   "source": [
    "And finally, the array `similarities` are the similarity judgments:"
   ]
  },
  {
   "cell_type": "code",
   "execution_count": 6,
   "metadata": {
    "deletable": false
   },
   "outputs": [
    {
     "data": {
      "text/plain": [
       "array([[ 1.        ,  0.97816615,  0.87441643,  0.87441643,  0.7517575 ,\n",
       "         0.59271708,  0.61503268,  0.53402   ,  0.43367667,  0.61503268,\n",
       "         0.65141417,  0.69306042,  0.70464778,  0.73470666],\n",
       "       [ 0.97816615,  1.        ,  0.89965667,  0.88115089,  0.78080756,\n",
       "         0.65141417,  0.61503268,  0.61503268,  0.43367667,  0.53402   ,\n",
       "         0.61503268,  0.68046423,  0.70464778,  0.71537601],\n",
       "       [ 0.87441643,  0.89965667,  1.        ,  0.96949501,  0.89069929,\n",
       "         0.74348297,  0.66666667,  0.63436333,  0.43367667,  0.33333333,\n",
       "         0.43367667,  0.33333333,  0.56632333,  0.49237375],\n",
       "       [ 0.87441643,  0.88115089,  0.96949501,  1.        ,  0.91079792,\n",
       "         0.79931334,  0.66666667,  0.65141417,  0.43367667,  0.33333333,\n",
       "         0.        ,  0.33333333,  0.43367667,  0.53402   ],\n",
       "       [ 0.7517575 ,  0.78080756,  0.89069929,  0.91079792,  1.        ,\n",
       "         0.92844328,  0.8304539 ,  0.80499112,  0.61503268,  0.43367667,\n",
       "         0.43367667,  0.33333333,  0.43367667,  0.        ],\n",
       "       [ 0.59271708,  0.65141417,  0.74348297,  0.79931334,  0.92844328,\n",
       "         1.        ,  0.93079723,  0.88440417,  0.71537601,  0.63436333,\n",
       "         0.43367667,  0.43367667,  0.43367667,  0.33333333],\n",
       "       [ 0.61503268,  0.61503268,  0.66666667,  0.66666667,  0.8304539 ,\n",
       "         0.93079723,  1.        ,  0.95444095,  0.78080756,  0.71537601,\n",
       "         0.56632333,  0.43367667,  0.43367667,  0.        ],\n",
       "       [ 0.53402   ,  0.61503268,  0.63436333,  0.65141417,  0.80499112,\n",
       "         0.88440417,  0.95444095,  1.        ,  0.83950465,  0.75958453,\n",
       "         0.53402   ,  0.49237375,  0.43367667,  0.43367667],\n",
       "       [ 0.43367667,  0.43367667,  0.43367667,  0.43367667,  0.61503268,\n",
       "         0.71537601,  0.78080756,  0.83950465,  1.        ,  0.92114266,\n",
       "         0.85606724,  0.81045459,  0.76701   ,  0.78724261],\n",
       "       [ 0.61503268,  0.53402   ,  0.33333333,  0.33333333,  0.43367667,\n",
       "         0.63436333,  0.71537601,  0.75958453,  0.92114266,  1.        ,\n",
       "         0.95641057,  0.89965667,  0.87092795,  0.81571934],\n",
       "       [ 0.65141417,  0.61503268,  0.43367667,  0.        ,  0.43367667,\n",
       "         0.43367667,  0.56632333,  0.53402   ,  0.85606724,  0.95641057,\n",
       "         1.        ,  0.9602712 ,  0.93079723,  0.91345423],\n",
       "       [ 0.69306042,  0.68046423,  0.33333333,  0.33333333,  0.33333333,\n",
       "         0.43367667,  0.43367667,  0.49237375,  0.81045459,  0.89965667,\n",
       "         0.9602712 ,  1.        ,  0.97647298,  0.94416964],\n",
       "       [ 0.70464778,  0.70464778,  0.56632333,  0.43367667,  0.43367667,\n",
       "         0.43367667,  0.43367667,  0.43367667,  0.76701   ,  0.87092795,\n",
       "         0.93079723,  0.97647298,  1.        ,  0.9602712 ],\n",
       "       [ 0.73470666,  0.71537601,  0.49237375,  0.53402   ,  0.        ,\n",
       "         0.33333333,  0.        ,  0.43367667,  0.78724261,  0.81571934,\n",
       "         0.91345423,  0.94416964,  0.9602712 ,  1.        ]])"
      ]
     },
     "execution_count": 6,
     "metadata": {},
     "output_type": "execute_result"
    }
   ],
   "source": [
    "similarities = color_data['similarities']\n",
    "similarities"
   ]
  },
  {
   "cell_type": "markdown",
   "metadata": {
    "deletable": false
   },
   "source": [
    "<div class=\"alert alert-success\">Now that you know how MDS and hierarchical clustering work, try to think about how you would expect them to behave on similarity judgments of color. Do you think MDS would be better, or the dendrogram? Justify your answer, and make sure to describe what you think the better representation would look like.</div>"
   ]
  },
  {
   "cell_type": "markdown",
   "metadata": {
    "deletable": false,
    "nbgrader": {
     "checksum": "14b047e279089bd4f62ad09256bbcbec",
     "grade": true,
     "grade_id": "part_a",
     "locked": false,
     "points": 1,
     "schema_version": 1,
     "solution": true
    }
   },
   "source": [
    "I think MDS would be better for judging the similarities of color because I believe mapping the similarities in a 2D space would make for a much a more efficient similarity judgement instead of stacking them in a hierarchy. This is because I don't think colors really 'inherit' properties from one another or are hierarchically organized. I think the spatial representation would ideally look like a color wheel."
   ]
  },
  {
   "cell_type": "markdown",
   "metadata": {
    "deletable": false
   },
   "source": [
    "---\n",
    "\n",
    "## Part B (1 point)"
   ]
  },
  {
   "cell_type": "markdown",
   "metadata": {
    "deletable": false
   },
   "source": [
    "Louis goes ahead and uses the `mds` function to compute the 2D spatial representation of the data:"
   ]
  },
  {
   "cell_type": "code",
   "execution_count": 7,
   "metadata": {
    "deletable": false,
    "nbgrader": {
     "checksum": "7d518035857f4bf75f0c8828730b71e6",
     "grade": false,
     "grade_id": "color_points",
     "locked": true,
     "schema_version": 1,
     "solution": false
    }
   },
   "outputs": [
    {
     "data": {
      "text/plain": [
       "array([[-0.56489615,  0.02318126],\n",
       "       [ 0.54068836,  0.1310427 ],\n",
       "       [-0.0518383 , -0.43672889],\n",
       "       [ 0.17954233, -0.18897083],\n",
       "       [-0.22736302,  0.07485603],\n",
       "       [ 0.26899173,  0.29581537],\n",
       "       [-0.23532066,  0.35830725],\n",
       "       [-0.43587955, -0.14072107],\n",
       "       [ 0.59472009, -0.12895199],\n",
       "       [ 0.19592584, -0.51956008],\n",
       "       [ 0.24015765, -0.05504145],\n",
       "       [-0.31464749, -0.38838781],\n",
       "       [ 0.16175451,  0.64028798],\n",
       "       [-0.32407508,  0.37458408]])"
      ]
     },
     "execution_count": 7,
     "metadata": {},
     "output_type": "execute_result"
    }
   ],
   "source": [
    "color_points = mds(similarities)\n",
    "color_points"
   ]
  },
  {
   "cell_type": "markdown",
   "metadata": {
    "deletable": false
   },
   "source": [
    "<div class=\"alert alert-success\">However, Louis wasn't paying very close attention to how Alyssa used MDS algorithm, and can't remember how to plot the data. Help Louis visualize the results of running MDS on the color data by plotting the 2D points `color_points`. Label the points with the wavelengths they correspond to using the `axis.text` function (like what you did for the music data in the previous problem). The points should be colored according to the color they correspond to, and should be set to size 100 so they are large enough to see easily. Also, don't forget to give your plot a title! Your solution can be done in 4 lines of code.</div>"
   ]
  },
  {
   "cell_type": "markdown",
   "metadata": {
    "deletable": false
   },
   "source": [
    "_Important Note:_ You should use `axis.scatter` to create your plot, and you should only call it <em>once</em>. However, you can call `plt.text` multiple times. Do not use any other plotting functions."
   ]
  },
  {
   "cell_type": "code",
   "execution_count": 8,
   "metadata": {
    "deletable": false
   },
   "outputs": [],
   "source": [
    "# get a handle to an axis object, then close the plot\n",
    "axis = plt.gca()\n",
    "plt.close()\n",
    "\n",
    "# look up documentation on axis.scatter\n",
    "axis.scatter?"
   ]
  },
  {
   "cell_type": "code",
   "execution_count": 9,
   "metadata": {
    "deletable": false,
    "nbgrader": {
     "checksum": "5ad5be6ea28842aad0cfcac5ee92df69",
     "grade": false,
     "grade_id": "plot_color_mds",
     "locked": false,
     "schema_version": 1,
     "solution": true
    }
   },
   "outputs": [
    {
     "data": {
      "image/png": "[encoded data removed]",
      "text/plain": [
       "<matplotlib.figure.Figure at 0x7f6e8a4e9940>"
      ]
     },
     "metadata": {},
     "output_type": "display_data"
    }
   ],
   "source": [
    "# create the figure\n",
    "fig, axis = plt.subplots()\n",
    "\n",
    "# YOUR CODE HERE\n",
    "n=0\n",
    "axis.set_title(\"Color MDS\")\n",
    "axis.scatter([x[0] for x in color_points], [y[1] for y in color_points], s=100, c = [i for i in rgba])\n",
    "for elem in color_points:\n",
    "    axis.text(elem[0], elem[1],wavelengths[n])\n",
    "    n = n+1 "
   ]
  },
  {
   "cell_type": "markdown",
   "metadata": {
    "deletable": false
   },
   "source": [
    "<div class=\"alert alert-info\">Note: If the colors you're seeing after implementing `plot_color_mds` don't seem quite right, don't despair! Read on for a hint on why this might be the case. </div>"
   ]
  },
  {
   "cell_type": "code",
   "execution_count": 10,
   "metadata": {
    "deletable": false,
    "nbgrader": {
     "checksum": "b8451117b2480a6e5135bac56cb79a76",
     "grade": true,
     "grade_id": "test_plot_color_mds",
     "locked": false,
     "points": 1,
     "schema_version": 1,
     "solution": false
    }
   },
   "outputs": [
    {
     "name": "stdout",
     "output_type": "stream",
     "text": [
      "Success!\n"
     ]
    }
   ],
   "source": [
    "\"\"\"Check that the color MDS data was correctly plotted.\"\"\"\n",
    "from numpy.testing import assert_array_equal\n",
    "from nose.tools import assert_equal, assert_not_equal\n",
    "from plotchecker import ScatterPlotChecker\n",
    "\n",
    "# check that data hasn't changed\n",
    "cd = np.load(\"data/color.npz\")\n",
    "assert_array_equal(rgba, cd['rgba'])\n",
    "assert_array_equal(wavelengths, cd['wavelengths'])\n",
    "assert_array_equal(similarities, cd['similarities'])\n",
    "assert_array_equal(color_points, mds(similarities))\n",
    "\n",
    "# check the correct data was plotted\n",
    "pc = ScatterPlotChecker(axis)\n",
    "pc.assert_x_data_equal(color_points[:, 0])\n",
    "pc.assert_y_data_equal(color_points[:, 1])\n",
    "\n",
    "# check that the correct size and colors were used\n",
    "pc.assert_colors_equal(rgba)\n",
    "pc.assert_sizes_equal(100)\n",
    "\n",
    "# check that the wavelength labels are correct\n",
    "pc.assert_textlabels_equal([str(x) for x in wavelengths])\n",
    "pc.assert_textpoints_equal(color_points)\n",
    "\n",
    "# check that a title was included\n",
    "pc.assert_title_exists()\n",
    "\n",
    "print(\"Success!\")"
   ]
  },
  {
   "cell_type": "markdown",
   "metadata": {
    "deletable": false
   },
   "source": [
    "---\n",
    "\n",
    "## Part C (0.5 points)"
   ]
  },
  {
   "cell_type": "markdown",
   "metadata": {
    "deletable": false
   },
   "source": [
    "<div class=\"alert alert-success\">After getting your help to write his code, Louis looks at the resulting plot, and is dismayed to see that the MDS representation of colors doesn't seem to make any sense. Louis goes to Alyssa for help. She takes a look at his code, and tells him that he ran the MDS algorithm on the wrong data. What is wrong with Louis' solution?</div>"
   ]
  },
  {
   "cell_type": "markdown",
   "metadata": {
    "deletable": false,
    "nbgrader": {
     "checksum": "ce00860835123857e8c096e3fdba248a",
     "grade": true,
     "grade_id": "plot_color_mds_bug",
     "locked": false,
     "points": 0.25,
     "schema_version": 1,
     "solution": true
    }
   },
   "source": [
    "What Louis did wrong was input the list of *similarities* into the MDS algorithm, when instead he should have put the list of *dissimilarities* into the MDS because it takes as input pairwise distances. Therefore, if he transforms the similarity list into a dissimilarity list, the distances will be preserved and MDS will work as planned."
   ]
  },
  {
   "cell_type": "markdown",
   "metadata": {
    "deletable": false
   },
   "source": [
    "<div class=\"alert alert-success\">Once you have figured out what is wrong with Louis' solution, copy and paste your plotting code from above into the following cell. Add a new line that re-runs the MDS algorithm, and plots those new points instead of the old points. Store the new points into a variable called `new_color_points`, and make sure you replace all instances of `color_points` with `new_color_points`. Your solution can be done in 5 lines of code.</div>"
   ]
  },
  {
   "cell_type": "markdown",
   "metadata": {
    "deletable": false
   },
   "source": [
    "_Important Note:_ You should use `axis.scatter` to create your plot, and you should only call it <em>once</em>. However, you can call `plt.text` multiple times. Do not use any other plotting functions."
   ]
  },
  {
   "cell_type": "code",
   "execution_count": 11,
   "metadata": {
    "deletable": false,
    "nbgrader": {
     "checksum": "1f85fdd8443af6fb11281b06b69b90de",
     "grade": false,
     "grade_id": "correct_color_mds",
     "locked": false,
     "schema_version": 1,
     "solution": true
    }
   },
   "outputs": [
    {
     "data": {
      "image/png": "[encoded data removed]",
      "text/plain": [
       "<matplotlib.figure.Figure at 0x7f6e8a46fbe0>"
      ]
     },
     "metadata": {},
     "output_type": "display_data"
    }
   ],
   "source": [
    "# create the figure\n",
    "fig, axis = plt.subplots()\n",
    "\n",
    "# YOUR CODE HERE\n",
    "## 1 - similarities\n",
    "new_color_points = mds([1-x for x in similarities])\n",
    "n=0\n",
    "axis.set_title(\"Color MDS\")\n",
    "axis.scatter([x[0] for x in new_color_points], [y[1] for y in new_color_points], s=100, c = [i for i in rgba])\n",
    "for elem in new_color_points:\n",
    "    axis.text(elem[0], elem[1],wavelengths[n])\n",
    "    n = n+1 "
   ]
  },
  {
   "cell_type": "markdown",
   "metadata": {
    "deletable": false
   },
   "source": [
    "After fixing the plot, does it more closely match your intuitions from Part A? (You do not need to write a response to this question, but you should think about the answer)."
   ]
  },
  {
   "cell_type": "code",
   "execution_count": 12,
   "metadata": {
    "deletable": false,
    "nbgrader": {
     "checksum": "598847193295d965f30588975b34793d",
     "grade": true,
     "grade_id": "test_correct_color_mds",
     "locked": false,
     "points": 0.25,
     "schema_version": 1,
     "solution": false
    }
   },
   "outputs": [
    {
     "name": "stdout",
     "output_type": "stream",
     "text": [
      "Success!\n"
     ]
    }
   ],
   "source": [
    "\"\"\"Check that the color MDS data was correctly plotted.\"\"\"\n",
    "from numpy.testing import assert_array_equal, assert_allclose\n",
    "from nose.tools import assert_equal, assert_not_equal\n",
    "from plotchecker import ScatterPlotChecker\n",
    "\n",
    "# check that data hasn't changed\n",
    "cd = np.load(\"data/color.npz\")\n",
    "assert_array_equal(rgba, cd['rgba'])\n",
    "assert_array_equal(wavelengths, cd['wavelengths'])\n",
    "assert_array_equal(similarities, cd['similarities'])\n",
    "assert_equal(new_color_points.shape, (14, 2))\n",
    "assert_allclose(new_color_points[0], np.array([-0.39802631, -0.18197825]))\n",
    "assert_allclose(new_color_points[-1], np.array([-0.29100923,  0.49663493]))\n",
    "\n",
    "# check the correct data was plotted\n",
    "pc = ScatterPlotChecker(axis)\n",
    "pc.assert_x_data_equal(new_color_points[:, 0])\n",
    "pc.assert_y_data_equal(new_color_points[:, 1])\n",
    "\n",
    "# check that the correct size and colors were used\n",
    "pc.assert_colors_equal(rgba)\n",
    "pc.assert_sizes_equal(100)\n",
    "\n",
    "# check that the wavelength labels are correct\n",
    "pc.assert_textlabels_equal([str(x) for x in wavelengths])\n",
    "pc.assert_textpoints_equal(new_color_points)\n",
    "\n",
    "# check that a title was included\n",
    "pc.assert_title_exists()\n",
    "\n",
    "print(\"Success!\")"
   ]
  },
  {
   "cell_type": "markdown",
   "metadata": {
    "deletable": false
   },
   "source": [
    "---\n",
    "\n",
    "## Part D (0.5 points)"
   ]
  },
  {
   "cell_type": "markdown",
   "metadata": {
    "deletable": false
   },
   "source": [
    "<div class=\"alert alert-success\">Louis also wants to try looking at the data with a dendrogram, but again wasn't paying very close attention to what Alyssa did earlier. Help him produce the correct dendrogram plot. Use the same `plot_dendrogram` function that you used on the previous problem, and don't forget to set a title. You should use the wavelengths as your x-axis tick labels. Note that for this exercise, you should use the optional \"colors\" keyword argument to pass the rgb values to the dendrogram function (this is helpful for visualization). Your answer can be done in 2 lines of code.</div>"
   ]
  },
  {
   "cell_type": "code",
   "execution_count": 13,
   "metadata": {
    "deletable": false,
    "nbgrader": {
     "checksum": "03d1dd09c86441ac5a6f425218a44a65",
     "grade": false,
     "grade_id": "color_dendrogram",
     "locked": false,
     "schema_version": 1,
     "solution": true
    }
   },
   "outputs": [
    {
     "name": "stdout",
     "output_type": "stream",
     "text": [
      "[0.065811682861160653, 0.0, 1.0, 1.0]\n",
      "[0.0, 0.27594593229224296, 1.0, 1.0]\n",
      "[0.0, 0.69975172732369795, 1.0, 1.0]\n",
      "[0.0, 0.81973915954895893, 1.0, 1.0]\n",
      "[0.0, 1.0, 0.61985506115385902, 1.0]\n",
      "[0.10129069733744248, 1.0, 0.0, 1.0]\n",
      "[0.63910109412579696, 1.0, 0.0, 1.0]\n",
      "[0.87217408301313826, 1.0, 0.0, 1.0]\n",
      "[1.0, 0.73186580466920714, 0.0, 1.0]\n",
      "[1.0, 0.4951768422652541, 0.0, 1.0]\n",
      "[1.0, 0.32581066839450723, 0.0, 1.0]\n",
      "[1.0, 0.0, 0.0, 1.0]\n",
      "[1.0, 0.0, 0.0, 1.0]\n",
      "[1.0, 0.0, 0.0, 1.0]\n"
     ]
    },
    {
     "name": "stderr",
     "output_type": "stream",
     "text": [
      "/home/jovyan/problem-sets/ps3/representations.py:75: FutureWarning: elementwise comparison failed; returning scalar instead, but in the future will perform elementwise comparison\n",
      "  if not colors == 'None':\n"
     ]
    },
    {
     "data": {
      "image/png": "[encoded data removed]",
      "text/plain": [
       "<matplotlib.figure.Figure at 0x7f6e8d8d06a0>"
      ]
     },
     "metadata": {},
     "output_type": "display_data"
    }
   ],
   "source": [
    "# create the figure\n",
    "fig, axis = plt.subplots()\n",
    "\n",
    "# YOUR CODE HERE\n",
    "for i in rgba:\n",
    "    print(list(i))\n",
    "\n",
    "axis.set_title(\"Color Dendrogram\")\n",
    "dissimilarities = plot_dendrogram(axis, similarities, wavelengths, colors = rgba)"
   ]
  },
  {
   "cell_type": "markdown",
   "metadata": {
    "deletable": false
   },
   "source": [
    "Is this a good representation for the color data? Again, you do not need to write a response to this question, but you should think about the answer."
   ]
  },
  {
   "cell_type": "code",
   "execution_count": 14,
   "metadata": {
    "deletable": false,
    "nbgrader": {
     "checksum": "5d61288c4babadf23fd546fd29bed43a",
     "grade": true,
     "grade_id": "test_color_dendrogram",
     "locked": false,
     "points": 0.5,
     "schema_version": 1,
     "solution": false
    }
   },
   "outputs": [
    {
     "name": "stdout",
     "output_type": "stream",
     "text": [
      "Success!\n"
     ]
    }
   ],
   "source": [
    "\"\"\"Check that the dendrogram function was correctly used for the kinship data.\"\"\"\n",
    "from numpy.testing import assert_array_equal\n",
    "from nose.tools import assert_equal, assert_not_equal\n",
    "from plotchecker import PlotChecker\n",
    "\n",
    "# check that data hasn't changed\n",
    "cd = np.load(\"data/color.npz\")\n",
    "assert_array_equal(rgba, cd['rgba'])\n",
    "assert_array_equal(wavelengths, cd['wavelengths'])\n",
    "assert_array_equal(similarities, cd['similarities'])\n",
    "\n",
    "# check that a title was included\n",
    "pc = PlotChecker(axis)\n",
    "pc.assert_title_exists()\n",
    "\n",
    "# check that the labels are correct\n",
    "labels = sorted([int(x.get_text()) for x in axis.get_xticklabels()])\n",
    "assert_array_equal(labels, wavelengths, \"color labels are incorrect\")\n",
    "\n",
    "# check that the dissimilarities are correct\n",
    "assert_array_equal(dissimilarities, 1 - similarities, \"color dissimilarities are incorrect\")\n",
    "\n",
    "print(\"Success!\")"
   ]
  },
  {
   "cell_type": "markdown",
   "metadata": {
    "deletable": false,
    "nbgrader": {}
   },
   "source": [
    "---"
   ]
  },
  {
   "cell_type": "markdown",
   "metadata": {
    "deletable": false,
    "nbgrader": {}
   },
   "source": [
    "Before turning this problem in remember to do the following steps:\n",
    "\n",
    "1. **Restart the kernel** (Kernel$\\rightarrow$Restart)\n",
    "2. **Run all cells** (Cell$\\rightarrow$Run All)\n",
    "3. **Save** (File$\\rightarrow$Save and Checkpoint)"
   ]
  },
  {
   "cell_type": "markdown",
   "metadata": {
    "deletable": false,
    "nbgrader": {
     "cell_type": "release"
    }
   },
   "source": [
    "<div class=\"alert alert-danger\">After you have completed these three steps, ensure that the following cell has printed \"No errors\". If it has <b>not</b> printed \"No errors\", then your code has a bug in it and has thrown an error! Make sure you fix this error before turning in your problem set.</div>"
   ]
  },
  {
   "cell_type": "code",
   "execution_count": 15,
   "metadata": {
    "deletable": false,
    "nbgrader": {}
   },
   "outputs": [
    {
     "name": "stdout",
     "output_type": "stream",
     "text": [
      "No errors!\n"
     ]
    }
   ],
   "source": [
    "print(\"No errors!\")"
   ]
  },
  {
   "cell_type": "code",
   "execution_count": null,
   "metadata": {},
   "outputs": [],
   "source": []
  }
 ],
 "metadata": {
  "kernelspec": {
   "display_name": "Python 3",
   "language": "python",
   "name": "python3"
  },
  "language_info": {
   "codemirror_mode": {
    "name": "ipython",
    "version": 3
   },
   "file_extension": ".py",
   "mimetype": "text/x-python",
   "name": "python",
   "nbconvert_exporter": "python",
   "pygments_lexer": "ipython3",
   "version": "3.6.1"
  }
 },
 "nbformat": 4,
 "nbformat_minor": 1
}
