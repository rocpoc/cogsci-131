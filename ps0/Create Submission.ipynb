{
 "cells": [
  {
   "cell_type": "code",
   "execution_count": 3,
   "metadata": {},
   "outputs": [],
   "source": [
    "from submission_utils import create_submission"
   ]
  },
  {
   "cell_type": "markdown",
   "metadata": {},
   "source": [
    "<div class=\"alert alert-danger\">\n",
    "Before creating your submission, make sure your notebooks pass the autograder tests! For each notebook,\n",
    "<br>\n",
    "<ol>\n",
    "<li>**Restart the kernel** (Kernel$\\rightarrow$Restart)</li>\n",
    "<li>**Run all cells** (Cell$\\rightarrow$Run All)</li>\n",
    "<li>**Save** (File$\\rightarrow$Save and Checkpoint)</li>\n",
    "</ol>\n",
    "\n",
    "After you have completed these three steps, ensure that the cell at the bottom of the notebook has printed \"No errors\". If it has <b>not</b> printed \"No errors\", then your code has a bug in it! Make sure you fix this error before creating your submission in order to receive full credit.</div>"
   ]
  },
  {
   "cell_type": "markdown",
   "metadata": {},
   "source": [
    "## Preparing Your Submission\n",
    "Once you've successfully validated each of your problem set notebooks, run the cell below to create a zip archive. You can run this cell multiple times -- each time, it will update your previous submission with the most recent version of your notebooks."
   ]
  },
  {
   "cell_type": "code",
   "execution_count": null,
   "metadata": {},
   "outputs": [],
   "source": [
    "create_submission()"
   ]
  },
  {
   "cell_type": "markdown",
   "metadata": {},
   "source": [
    "## Submitting to BCourses\n",
    "The `create_submission` function above will generate a `submission.zip` file in the current problem set directory. To submit it for grading, you will download this file to your local computer and upload it to BCourses.\n",
    "\n",
    "To download the file, go to your problem set directory and click on the radio button to the left of your newly created `submission.zip` file. Click the \"Download\" button that appears at the top of the screen to download the archive. You can now upload this to the appropriate assignment under the Assignments tab on BCourses.\n",
    "\n",
    "**Do not rename or otherwise modify your submission file once it has been created. Doing so may jeopardize your problem set grade.**"
   ]
  },
  {
   "cell_type": "code",
   "execution_count": null,
   "metadata": {},
   "outputs": [],
   "source": []
  }
 ],
 "metadata": {
  "kernelspec": {
   "display_name": "Python 3",
   "language": "python",
   "name": "python3"
  },
  "language_info": {
   "codemirror_mode": {
    "name": "ipython",
    "version": 3
   },
   "file_extension": ".py",
   "mimetype": "text/x-python",
   "name": "python",
   "nbconvert_exporter": "python",
   "pygments_lexer": "ipython3",
   "version": "3.6.1"
  }
 },
 "nbformat": 4,
 "nbformat_minor": 2
}
