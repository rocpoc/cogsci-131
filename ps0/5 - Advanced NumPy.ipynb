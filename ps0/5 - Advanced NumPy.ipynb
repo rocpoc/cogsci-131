{
 "cells": [
  {
   "cell_type": "markdown",
   "metadata": {
    "deletable": false,
    "nbgrader": {
     "cell_type": "release"
    }
   },
   "source": [
    "Make sure you fill in any place that says `YOUR CODE HERE` or \"YOUR ANSWER HERE\", as well as your collaborators below:"
   ]
  },
  {
   "cell_type": "code",
   "execution_count": 1,
   "metadata": {
    "deletable": false,
    "nbgrader": {
     "cell_type": "release"
    }
   },
   "outputs": [],
   "source": [
    "COLLABORATORS = \"\""
   ]
  },
  {
   "cell_type": "markdown",
   "metadata": {
    "deletable": false,
    "nbgrader": {}
   },
   "source": [
    "---"
   ]
  },
  {
   "cell_type": "markdown",
   "metadata": {
    "deletable": false
   },
   "source": [
    "<div class=\"alert alert-danger\">\n",
    "As a reminder, one of the prerequisites for this course if programming experience, especially in Python. If you do not have experience in Python specifically, we <b>strongly</b> recommend you go through the <a href=\"http://www.codecademy.com/tracks/python\">Codecademy Python course</a> as soon as possible to brush up on the basics of Python.\n",
    "</div>"
   ]
  },
  {
   "cell_type": "markdown",
   "metadata": {
    "deletable": false
   },
   "source": [
    "<div class=\"alert alert-warning\">Before going through this notebook, you may want to take a quick look at [7 - Debugging.ipynb](7 - Debugging.ipynb) if you haven't already for some tips on debugging your code when you get stuck.</div>"
   ]
  },
  {
   "cell_type": "markdown",
   "metadata": {
    "deletable": false
   },
   "source": [
    "Sometimes, there are more advanced operations we want to do with NumPy arrays. For example, if we had an array of values and wanted to set all negative values to zero, how would we do this? The answer is called *fancy indexing*, and be done two ways: boolean indexing, and array indexing."
   ]
  },
  {
   "cell_type": "code",
   "execution_count": 2,
   "metadata": {
    "deletable": false
   },
   "outputs": [],
   "source": [
    "import numpy as np"
   ]
  },
  {
   "cell_type": "markdown",
   "metadata": {
    "deletable": false
   },
   "source": [
    "## Boolean indexing"
   ]
  },
  {
   "cell_type": "markdown",
   "metadata": {
    "deletable": false
   },
   "source": [
    "The idea behind boolean indexing is that for each element of the array, we know whether we want to select it or not. A *boolean array* is an array of the same shape as our original array which contains only True and False values. The location of the True values in our boolean array indicate the location of the element in our original array that we want to select, while the location of the False values correspond to those elements in our original array that we _don't_ want to select.\n",
    "\n",
    "Let's consider our experiment data again:"
   ]
  },
  {
   "cell_type": "code",
   "execution_count": 3,
   "metadata": {
    "deletable": false
   },
   "outputs": [
    {
     "data": {
      "text/plain": [
       "array([[ 1668.07869346,   774.38921876,  3161.14983152, ...,\n",
       "         2359.05394666,   784.36404676,   448.33416341],\n",
       "       [ 2419.38185232,   809.18389145,  2766.62648929, ...,\n",
       "         1159.47379735,  1330.44887992,  1842.3268586 ],\n",
       "       [ 2221.02887591,  1496.00517071,   354.95889145, ...,\n",
       "         1355.74575912,  1205.29137942,  1385.71283365],\n",
       "       ..., \n",
       "       [ 1654.50469248,   518.3271927 ,  5127.58599224, ...,\n",
       "         2544.1042064 ,   624.07607332,  1029.57386246],\n",
       "       [  480.68016502,  4690.12200498,  1520.27397139, ...,\n",
       "         1000.40541618,   988.73647145,   378.43452948],\n",
       "       [ 1823.42891807,  3680.12951133,  3522.94413167, ...,\n",
       "          591.4133153 ,   383.26367525,  1768.50528483]])"
      ]
     },
     "execution_count": 3,
     "metadata": {},
     "output_type": "execute_result"
    }
   ],
   "source": [
    "data = np.load(\"data/experiment_data.npy\")\n",
    "data"
   ]
  },
  {
   "cell_type": "markdown",
   "metadata": {
    "deletable": false
   },
   "source": [
    "Recall that these are reaction times. It is typically accepted that really low reaction times -- such as less than 100 milliseconds -- are too fast for people to have actually seen and processed the stimulus. Let's see if there are any reaction times less than 100 milliseconds in our data.\n",
    "\n",
    "To pull out just the elements less than 100 milliseconds, we need two steps. First, we use boolean comparisons to check which are less than 100ms:"
   ]
  },
  {
   "cell_type": "code",
   "execution_count": 4,
   "metadata": {
    "deletable": false,
    "scrolled": true
   },
   "outputs": [
    {
     "data": {
      "text/plain": [
       "array([[False, False, False, ..., False, False, False],\n",
       "       [False, False, False, ..., False, False, False],\n",
       "       [False, False, False, ..., False, False, False],\n",
       "       ..., \n",
       "       [False, False, False, ..., False, False, False],\n",
       "       [False, False, False, ..., False, False, False],\n",
       "       [False, False, False, ..., False, False, False]], dtype=bool)"
      ]
     },
     "execution_count": 4,
     "metadata": {},
     "output_type": "execute_result"
    }
   ],
   "source": [
    "too_fast = data < 100\n",
    "too_fast"
   ]
  },
  {
   "cell_type": "markdown",
   "metadata": {
    "deletable": false
   },
   "source": [
    "Then, using this `too_fast` array, we can index *back into* the original array, and see that there are indeed some trials which were abnormally fast:"
   ]
  },
  {
   "cell_type": "code",
   "execution_count": 5,
   "metadata": {
    "deletable": false
   },
   "outputs": [
    {
     "data": {
      "text/plain": [
       "array([ 86.28125135,  76.63231393,  68.72526177,  77.25801031,\n",
       "        97.065495  ,  92.13792056,  90.05066503,  86.59892207,\n",
       "        96.45674184,  90.79293103,  81.97898954,  47.59226041,  98.80537434])"
      ]
     },
     "execution_count": 5,
     "metadata": {},
     "output_type": "execute_result"
    }
   ],
   "source": [
    "data[too_fast]"
   ]
  },
  {
   "cell_type": "markdown",
   "metadata": {
    "deletable": false
   },
   "source": [
    "What this is doing is essentially saying: for every element in `too_fast` that is `True`, give me the corresponding element in `arr`. \n",
    "\n",
    "Bcause this is a boolean array, we can also negate it, and pull out all the elements that we consider to be valid reaction times:"
   ]
  },
  {
   "cell_type": "code",
   "execution_count": 6,
   "metadata": {
    "deletable": false
   },
   "outputs": [
    {
     "data": {
      "text/plain": [
       "array([ 1668.07869346,   774.38921876,  3161.14983152, ...,   591.4133153 ,\n",
       "         383.26367525,  1768.50528483])"
      ]
     },
     "execution_count": 6,
     "metadata": {},
     "output_type": "execute_result"
    }
   ],
   "source": [
    "data[~too_fast]"
   ]
  },
  {
   "cell_type": "markdown",
   "metadata": {
    "deletable": false
   },
   "source": [
    "Not only does this *give* you the elements, but modifying those elements will modify the original array, too. In this case, we will set our \"too fast\" elements to have a value of \"not a number\", or `NaN`:"
   ]
  },
  {
   "cell_type": "code",
   "execution_count": 7,
   "metadata": {
    "deletable": false
   },
   "outputs": [
    {
     "data": {
      "text/plain": [
       "array([[ 1668.07869346,   774.38921876,  3161.14983152, ...,\n",
       "         2359.05394666,   784.36404676,   448.33416341],\n",
       "       [ 2419.38185232,   809.18389145,  2766.62648929, ...,\n",
       "         1159.47379735,  1330.44887992,  1842.3268586 ],\n",
       "       [ 2221.02887591,  1496.00517071,   354.95889145, ...,\n",
       "         1355.74575912,  1205.29137942,  1385.71283365],\n",
       "       ..., \n",
       "       [ 1654.50469248,   518.3271927 ,  5127.58599224, ...,\n",
       "         2544.1042064 ,   624.07607332,  1029.57386246],\n",
       "       [  480.68016502,  4690.12200498,  1520.27397139, ...,\n",
       "         1000.40541618,   988.73647145,   378.43452948],\n",
       "       [ 1823.42891807,  3680.12951133,  3522.94413167, ...,\n",
       "          591.4133153 ,   383.26367525,  1768.50528483]])"
      ]
     },
     "execution_count": 7,
     "metadata": {},
     "output_type": "execute_result"
    }
   ],
   "source": [
    "data[too_fast] = np.nan\n",
    "data"
   ]
  },
  {
   "cell_type": "markdown",
   "metadata": {
    "deletable": false
   },
   "source": [
    "Now, if we try to find which elements are less than 100 milliseconds, we will not find any:"
   ]
  },
  {
   "cell_type": "code",
   "execution_count": 8,
   "metadata": {
    "deletable": false
   },
   "outputs": [
    {
     "name": "stderr",
     "output_type": "stream",
     "text": [
      "/srv/app/venv/lib/python3.6/site-packages/ipykernel_launcher.py:1: RuntimeWarning: invalid value encountered in less\n",
      "  \"\"\"Entry point for launching an IPython kernel.\n"
     ]
    },
    {
     "data": {
      "text/plain": [
       "array([], dtype=float64)"
      ]
     },
     "execution_count": 8,
     "metadata": {},
     "output_type": "execute_result"
    }
   ],
   "source": [
    "data[data < 100]"
   ]
  },
  {
   "cell_type": "markdown",
   "metadata": {
    "deletable": false
   },
   "source": [
    "<div class=\"alert alert-warning\">Note: You may see a <code>RuntimeWarning</code> when you run the above cell, saying that an \"invalid value\" was encountered. Sometimes, it is possible for NaNs to appear in an array without your knowledge: for example, if you multiply infinity (<code>np.inf</code>) by zero. So, NumPy is warning us that it has encountered NaNs (the \"invalid value\") in case we weren't aware. We knew there were NaNs because we put them there, so in this scenario we can safely ignore the warning. <b>However</b>, if you encounter a warning like this in the future and you weren't expecting it, <i>make sure you investigate the source of the warning</i>!\n",
    "</div>"
   ]
  },
  {
   "cell_type": "markdown",
   "metadata": {
    "deletable": false
   },
   "source": [
    "### Exercise: Threshold (2 points)"
   ]
  },
  {
   "cell_type": "markdown",
   "metadata": {
    "deletable": false
   },
   "source": [
    "<div class=\"alert alert-success\">\n",
    "Write a function, <code>threshold</code>, which takes an array and returns a new array with values thresholded by the mean of the array.\n",
    "</div>"
   ]
  },
  {
   "cell_type": "code",
   "execution_count": 9,
   "metadata": {
    "deletable": false,
    "nbgrader": {
     "checksum": "9802794f6ab38991cfd2521c895de427",
     "grade": false,
     "grade_id": "threshold",
     "locked": false,
     "schema_version": 1,
     "solution": true
    }
   },
   "outputs": [],
   "source": [
    "def threshold(arr):\n",
    "    \"\"\"Computes the mean of the given array, and returns a new array which\n",
    "    is 1 where values in the original array are greater than the mean, 0 where\n",
    "    they are equal to the mean, and -1 where they are less than the mean.\n",
    "\n",
    "    Remember that if you want to create a copy of an array, you need to use\n",
    "    `arr.copy()`.\n",
    "    \n",
    "    Hint: your solution should use boolean indexing, and can be done in six\n",
    "    lines of code (including the return statement).\n",
    "    \n",
    "    Parameters\n",
    "    ----------\n",
    "    arr : numpy.ndarray\n",
    "\n",
    "    Returns\n",
    "    -------\n",
    "    new_arr : thresholded version of `arr`\n",
    "    \n",
    "    \"\"\"\n",
    "    mean_arr = arr.copy()\n",
    "    mean = np.mean(mean_arr)\n",
    "    \n",
    "    negative = mean_arr < mean\n",
    "    one = mean_arr > mean\n",
    "    zero = mean_arr == mean\n",
    "\n",
    "    mean_arr[negative] = -1\n",
    "    mean_arr[one] = 1\n",
    "    mean_arr[zero] = 0\n",
    "    \n",
    "    return mean_arr"
   ]
  },
  {
   "cell_type": "code",
   "execution_count": 10,
   "metadata": {
    "deletable": false
   },
   "outputs": [],
   "source": [
    "# add your own test cases in this cell!"
   ]
  },
  {
   "cell_type": "code",
   "execution_count": 11,
   "metadata": {
    "deletable": false,
    "nbgrader": {
     "checksum": "73c6ea72c2b150e307036eeaae07bfbb",
     "grade": true,
     "grade_id": "test_threshold_correct",
     "locked": false,
     "points": 1.5,
     "schema_version": 1,
     "solution": false
    }
   },
   "outputs": [
    {
     "name": "stdout",
     "output_type": "stream",
     "text": [
      "Success!\n"
     ]
    }
   ],
   "source": [
    "\"\"\"Try a few obvious threshold cases.\"\"\"\n",
    "from numpy.testing import assert_array_equal\n",
    "assert_array_equal(threshold(np.array([1, 1, 1, 1])), np.array([0, 0, 0, 0]))\n",
    "assert_array_equal(threshold(np.array([1, 0, 1, 0])), np.array([1, -1, 1, -1]))\n",
    "assert_array_equal(threshold(np.array([1, 0.5, 0, 0.5])), np.array([1, 0, -1, 0]))\n",
    "assert_array_equal(\n",
    "    threshold(np.array([[0.5, 0.2, -0.3, 0.1], [1.7, -3.8, 0.5, 0.6]])), \n",
    "    np.array([[1, 1, -1, 1], [1, -1, 1, 1]]))\n",
    "print(\"Success!\")"
   ]
  },
  {
   "cell_type": "code",
   "execution_count": 12,
   "metadata": {
    "deletable": false,
    "nbgrader": {
     "checksum": "e08f2d7a3d599ba2eebf8b4e9ea9abaf",
     "grade": true,
     "grade_id": "test_threshold_copy",
     "locked": false,
     "points": 0.5,
     "schema_version": 1,
     "solution": false
    }
   },
   "outputs": [
    {
     "name": "stdout",
     "output_type": "stream",
     "text": [
      "Success!\n"
     ]
    }
   ],
   "source": [
    "\"\"\"Make sure a copy of the array is being returned, and that the original array is unmodified.\"\"\"\n",
    "x = np.array([[0.5, 0.2, -0.3, 0.1], [1.7, -3.8, 0.5, 0.6]])\n",
    "y = threshold(x)\n",
    "assert_array_equal(x, np.array([[0.5, 0.2, -0.3, 0.1], [1.7, -3.8, 0.5, 0.6]]))\n",
    "assert_array_equal(y, np.array([[1, 1, -1, 1], [1, -1, 1, 1]]))\n",
    "print(\"Success!\")"
   ]
  },
  {
   "cell_type": "markdown",
   "metadata": {
    "deletable": false
   },
   "source": [
    "## Array indexing"
   ]
  },
  {
   "cell_type": "markdown",
   "metadata": {
    "deletable": false
   },
   "source": [
    "The other type of fancy indexing is *array indexing*. Let's consider our average response across participants:"
   ]
  },
  {
   "cell_type": "code",
   "execution_count": 13,
   "metadata": {
    "deletable": false
   },
   "outputs": [
    {
     "data": {
      "text/plain": [
       "array([ 1698.68801725,  1888.71240023,  1796.53362098,  1879.6038851 ,\n",
       "        1882.53249686,  1824.79568606,  1746.75780815,  1748.55448988,\n",
       "        1655.75347639,  1740.67757826,  1854.98538242,  1720.70259522,\n",
       "        1675.2006642 ,  1746.52724187,  1768.64738486,  1794.45589925,\n",
       "        1860.06861469,  1835.73006077,  1520.77977686,  1795.55654863,\n",
       "        1794.26437533,  1716.73345285,  1740.64166499,  1704.87601852,\n",
       "        1906.06514665,  1722.68258855,  1857.70131135,  1878.26245376,\n",
       "        1741.26393398,  1680.21711839,  1830.55940979,  1697.03486501,\n",
       "        1892.45119973,  1888.69786047,  1653.73721041,  1794.17096019,\n",
       "        1779.9941148 ,  1832.42610672,  1861.63504795,  1685.20108106,\n",
       "        1652.29647646,  1718.43799102,  1633.30628308,  1686.72435462,\n",
       "        1810.54490061,  1703.7949561 ,  1747.64361845,  1670.90982655,\n",
       "        1830.47925898,  1771.15425183])"
      ]
     },
     "execution_count": 13,
     "metadata": {},
     "output_type": "execute_result"
    }
   ],
   "source": [
    "data = np.load(\"data/experiment_data.npy\")\n",
    "avg_responses = np.mean(data, axis=1)\n",
    "avg_responses"
   ]
  },
  {
   "cell_type": "markdown",
   "metadata": {
    "deletable": false
   },
   "source": [
    "And let's say we also know which element corresponds to which participant, through the following `participants` array:"
   ]
  },
  {
   "cell_type": "code",
   "execution_count": 14,
   "metadata": {
    "deletable": false
   },
   "outputs": [
    {
     "data": {
      "text/plain": [
       "array(['p_045', 'p_039', 'p_027', 'p_023', 'p_041', 'p_008', 'p_025',\n",
       "       'p_019', 'p_036', 'p_049', 'p_050', 'p_029', 'p_032', 'p_006',\n",
       "       'p_028', 'p_034', 'p_044', 'p_016', 'p_010', 'p_017', 'p_022',\n",
       "       'p_033', 'p_042', 'p_009', 'p_047', 'p_035', 'p_002', 'p_014',\n",
       "       'p_020', 'p_043', 'p_003', 'p_012', 'p_030', 'p_015', 'p_011',\n",
       "       'p_018', 'p_004', 'p_040', 'p_001', 'p_031', 'p_005', 'p_013',\n",
       "       'p_046', 'p_038', 'p_021', 'p_026', 'p_024', 'p_048', 'p_007',\n",
       "       'p_037'], \n",
       "      dtype='<U5')"
      ]
     },
     "execution_count": 14,
     "metadata": {},
     "output_type": "execute_result"
    }
   ],
   "source": [
    "participants = np.load(\"data/experiment_participants.npy\")\n",
    "participants"
   ]
  },
  {
   "cell_type": "markdown",
   "metadata": {
    "deletable": false
   },
   "source": [
    "In other words, the first element of `avg_responses` corresponds to the first element of `participants` (so participant 45), the second element of `avg_responses` was given by participant 39, and so on.\n",
    "\n",
    "Let's say we wanted to know what participants had the largest average response, and what participants had the smallest average response. To do this, we might try sorting the responses:"
   ]
  },
  {
   "cell_type": "code",
   "execution_count": 15,
   "metadata": {
    "deletable": false
   },
   "outputs": [
    {
     "data": {
      "text/plain": [
       "array([ 1520.77977686,  1633.30628308,  1652.29647646,  1653.73721041,\n",
       "        1655.75347639,  1670.90982655,  1675.2006642 ,  1680.21711839,\n",
       "        1685.20108106,  1686.72435462,  1697.03486501,  1698.68801725,\n",
       "        1703.7949561 ,  1704.87601852,  1716.73345285,  1718.43799102,\n",
       "        1720.70259522,  1722.68258855,  1740.64166499,  1740.67757826,\n",
       "        1741.26393398,  1746.52724187,  1746.75780815,  1747.64361845,\n",
       "        1748.55448988,  1768.64738486,  1771.15425183,  1779.9941148 ,\n",
       "        1794.17096019,  1794.26437533,  1794.45589925,  1795.55654863,\n",
       "        1796.53362098,  1810.54490061,  1824.79568606,  1830.47925898,\n",
       "        1830.55940979,  1832.42610672,  1835.73006077,  1854.98538242,\n",
       "        1857.70131135,  1860.06861469,  1861.63504795,  1878.26245376,\n",
       "        1879.6038851 ,  1882.53249686,  1888.69786047,  1888.71240023,\n",
       "        1892.45119973,  1906.06514665])"
      ]
     },
     "execution_count": 15,
     "metadata": {},
     "output_type": "execute_result"
    }
   ],
   "source": [
    "np.sort(avg_responses)"
   ]
  },
  {
   "cell_type": "markdown",
   "metadata": {
    "deletable": false
   },
   "source": [
    "However, we then don't know which responses correspond to which trials. A different way to do this would be to use `np.argsort`, which returns an array of indices corresponding to the sorted order of the elements, rather than the elements in sorted order:"
   ]
  },
  {
   "cell_type": "code",
   "execution_count": 16,
   "metadata": {
    "deletable": false
   },
   "outputs": [
    {
     "data": {
      "text/plain": [
       "array([18, 42, 40, 34,  8, 47, 12, 29, 39, 43, 31,  0, 45, 23, 21, 41, 11,\n",
       "       25, 22,  9, 28, 13,  6, 46,  7, 14, 49, 36, 35, 20, 15, 19,  2, 44,\n",
       "        5, 48, 30, 37, 17, 10, 26, 16, 38, 27,  3,  4, 33,  1, 32, 24])"
      ]
     },
     "execution_count": 16,
     "metadata": {},
     "output_type": "execute_result"
    }
   ],
   "source": [
    "np.argsort(avg_responses)"
   ]
  },
  {
   "cell_type": "markdown",
   "metadata": {
    "deletable": false
   },
   "source": [
    "What this says is that element 18 is the smallest response, element 42 is the next smallest response, and so on, all the way to element 24, which is the largest response:"
   ]
  },
  {
   "cell_type": "code",
   "execution_count": 17,
   "metadata": {
    "deletable": false
   },
   "outputs": [
    {
     "data": {
      "text/plain": [
       "1520.7797768567086"
      ]
     },
     "execution_count": 17,
     "metadata": {},
     "output_type": "execute_result"
    }
   ],
   "source": [
    "avg_responses[18]"
   ]
  },
  {
   "cell_type": "code",
   "execution_count": 18,
   "metadata": {
    "deletable": false
   },
   "outputs": [
    {
     "data": {
      "text/plain": [
       "1633.3062830758922"
      ]
     },
     "execution_count": 18,
     "metadata": {},
     "output_type": "execute_result"
    }
   ],
   "source": [
    "avg_responses[42]"
   ]
  },
  {
   "cell_type": "code",
   "execution_count": 19,
   "metadata": {
    "deletable": false
   },
   "outputs": [
    {
     "data": {
      "text/plain": [
       "1906.0651466520821"
      ]
     },
     "execution_count": 19,
     "metadata": {},
     "output_type": "execute_result"
    }
   ],
   "source": [
    "avg_responses[24]"
   ]
  },
  {
   "cell_type": "markdown",
   "metadata": {
    "deletable": false
   },
   "source": [
    "To use fancy indexing, we can actually use this array of integers as an index. If we use it on the original array, then we will obtain the sorted elements:"
   ]
  },
  {
   "cell_type": "code",
   "execution_count": 20,
   "metadata": {
    "deletable": false
   },
   "outputs": [
    {
     "data": {
      "text/plain": [
       "array([ 1520.77977686,  1633.30628308,  1652.29647646,  1653.73721041,\n",
       "        1655.75347639,  1670.90982655,  1675.2006642 ,  1680.21711839,\n",
       "        1685.20108106,  1686.72435462,  1697.03486501,  1698.68801725,\n",
       "        1703.7949561 ,  1704.87601852,  1716.73345285,  1718.43799102,\n",
       "        1720.70259522,  1722.68258855,  1740.64166499,  1740.67757826,\n",
       "        1741.26393398,  1746.52724187,  1746.75780815,  1747.64361845,\n",
       "        1748.55448988,  1768.64738486,  1771.15425183,  1779.9941148 ,\n",
       "        1794.17096019,  1794.26437533,  1794.45589925,  1795.55654863,\n",
       "        1796.53362098,  1810.54490061,  1824.79568606,  1830.47925898,\n",
       "        1830.55940979,  1832.42610672,  1835.73006077,  1854.98538242,\n",
       "        1857.70131135,  1860.06861469,  1861.63504795,  1878.26245376,\n",
       "        1879.6038851 ,  1882.53249686,  1888.69786047,  1888.71240023,\n",
       "        1892.45119973,  1906.06514665])"
      ]
     },
     "execution_count": 20,
     "metadata": {},
     "output_type": "execute_result"
    }
   ],
   "source": [
    "avg_responses[np.argsort(avg_responses)]"
   ]
  },
  {
   "cell_type": "markdown",
   "metadata": {
    "deletable": false
   },
   "source": [
    "And if we use it on our array of participants, then we can determine what participants had the largest and smallest responses:"
   ]
  },
  {
   "cell_type": "code",
   "execution_count": 21,
   "metadata": {
    "deletable": false
   },
   "outputs": [
    {
     "data": {
      "text/plain": [
       "array(['p_010', 'p_046', 'p_005', 'p_011', 'p_036', 'p_048', 'p_032',\n",
       "       'p_043', 'p_031', 'p_038', 'p_012', 'p_045', 'p_026', 'p_009',\n",
       "       'p_033', 'p_013', 'p_029', 'p_035', 'p_042', 'p_049', 'p_020',\n",
       "       'p_006', 'p_025', 'p_024', 'p_019', 'p_028', 'p_037', 'p_004',\n",
       "       'p_018', 'p_022', 'p_034', 'p_017', 'p_027', 'p_021', 'p_008',\n",
       "       'p_007', 'p_003', 'p_040', 'p_016', 'p_050', 'p_002', 'p_044',\n",
       "       'p_001', 'p_014', 'p_023', 'p_041', 'p_015', 'p_039', 'p_030',\n",
       "       'p_047'], \n",
       "      dtype='<U5')"
      ]
     },
     "execution_count": 21,
     "metadata": {},
     "output_type": "execute_result"
    }
   ],
   "source": [
    "participants[np.argsort(avg_responses)]"
   ]
  },
  {
   "cell_type": "markdown",
   "metadata": {
    "deletable": false
   },
   "source": [
    "So, in this case, participant 10 had the smallest average response, while participant 47 had the largest average response."
   ]
  },
  {
   "cell_type": "markdown",
   "metadata": {
    "deletable": false
   },
   "source": [
    "## From boolean to integer indices"
   ]
  },
  {
   "cell_type": "markdown",
   "metadata": {
    "deletable": false
   },
   "source": [
    "Sometimes, we want to use a combination of boolean and array indexing. For example, if we wanted to pull out just the responses for participant 2, a natural approach would be to use boolean indexing:"
   ]
  },
  {
   "cell_type": "code",
   "execution_count": 22,
   "metadata": {
    "deletable": false
   },
   "outputs": [],
   "source": [
    "participant_2_responses = data[participants == 'p_002']"
   ]
  },
  {
   "cell_type": "markdown",
   "metadata": {
    "deletable": false
   },
   "source": [
    "Another way that we could do this would be to determine the *index* of participant 2, and then use that to index into `data`. To do this, we can use a function called `np.argwhere`, which returns the indices of elements that are true:"
   ]
  },
  {
   "cell_type": "code",
   "execution_count": 23,
   "metadata": {
    "deletable": false
   },
   "outputs": [
    {
     "data": {
      "text/plain": [
       "array([[26]])"
      ]
     },
     "execution_count": 23,
     "metadata": {},
     "output_type": "execute_result"
    }
   ],
   "source": [
    "np.argwhere(participants == 'p_002')"
   ]
  },
  {
   "cell_type": "markdown",
   "metadata": {
    "deletable": false
   },
   "source": [
    "So in this case, we see that participant 2 corresponds to index 26."
   ]
  },
  {
   "cell_type": "markdown",
   "metadata": {
    "deletable": false
   },
   "source": [
    "### Exercise: Averaging responses (2 points)"
   ]
  },
  {
   "cell_type": "markdown",
   "metadata": {
    "deletable": false
   },
   "source": [
    "<div class=\"alert alert-success\">\n",
    "Write a function that takes as arguments a participant id, the data, and the list of participant names, and computes the average response for the given participant.\n",
    "</div>"
   ]
  },
  {
   "cell_type": "markdown",
   "metadata": {
    "deletable": false
   },
   "source": [
    "<div class=\"alert alert-warning\">Occasionally we will ask you to raise an error if your function gets inputs that it's not expecting. As a reminder, to raise an error, you should use the <code>raise</code> keyword. For example, to raise a <code>ValueError</code>, you would do <code>raise ValueError(message)</code>, where <code>message</code> is a string explaining specifically what the error was.</div>"
   ]
  },
  {
   "cell_type": "code",
   "execution_count": 24,
   "metadata": {
    "deletable": false,
    "nbgrader": {
     "checksum": "f70da6c528af0c8a7c2317e96c8e6696",
     "grade": false,
     "grade_id": "participant_mean",
     "locked": false,
     "schema_version": 1,
     "solution": true
    }
   },
   "outputs": [],
   "source": [
    "def participant_mean(participant, data, participants):\n",
    "    \"\"\"Computes the mean response for the given participant. A ValueError\n",
    "    should be raised if more than one participant has the given name.\n",
    "    \n",
    "    Hint: your solution should use `np.argwhere`, and can be done in\n",
    "    four lines (including the return statement).\n",
    "    \n",
    "    Parameters\n",
    "    ----------\n",
    "    participant: string\n",
    "        The name/id of the participant\n",
    "    data: numpy.ndarray with shape (n, m)\n",
    "        Rows correspond to participants, columns to trials\n",
    "    participants: numpy.ndarray with shape(n,)\n",
    "        A string array containing participant names/ids, corresponding to\n",
    "        the rows of the `data` array.\n",
    "        \n",
    "    Returns\n",
    "    -------\n",
    "    float: the mean response of the participant over all trials\n",
    "    \n",
    "    \"\"\"\n",
    "    person_arr = np.argwhere(participants == participant)\n",
    "    if person_arr.size > 1:\n",
    "        raise ValueError(\"too big\")\n",
    "    participant_responses = data[participants == participant]\n",
    "    return np.mean(participant_responses)"
   ]
  },
  {
   "cell_type": "code",
   "execution_count": 25,
   "metadata": {
    "deletable": false
   },
   "outputs": [],
   "source": [
    "# add your own test cases in this cell!"
   ]
  },
  {
   "cell_type": "code",
   "execution_count": 26,
   "metadata": {
    "deletable": false,
    "nbgrader": {
     "checksum": "d6e374086ef6e9e93c7850e30e59eb1b",
     "grade": true,
     "grade_id": "test_participant_mean_1",
     "locked": false,
     "points": 1,
     "schema_version": 1,
     "solution": false
    }
   },
   "outputs": [
    {
     "name": "stdout",
     "output_type": "stream",
     "text": [
      "Success!\n"
     ]
    }
   ],
   "source": [
    "\"\"\"Check for correct answers with the example experiment data.\"\"\"\n",
    "from numpy.testing import assert_allclose\n",
    "data = np.load(\"data/experiment_data.npy\")\n",
    "participants = np.load(\"data/experiment_participants.npy\")\n",
    "assert_allclose(participant_mean('p_002', data, participants), 1857.7013113499095)\n",
    "assert_allclose(participant_mean('p_047', data, participants), 1906.0651466520821)\n",
    "assert_allclose(participant_mean('p_013', data, participants), 1718.4379910225193)\n",
    "print(\"Success!\")"
   ]
  },
  {
   "cell_type": "code",
   "execution_count": 27,
   "metadata": {
    "deletable": false,
    "nbgrader": {
     "checksum": "5952590b4974455e32d70234845dfc5d",
     "grade": true,
     "grade_id": "test_participant_mean_2",
     "locked": false,
     "points": 0.5,
     "schema_version": 1,
     "solution": false
    }
   },
   "outputs": [
    {
     "name": "stdout",
     "output_type": "stream",
     "text": [
      "Success!\n"
     ]
    }
   ],
   "source": [
    "\"\"\"Check for correct answers for some different data.\"\"\"\n",
    "data = np.arange(32).reshape((4, 8))\n",
    "participants = np.array(['a', 'b', 'c', 'd'])\n",
    "assert_allclose(participant_mean('a', data, participants), 3.5)\n",
    "assert_allclose(participant_mean('b', data, participants), 11.5)\n",
    "assert_allclose(participant_mean('c', data, participants), 19.5)\n",
    "assert_allclose(participant_mean('d', data, participants), 27.5)\n",
    "print(\"Success!\")"
   ]
  },
  {
   "cell_type": "code",
   "execution_count": 28,
   "metadata": {
    "deletable": false,
    "nbgrader": {
     "checksum": "b6e391874a8413efe26f492408b1599a",
     "grade": true,
     "grade_id": "test_participant_mean_raises",
     "locked": false,
     "points": 0.5,
     "schema_version": 1,
     "solution": false
    }
   },
   "outputs": [
    {
     "name": "stdout",
     "output_type": "stream",
     "text": [
      "Success!\n"
     ]
    }
   ],
   "source": [
    "\"\"\"Check that a ValueError is raised when the participant name is not unique.\"\"\"\n",
    "from nose.tools import assert_raises\n",
    "data = np.arange(32).reshape((4, 8))\n",
    "participants = np.array(['a', 'b', 'c', 'a'])\n",
    "assert_raises(ValueError, participant_mean, 'a', data, participants)\n",
    "print(\"Success!\")"
   ]
  },
  {
   "cell_type": "markdown",
   "metadata": {
    "deletable": false,
    "nbgrader": {}
   },
   "source": [
    "---"
   ]
  },
  {
   "cell_type": "markdown",
   "metadata": {
    "deletable": false,
    "nbgrader": {}
   },
   "source": [
    "Before turning this problem in remember to do the following steps:\n",
    "\n",
    "1. **Restart the kernel** (Kernel$\\rightarrow$Restart)\n",
    "2. **Run all cells** (Cell$\\rightarrow$Run All)\n",
    "3. **Save** (File$\\rightarrow$Save and Checkpoint)"
   ]
  },
  {
   "cell_type": "markdown",
   "metadata": {
    "deletable": false,
    "nbgrader": {
     "cell_type": "release"
    }
   },
   "source": [
    "<div class=\"alert alert-danger\">After you have completed these three steps, ensure that the following cell has printed \"No errors\". If it has <b>not</b> printed \"No errors\", then your code has a bug in it and has thrown an error! Make sure you fix this error before turning in your problem set.</div>"
   ]
  },
  {
   "cell_type": "code",
   "execution_count": 29,
   "metadata": {
    "deletable": false,
    "nbgrader": {}
   },
   "outputs": [
    {
     "name": "stdout",
     "output_type": "stream",
     "text": [
      "No errors!\n"
     ]
    }
   ],
   "source": [
    "print(\"No errors!\")"
   ]
  }
 ],
 "metadata": {
  "kernelspec": {
   "display_name": "Python 3",
   "language": "python",
   "name": "python3"
  },
  "language_info": {
   "codemirror_mode": {
    "name": "ipython",
    "version": 3
   },
   "file_extension": ".py",
   "mimetype": "text/x-python",
   "name": "python",
   "nbconvert_exporter": "python",
   "pygments_lexer": "ipython3",
   "version": "3.6.1"
  }
 },
 "nbformat": 4,
 "nbformat_minor": 1
}
