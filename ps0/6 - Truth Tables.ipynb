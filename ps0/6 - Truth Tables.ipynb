{
 "cells": [
  {
   "cell_type": "markdown",
   "metadata": {
    "deletable": false,
    "nbgrader": {
     "cell_type": "release"
    }
   },
   "source": [
    "Make sure you fill in any place that says `YOUR CODE HERE` or \"YOUR ANSWER HERE\", as well as your collaborators below:"
   ]
  },
  {
   "cell_type": "code",
   "execution_count": 1,
   "metadata": {
    "deletable": false,
    "nbgrader": {
     "cell_type": "release"
    }
   },
   "outputs": [],
   "source": [
    "COLLABORATORS = \"\""
   ]
  },
  {
   "cell_type": "markdown",
   "metadata": {
    "deletable": false,
    "nbgrader": {}
   },
   "source": [
    "---"
   ]
  },
  {
   "cell_type": "markdown",
   "metadata": {
    "deletable": false
   },
   "source": [
    "<div class=\"alert alert-danger\">\n",
    "As a reminder, one of the prerequisites for this course if programming experience, especially in Python. If you do not have experience in Python specifically, we <b>strongly</b> recommend you go through the <a href=\"http://www.codecademy.com/tracks/python\">Codecademy Python course</a> as soon as possible to brush up on the basics of Python.\n",
    "</div>"
   ]
  },
  {
   "cell_type": "markdown",
   "metadata": {
    "deletable": false
   },
   "source": [
    "<div class=\"alert alert-warning\">Before going through this notebook, you may want to take a quick look at [7 - Debugging.ipynb](7 - Debugging.ipynb) if you haven't already for some tips on debugging your code when you get stuck.</div>"
   ]
  },
  {
   "cell_type": "code",
   "execution_count": 2,
   "metadata": {
    "deletable": false
   },
   "outputs": [],
   "source": [
    "import numpy as np"
   ]
  },
  {
   "cell_type": "markdown",
   "metadata": {
    "deletable": false
   },
   "source": [
    "This is a final exercise to get you comfortable working with numpy arrays. In this exercise, we're going to be programmatically constructing truth tables from boolean vectors. A *truth table* lists all possible Boolean outputs for the given inputs. For example, an AND truth table would look like this:\n",
    "\n",
    "<table class=\"table table-striped\" style=\"width: 5em;\">\n",
    "  <thead>\n",
    "    <tr>\n",
    "      <th>$a$</th>\n",
    "      <th>$b$</th>\n",
    "      <th>$a\\wedge b$\n",
    "    </tr>\n",
    "  </thead>\n",
    "  <tbody>\n",
    "    <tr>\n",
    "      <th>0</th>\n",
    "      <th>0</th>\n",
    "      <th>0</th>\n",
    "    </tr>\n",
    "    <tr>\n",
    "      <th>0</th>\n",
    "      <th>1</th>\n",
    "      <th>0</th>\n",
    "    </tr>\n",
    "    <tr>\n",
    "      <th>1</th>\n",
    "      <th>0</th>\n",
    "      <th>0</th>\n",
    "    </tr>\n",
    "    <tr>\n",
    "      <th>1</th>\n",
    "      <th>1</th>\n",
    "      <th>1</th>\n",
    "    </tr>\n",
    "  </tbody>\n",
    "</table>"
   ]
  },
  {
   "cell_type": "markdown",
   "metadata": {
    "deletable": false
   },
   "source": [
    "Each row corresponds to different values of $a$ (first column) and $b$ (second column), and the third column corresponds to whatever $a\\wedge b$ is.\n",
    "\n",
    "We can represent the different values of $a$ and $b$ using boolean arrays in numpy:"
   ]
  },
  {
   "cell_type": "code",
   "execution_count": 3,
   "metadata": {
    "deletable": false
   },
   "outputs": [],
   "source": [
    "# create boolean vectors a and b\n",
    "a = np.array([0, 0, 1, 1], dtype=bool)\n",
    "b = np.array([0, 1, 0, 1], dtype=bool)"
   ]
  },
  {
   "cell_type": "markdown",
   "metadata": {
    "deletable": false
   },
   "source": [
    "You can compute the logical AND of `a` and `b` using the `&` operator (and the symbols for the Boolean operations OR and NOT are `|` and `~`, respectively)."
   ]
  },
  {
   "cell_type": "code",
   "execution_count": 4,
   "metadata": {
    "deletable": false
   },
   "outputs": [
    {
     "data": {
      "text/plain": [
       "array([False, False, False,  True], dtype=bool)"
      ]
     },
     "execution_count": 4,
     "metadata": {},
     "output_type": "execute_result"
    }
   ],
   "source": [
    "# run this cell to see what happens when we use the & operator on a and b\n",
    "a & b"
   ]
  },
  {
   "cell_type": "markdown",
   "metadata": {
    "deletable": false
   },
   "source": [
    "<div class=\"alert alert-success\">Complete the functions below to produce truth tables for AND, OR, and NOT. Be sure to use the logical operators discussed above in your solution!</div>"
   ]
  },
  {
   "cell_type": "markdown",
   "metadata": {
    "deletable": false
   },
   "source": [
    "----"
   ]
  },
  {
   "cell_type": "markdown",
   "metadata": {
    "deletable": false
   },
   "source": [
    "## Part A: AND Table (1.25 points)"
   ]
  },
  {
   "cell_type": "code",
   "execution_count": 5,
   "metadata": {
    "deletable": false,
    "nbgrader": {
     "checksum": "0e91022c137efddac11101221698632d",
     "grade": false,
     "grade_id": "and_table",
     "locked": false,
     "schema_version": 1,
     "solution": true
    }
   },
   "outputs": [],
   "source": [
    "def and_table(a, b):\n",
    "    \"\"\"\n",
    "    Takes two boolean vectors, `a` and `b`, and returns an AND truth\n",
    "    table consisting three columns: a, b, and (a AND b). If you forget\n",
    "    how an AND operator works, see the Wikipedia page on logical\n",
    "    conjunctions: https://en.wikipedia.org/wiki/Logical_conjunction\n",
    "\n",
    "    Parameters\n",
    "    ----------\n",
    "    a : boolean array with shape (n,)\n",
    "    b : boolean array with shape (n,)\n",
    "\n",
    "    Returns\n",
    "    -------\n",
    "    boolean array with shape (n, 3)\n",
    "\n",
    "    \"\"\"\n",
    "    n = a.size \n",
    "    n_array = np.zeros((n, 3))\n",
    "    n_array[:, 0] = a\n",
    "    n_array[:, 1] = b\n",
    "    n_array[:, 2] = a&b\n",
    "    return n_array"
   ]
  },
  {
   "cell_type": "markdown",
   "metadata": {
    "deletable": false
   },
   "source": [
    "After you have implemented `and_table` above, you can try running it with inputs `a` and `b`:"
   ]
  },
  {
   "cell_type": "code",
   "execution_count": 6,
   "metadata": {
    "deletable": false
   },
   "outputs": [
    {
     "data": {
      "text/plain": [
       "array([[ 0.,  0.,  0.],\n",
       "       [ 0.,  1.,  0.],\n",
       "       [ 1.,  0.,  0.],\n",
       "       [ 1.,  1.,  1.]])"
      ]
     },
     "execution_count": 6,
     "metadata": {},
     "output_type": "execute_result"
    }
   ],
   "source": [
    "and_table(a, b)"
   ]
  },
  {
   "cell_type": "code",
   "execution_count": 7,
   "metadata": {
    "deletable": false
   },
   "outputs": [],
   "source": [
    "# add your own test cases in this cell!\n"
   ]
  },
  {
   "cell_type": "code",
   "execution_count": 8,
   "metadata": {
    "deletable": false,
    "nbgrader": {
     "checksum": "1d600d6c999b38829ea0c6bd5116ba9a",
     "grade": true,
     "grade_id": "and_correct_shape",
     "locked": false,
     "points": 0.25,
     "schema_version": 1,
     "solution": false
    }
   },
   "outputs": [
    {
     "name": "stdout",
     "output_type": "stream",
     "text": [
      "Success!\n"
     ]
    }
   ],
   "source": [
    "\"\"\"Check whether and_table returns an array with the correct shape for random inputs.\"\"\"\n",
    "from nose.tools import assert_equal\n",
    "for i in range(10):\n",
    "    # randomize the vector length\n",
    "    n = np.random.randint(1, 11)\n",
    "    # randomly generate binary vectors\n",
    "    v1 = np.random.randint(0, 2, n).astype(bool)\n",
    "    v2 = np.random.randint(0, 2, n).astype(bool)\n",
    "    # check the shape of the AND table\n",
    "    assert_equal(and_table(v1, v2).shape, (n, 3))\n",
    "\n",
    "print(\"Success!\")"
   ]
  },
  {
   "cell_type": "code",
   "execution_count": 9,
   "metadata": {
    "deletable": false,
    "nbgrader": {
     "checksum": "c0566483bec05f00526c799ffce19e02",
     "grade": true,
     "grade_id": "and_correct_answer",
     "locked": false,
     "points": 1,
     "schema_version": 1,
     "solution": false
    }
   },
   "outputs": [
    {
     "name": "stdout",
     "output_type": "stream",
     "text": [
      "Success!\n"
     ]
    }
   ],
   "source": [
    "\"\"\"Check whether and_table returns the correct answer for two particular vectors.\"\"\"\n",
    "from numpy.testing import assert_array_equal\n",
    "# create the two vectors\n",
    "v1 = np.array([0, 0, 1, 1], dtype=bool)\n",
    "v2 = np.array([0, 1, 0, 1], dtype=bool)\n",
    "\n",
    "# check (v1 AND v1)\n",
    "v11 = np.array([[0, 0, 0], [0, 0, 0], [1, 1, 1], [1, 1, 1]], dtype=bool)\n",
    "assert_array_equal(and_table(v1, v1), v11)\n",
    "\n",
    "# check (v1 AND v2)\n",
    "v12 = np.array([[0, 0, 0], [0, 1, 0], [1, 0, 0], [1, 1, 1]], dtype=bool)\n",
    "assert_array_equal(and_table(v1, v2), v12)\n",
    "\n",
    "# check (v2 AND v1)\n",
    "v21 = np.array([[0, 0, 0], [1, 0, 0], [0, 1, 0], [1, 1, 1]], dtype=bool)\n",
    "assert_array_equal(and_table(v2, v1), v21)\n",
    "\n",
    "# check (v2 AND v2)\n",
    "v22 = np.array([[0, 0, 0], [1, 1, 1], [0, 0, 0], [1, 1, 1]], dtype=bool)\n",
    "assert_array_equal(and_table(v2, v2), v22)\n",
    "\n",
    "print(\"Success!\")"
   ]
  },
  {
   "cell_type": "markdown",
   "metadata": {
    "deletable": false
   },
   "source": [
    "----"
   ]
  },
  {
   "cell_type": "markdown",
   "metadata": {
    "deletable": false
   },
   "source": [
    "## Part B: OR Table (1.25 points)"
   ]
  },
  {
   "cell_type": "code",
   "execution_count": 10,
   "metadata": {
    "deletable": false,
    "nbgrader": {
     "checksum": "d6d8c0903fa4434efe35e0142b9fe38c",
     "grade": false,
     "grade_id": "or_table",
     "locked": false,
     "schema_version": 1,
     "solution": true
    }
   },
   "outputs": [],
   "source": [
    "def or_table(a, b):\n",
    "    \"\"\"\n",
    "    Takes two boolean vectors, `a` and `b`, and returns an OR truth\n",
    "    table consisting three columns: a, b, and (a OR b).\n",
    "\n",
    "    Parameters\n",
    "    ----------\n",
    "    a : boolean array with shape (n,)\n",
    "    b : boolean array with shape (n,)\n",
    "\n",
    "    Returns\n",
    "    -------\n",
    "    boolean array with shape (n, 3)\n",
    "\n",
    "    \"\"\"\n",
    "    n = a.size \n",
    "    n_array = np.zeros((n, 3))\n",
    "    n_array[:, 0] = a\n",
    "    n_array[:, 1] = b\n",
    "    n_array[:, 2] = np.logical_or(a,b)\n",
    "    return n_array"
   ]
  },
  {
   "cell_type": "markdown",
   "metadata": {
    "deletable": false
   },
   "source": [
    "After you have implemented `or_table` above, you can try running it with inputs `a` and `b`:"
   ]
  },
  {
   "cell_type": "code",
   "execution_count": 11,
   "metadata": {
    "deletable": false
   },
   "outputs": [
    {
     "data": {
      "text/plain": [
       "array([[ 0.,  0.,  0.],\n",
       "       [ 0.,  1.,  1.],\n",
       "       [ 1.,  0.,  1.],\n",
       "       [ 1.,  1.,  1.]])"
      ]
     },
     "execution_count": 11,
     "metadata": {},
     "output_type": "execute_result"
    }
   ],
   "source": [
    "or_table(a, b)"
   ]
  },
  {
   "cell_type": "code",
   "execution_count": 12,
   "metadata": {
    "deletable": false
   },
   "outputs": [],
   "source": [
    "# add your own test cases in this cell!\n"
   ]
  },
  {
   "cell_type": "code",
   "execution_count": 13,
   "metadata": {
    "deletable": false,
    "nbgrader": {
     "checksum": "c3f8a6a43ffd822420485ce2fd6c2f76",
     "grade": true,
     "grade_id": "or_correct_shape",
     "locked": false,
     "points": 0.25,
     "schema_version": 1,
     "solution": false
    }
   },
   "outputs": [
    {
     "name": "stdout",
     "output_type": "stream",
     "text": [
      "Success!\n"
     ]
    }
   ],
   "source": [
    "\"\"\"Check whether or_table returns an array with the correct shape for random inputs.\"\"\"\n",
    "for i in range(10):\n",
    "    # randomize the vector length\n",
    "    n = np.random.randint(1, 11)\n",
    "    # randomly generate binary vectors\n",
    "    v1 = np.random.randint(0, 2, n).astype(bool)\n",
    "    v2 = np.random.randint(0, 2, n).astype(bool)\n",
    "    # check the shape of the OR table\n",
    "    assert_equal(or_table(v1, v2).shape, (n, 3))\n",
    "\n",
    "print(\"Success!\")"
   ]
  },
  {
   "cell_type": "code",
   "execution_count": 14,
   "metadata": {
    "deletable": false,
    "nbgrader": {
     "checksum": "bc2ee869e1d5f868eb46285d638cca20",
     "grade": true,
     "grade_id": "or_correct_answer",
     "locked": false,
     "points": 1,
     "schema_version": 1,
     "solution": false
    }
   },
   "outputs": [
    {
     "name": "stdout",
     "output_type": "stream",
     "text": [
      "Success!\n"
     ]
    }
   ],
   "source": [
    "\"\"\"Check whether or_table returns the correct answer for two particular vectors.\"\"\"\n",
    "# create the two vectors\n",
    "v1 = np.array([0, 0, 1, 1], dtype=bool)\n",
    "v2 = np.array([0, 1, 0, 1], dtype=bool)\n",
    "\n",
    "# check (v1 OR v1)\n",
    "v11 = np.array([[0, 0, 0], [0, 0, 0], [1, 1, 1], [1, 1, 1]], dtype=bool)\n",
    "assert_array_equal(or_table(v1, v1), v11)\n",
    "\n",
    "# check (v1 OR v2)\n",
    "v12 = np.array([[0, 0, 0], [0, 1, 1], [1, 0, 1], [1, 1, 1]], dtype=bool)\n",
    "assert_array_equal(or_table(v1, v2), v12)\n",
    "\n",
    "# check (v2 OR v1)\n",
    "v21 = np.array([[0, 0, 0], [1, 0, 1], [0, 1, 1], [1, 1, 1]], dtype=bool)\n",
    "assert_array_equal(or_table(v2, v1), v21)\n",
    "\n",
    "# check (v2 OR v2)\n",
    "v22 = np.array([[0, 0, 0], [1, 1, 1], [0, 0, 0], [1, 1, 1]], dtype=bool)\n",
    "assert_array_equal(or_table(v2, v2), v22)\n",
    "\n",
    "print(\"Success!\")"
   ]
  },
  {
   "cell_type": "markdown",
   "metadata": {
    "deletable": false
   },
   "source": [
    "----"
   ]
  },
  {
   "cell_type": "markdown",
   "metadata": {
    "deletable": false
   },
   "source": [
    "## Part C: NOT Table (1.25 points)"
   ]
  },
  {
   "cell_type": "code",
   "execution_count": 15,
   "metadata": {
    "deletable": false,
    "nbgrader": {
     "checksum": "edc9e8ec2bacf893de645d736feb384b",
     "grade": false,
     "grade_id": "not_table",
     "locked": false,
     "schema_version": 1,
     "solution": true
    }
   },
   "outputs": [],
   "source": [
    "def not_table(a):\n",
    "    \"\"\"\n",
    "    Takes one boolean vector, `a`, and returns a NOT truth\n",
    "    table consisting two columns: a and (NOT a).\n",
    "\n",
    "    Parameters\n",
    "    ----------\n",
    "    a : boolean array with shape (n,)\n",
    "\n",
    "    Returns\n",
    "    -------\n",
    "    boolean array with shape (n, 2)\n",
    "\n",
    "    \"\"\"\n",
    "    n = a.size \n",
    "    n_array = np.zeros((n, 2))\n",
    "    n_array[:, 0] = a\n",
    "    n_array[:, 1] = np.logical_not(a,a)\n",
    "    return n_array"
   ]
  },
  {
   "cell_type": "markdown",
   "metadata": {
    "deletable": false
   },
   "source": [
    "After you have implemented `not_table` above, you can try running it with inputs `a` and `b`:"
   ]
  },
  {
   "cell_type": "code",
   "execution_count": 16,
   "metadata": {
    "deletable": false
   },
   "outputs": [
    {
     "data": {
      "text/plain": [
       "array([[ 0.,  1.],\n",
       "       [ 0.,  1.],\n",
       "       [ 1.,  0.],\n",
       "       [ 1.,  0.]])"
      ]
     },
     "execution_count": 16,
     "metadata": {},
     "output_type": "execute_result"
    }
   ],
   "source": [
    "not_table(a)"
   ]
  },
  {
   "cell_type": "code",
   "execution_count": 17,
   "metadata": {
    "deletable": false
   },
   "outputs": [],
   "source": [
    "# add your own test cases in this cell!\n"
   ]
  },
  {
   "cell_type": "code",
   "execution_count": 18,
   "metadata": {
    "deletable": false,
    "nbgrader": {
     "checksum": "42d95f165d4ff28911de03ad544eeb18",
     "grade": true,
     "grade_id": "not_correct_shape",
     "locked": false,
     "points": 0.25,
     "schema_version": 1,
     "solution": false
    }
   },
   "outputs": [
    {
     "name": "stdout",
     "output_type": "stream",
     "text": [
      "Success!\n"
     ]
    }
   ],
   "source": [
    "\"\"\"Check whether or_table returns an array with the correct shape for random inputs.\"\"\"\n",
    "for i in range(10):\n",
    "    # randomize the vector length\n",
    "    n = np.random.randint(1, 11)\n",
    "    # randomly generate a binary vector\n",
    "    v = np.random.randint(0, 2, n).astype(bool)\n",
    "    # check the shape of the OR table\n",
    "    assert_equal(not_table(v).shape, (n, 2))\n",
    "\n",
    "print(\"Success!\")"
   ]
  },
  {
   "cell_type": "code",
   "execution_count": 19,
   "metadata": {
    "deletable": false,
    "nbgrader": {
     "checksum": "7964d94b36adf2c6578488676ffae64a",
     "grade": true,
     "grade_id": "not_correct_answer",
     "locked": false,
     "points": 1,
     "schema_version": 1,
     "solution": false
    }
   },
   "outputs": [
    {
     "name": "stdout",
     "output_type": "stream",
     "text": [
      "Success!\n"
     ]
    }
   ],
   "source": [
    "\"\"\"Check whether or_table returns the correct answer for two particular vectors.\"\"\"\n",
    "# create the two vectors\n",
    "v1 = np.array([0, 0, 1, 1], dtype=bool)\n",
    "v2 = np.array([0, 1, 0, 1], dtype=bool)\n",
    "\n",
    "# check (NOT v1)\n",
    "vn1 = np.array([[0, 1], [0, 1], [1, 0], [1, 0]], dtype=bool)\n",
    "assert_array_equal(not_table(v1), vn1)\n",
    "\n",
    "# check (NOT v2)\n",
    "vn2 = np.array([[0, 1], [1, 0], [0, 1], [1, 0]], dtype=bool)\n",
    "assert_array_equal(not_table(v2), vn2)\n",
    "\n",
    "print(\"Success!\")"
   ]
  },
  {
   "cell_type": "code",
   "execution_count": null,
   "metadata": {
    "deletable": false
   },
   "outputs": [],
   "source": []
  },
  {
   "cell_type": "markdown",
   "metadata": {
    "deletable": false,
    "nbgrader": {}
   },
   "source": [
    "---"
   ]
  },
  {
   "cell_type": "markdown",
   "metadata": {
    "deletable": false,
    "nbgrader": {}
   },
   "source": [
    "Before turning this problem in remember to do the following steps:\n",
    "\n",
    "1. **Restart the kernel** (Kernel$\\rightarrow$Restart)\n",
    "2. **Run all cells** (Cell$\\rightarrow$Run All)\n",
    "3. **Save** (File$\\rightarrow$Save and Checkpoint)"
   ]
  },
  {
   "cell_type": "markdown",
   "metadata": {
    "deletable": false,
    "nbgrader": {
     "cell_type": "release"
    }
   },
   "source": [
    "<div class=\"alert alert-danger\">After you have completed these three steps, ensure that the following cell has printed \"No errors\". If it has <b>not</b> printed \"No errors\", then your code has a bug in it and has thrown an error! Make sure you fix this error before turning in your problem set.</div>"
   ]
  },
  {
   "cell_type": "code",
   "execution_count": 20,
   "metadata": {
    "deletable": false,
    "nbgrader": {}
   },
   "outputs": [
    {
     "name": "stdout",
     "output_type": "stream",
     "text": [
      "No errors!\n"
     ]
    }
   ],
   "source": [
    "print(\"No errors!\")"
   ]
  },
  {
   "cell_type": "code",
   "execution_count": null,
   "metadata": {},
   "outputs": [],
   "source": []
  }
 ],
 "metadata": {
  "kernelspec": {
   "display_name": "Python 3",
   "language": "python",
   "name": "python3"
  },
  "language_info": {
   "codemirror_mode": {
    "name": "ipython",
    "version": 3
   },
   "file_extension": ".py",
   "mimetype": "text/x-python",
   "name": "python",
   "nbconvert_exporter": "python",
   "pygments_lexer": "ipython3",
   "version": "3.6.1"
  }
 },
 "nbformat": 4,
 "nbformat_minor": 1
}
