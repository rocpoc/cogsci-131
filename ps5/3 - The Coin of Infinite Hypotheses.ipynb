{
 "cells": [
  {
   "cell_type": "markdown",
   "metadata": {
    "deletable": false,
    "nbgrader": {
     "cell_type": "release"
    }
   },
   "source": [
    "Make sure you fill in any place that says `YOUR CODE HERE` or \"YOUR ANSWER HERE\", as well as your collaborators below:"
   ]
  },
  {
   "cell_type": "code",
   "execution_count": 11,
   "metadata": {
    "deletable": false,
    "nbgrader": {
     "cell_type": "release"
    }
   },
   "outputs": [],
   "source": [
    "COLLABORATORS = \"\""
   ]
  },
  {
   "cell_type": "markdown",
   "metadata": {
    "deletable": false,
    "nbgrader": {}
   },
   "source": [
    "---"
   ]
  },
  {
   "cell_type": "code",
   "execution_count": 12,
   "metadata": {
    "deletable": false,
    "nbgrader": {}
   },
   "outputs": [],
   "source": [
    "import numpy as np"
   ]
  },
  {
   "cell_type": "markdown",
   "metadata": {
    "deletable": false
   },
   "source": [
    "<div class=\"alert alert-info\">**Hint**: Much of the material covered in this problem is introduced in the AIMA3 pp. 802-813 or AIMA2 pp. 712-722 readings. If you are having trouble with the questions in this notebook, this might be a good place to look.</div>"
   ]
  },
  {
   "cell_type": "markdown",
   "metadata": {
    "deletable": false,
    "nbgrader": {}
   },
   "source": [
    " One day, you find yourself standing in a musty room in the back of an old magic shop. Heavy velvet curtains cover the dirty windows, reluctantly letting in a few narrow beams of light, which succeed only in illuminating layers of dust suspended in the stale air. You glance around cautiously, trying not to invite scrutiny from the watchful shopkeep. Your eyes dance over row upon row of leather-bound books, resting on the rich mahogany shelves lining each wall. Who knows how long they've been here, or what ancient secrets they conceal. They almost call out to you to be opened, to divulge their long-forgotten knowledge. But no... you've come here for another reason.\n",
    "\n",
    "  Before you can even turn around, the shopkeep anticipates your question. \"You've come for a coin, haven't you?\" His voice sounds strangely distant, and reminds you of some kind of large, creepy bird or something. You nod, swallowing. He totters past you, one of his legs struggling to keep up with the other. Reaching a black armoire in the corner of the room — how did you not notice it before? — he stops. The shopkeep slowly opens one of the drawers, revealing a beautiful, glimmering coin. It looks perfectly untarnished, yet, somehow, emanates the energy of centuries past. \n",
    "\n",
    "  Your father's deep, soulful voice echoes in your head. \"Fetch me a coin of Azeroth, child, but only if its probability of landing heads is between 0.55 and 0.75.\" \n",
    "  \n",
    "  <hr/>\n",
    "  \n",
    "  Is the coin in the armoire such a coin? How can we determine if this coin matches father's request?\n",
    "\n",
    "  We can formalize your predicament by letting the variable $\\theta$ denote a coin of Azeroth's probability of landing heads on each toss, which is what you need to infer. We assume that each toss is independent of the others. In this learning problem, your hypothesis space is the set of all possible values of $\\theta$, which is all the real numbers from 0 to 1. We need to compare an infinite number of hypotheses! How can we do this?\n",
    "\n",
    "In parts A through C, you will write functions that estimate the weight of the coin. Each function takes a single argument, a sequence of tosses, a $1 \\times n$ binary row vector representing an observed sequence of coin tosses where `1`'s represent heads and `0`'s represent tails."
   ]
  },
  {
   "cell_type": "markdown",
   "metadata": {
    "deletable": false,
    "nbgrader": {}
   },
   "source": [
    "## Part A (1 point)"
   ]
  },
  {
   "cell_type": "markdown",
   "metadata": {
    "deletable": false,
    "nbgrader": {}
   },
   "source": [
    "<div class=\"alert alert-success\">Using the standard frequentist method of *maximum likelihood estimation*, define a function that, given a sequence of tosses, returns an estimate for the value of $\\theta$, the probability that the coin lands heads up. Remember that *MLE* relies only on data that we've actually observed, so the prior should NOT factor into your answer. The equation for MLE can be found in the lecture notes.</div>"
   ]
  },
  {
   "cell_type": "code",
   "execution_count": 13,
   "metadata": {
    "deletable": false,
    "nbgrader": {
     "checksum": "70b9c9fcb06b442ff0c85b5ae4fc4b94",
     "grade_id": "mle_azeroth",
     "solution": true
    }
   },
   "outputs": [],
   "source": [
    "def mle_azeroth(sequence):\n",
    "    \"\"\"Uses MLE to estimate the value of theta.\n",
    "    \n",
    "    Hint: Your solution can be done in 1 line of code.\n",
    "    \n",
    "    Parameters\n",
    "    ----------\n",
    "    sequence : an (m,) Numpy array of 1s and 0s.\n",
    "        The observed sequence of coin flips.\n",
    "        \n",
    "    Returns\n",
    "    -------\n",
    "    The value of theta, a float.\n",
    "    \n",
    "    \"\"\"\n",
    "    # YOUR CODE HERE\n",
    "    return (np.sum([s for s in sequence if s ==1]) / len(sequence))"
   ]
  },
  {
   "cell_type": "code",
   "execution_count": 14,
   "metadata": {
    "deletable": false,
    "nbgrader": {
     "checksum": "e0849cf37fcbc59234334c673f8821e1",
     "grade": true,
     "grade_id": "test_mle_azeroth",
     "points": 1
    }
   },
   "outputs": [
    {
     "name": "stdout",
     "output_type": "stream",
     "text": [
      "Success!\n"
     ]
    }
   ],
   "source": [
    "\"\"\"Check that the function is correct.\"\"\"\n",
    "from nose.tools import assert_equal\n",
    "\n",
    "assert(mle_azeroth)\n",
    "\n",
    "sequence = np.array([1, 1, 0, 1, 0, 1, 1, 1, 1, 1])\n",
    "assert(mle_azeroth(sequence) == 0.8)\n",
    "\n",
    "sequence = np.array([1, 1, 1, 1, 1])\n",
    "assert(mle_azeroth(sequence) == 1.0)\n",
    "\n",
    "sequence = np.array([0, 0, 0, 0, 0])\n",
    "assert(mle_azeroth(sequence) == 0.0)\n",
    "\n",
    "sequence = np.array([1, 0])\n",
    "assert(mle_azeroth(sequence) == 0.5)\n",
    "\n",
    "sequence = np.array([1, 0, 1, 0])\n",
    "assert(mle_azeroth(sequence) == 0.5)\n",
    "\n",
    "sequence = np.array([1, 0, 1, 0, 1, 0])\n",
    "assert(mle_azeroth(sequence) == 0.5)\n",
    "\n",
    "print(\"Success!\")"
   ]
  },
  {
   "cell_type": "markdown",
   "metadata": {
    "deletable": false,
    "nbgrader": {}
   },
   "source": [
    "## Part B (1 point)"
   ]
  },
  {
   "cell_type": "markdown",
   "metadata": {
    "deletable": false,
    "nbgrader": {}
   },
   "source": [
    "<div class=\"alert alert-success\">Assuming a Bernoulli likelihood and Beta prior, define a function that computes the *maximum a posteriori* (MAP) estimate for $\\theta$. Your prior should be defined by two variables, `prior_heads` and `prior_tails`, which act as pseudocounts of the number of previously seen heads and tails.) The equation for computing the MAP estimate can be found in the lecture notes.</div>"
   ]
  },
  {
   "cell_type": "code",
   "execution_count": 15,
   "metadata": {
    "deletable": false,
    "nbgrader": {
     "checksum": "53823ec385ea0ae2558e7694179a7d56",
     "grade_id": "map_azeroth",
     "solution": true
    }
   },
   "outputs": [],
   "source": [
    "def map_azeroth(sequence, prior_heads=0, prior_tails=0):\n",
    "    \"\"\"Computes the MAP estimate of theta.\n",
    "    \n",
    "    Hint: Your solution can be done in a line or two of code.\n",
    "    \n",
    "    Parameters\n",
    "    ----------\n",
    "    sequence : an (m,) Numpy array of 1s and 0s.\n",
    "        The observed sequence of coin flips.\n",
    "    prior_heads : an integer psedocount representing the\n",
    "        prior beliefs that the coin is biased towards heads.\n",
    "    prior_tails : an integer psedocount representing the\n",
    "        prior beliefs that the coin is biased towards tails.\n",
    "        \n",
    "    Returns\n",
    "    -------\n",
    "    The value of theta, a float.\n",
    "    \n",
    "    \"\"\"\n",
    "    # YOUR CODE HERE\n",
    "    return ((np.sum([s for s in sequence if s ==1])) + prior_heads) / (len(sequence) + prior_tails + prior_heads)"
   ]
  },
  {
   "cell_type": "code",
   "execution_count": 16,
   "metadata": {
    "deletable": false,
    "nbgrader": {
     "checksum": "f9d7b53f45a5140ce46db24b37bcbe6a",
     "grade": true,
     "grade_id": "test_map_azeroth",
     "points": 1
    }
   },
   "outputs": [
    {
     "name": "stdout",
     "output_type": "stream",
     "text": [
      "Success!\n"
     ]
    }
   ],
   "source": [
    "\"\"\"Check that the function exists.\"\"\"\n",
    "assert(map_azeroth)\n",
    "\n",
    "\"\"\"Check that, with no prior specified, the MAP and MLE estimates are the same.\"\"\"\n",
    "for i in range(10):\n",
    "    sequence = np.random.randint(0, 1, size=(10,))\n",
    "    assert(mle_azeroth(sequence) == map_azeroth(sequence))\n",
    "\n",
    "\"\"\"Check that changing the prior changes the estimate.\"\"\"\n",
    "sequence = np.array([1, 1, 0, 1, 0, 1, 1, 1, 1, 1])\n",
    "assert(map_azeroth(sequence) == 0.8)\n",
    "assert(map_azeroth(sequence, 1, 1) == 0.75)\n",
    "assert(map_azeroth(sequence, 5, 5) == 0.65)\n",
    "assert(map_azeroth(sequence, 1, 9) == 0.45)\n",
    "assert(map_azeroth(sequence, 15, 205) == 0.1)\n",
    "assert(map_azeroth(np.array([]), 1, 1) == 0.5)\n",
    "assert(map_azeroth(np.array([1, 0]), 1, 1) == 0.5)\n",
    "assert(map_azeroth(np.array([1, 1, 1, 1, 1, 0]), 1, 1) == 0.75)\n",
    "assert(map_azeroth(np.array([0, 0, 0, 0, 0, 1]), 1, 1) == 0.25)\n",
    "\n",
    "print(\"Success!\")"
   ]
  },
  {
   "cell_type": "markdown",
   "metadata": {
    "deletable": false,
    "nbgrader": {}
   },
   "source": [
    "## Part C (1 point)"
   ]
  },
  {
   "cell_type": "markdown",
   "metadata": {
    "deletable": false,
    "nbgrader": {}
   },
   "source": [
    "<div class=\"alert alert-success\">Assuming a Bernoulli likelihood and Beta prior, define a function that computes the *posterior mean* estimate for $\\theta$. Your prior should be defined by two variables, `prior_heads` and `prior_tails`, which act as pseudocounts of the number of previously seen heads and tails.)</div>"
   ]
  },
  {
   "cell_type": "code",
   "execution_count": 17,
   "metadata": {
    "deletable": false,
    "nbgrader": {
     "checksum": "acba195f418c5b3145aa87cd2d7da1f2",
     "grade_id": "pm_azeroth",
     "solution": true
    }
   },
   "outputs": [],
   "source": [
    "def pm_azeroth(sequence, prior_heads=0, prior_tails=0):\n",
    "    \"\"\"Computes the posterior mean estimate of theta.\n",
    "    \n",
    "    Hint: Your solution can be done in a line or two of code.\n",
    "    \n",
    "    Parameters\n",
    "    ----------\n",
    "    sequence : an (m,) Numpy array of 1s and 0s.\n",
    "        The observed sequence of coin flips.\n",
    "    prior_heads : an integer psedocount representing the\n",
    "        prior beliefs that the coin is biased towards heads.\n",
    "    prior_tails : an integer psedocount representing the\n",
    "        prior beliefs that the coin is biased towards tails.\n",
    "        \n",
    "    Returns\n",
    "    -------\n",
    "    The value of theta, a float.\n",
    "    \n",
    "    \"\"\"\n",
    "    # YOUR CODE HERE\n",
    "    return ((np.sum([s for s in sequence if s ==1])) + prior_heads + 1) / (len(sequence) + prior_tails + prior_heads + 2)"
   ]
  },
  {
   "cell_type": "code",
   "execution_count": 18,
   "metadata": {
    "deletable": false,
    "nbgrader": {
     "checksum": "033e58c1cc28ed15041ab418c549bbad",
     "grade": true,
     "grade_id": "test_pm_azeroth",
     "points": 1
    }
   },
   "outputs": [
    {
     "name": "stdout",
     "output_type": "stream",
     "text": [
      "Success!\n"
     ]
    }
   ],
   "source": [
    "\"\"\"Check that the function exists.\"\"\"\n",
    "assert(pm_azeroth)\n",
    "\n",
    "\n",
    "\"\"\"Check that changing the prior changes the estimate.\"\"\"\n",
    "sequence = np.array([1, 1, 0, 1, 0, 1, 1, 1, 1, 1])\n",
    "assert(pm_azeroth(sequence) == 0.75)\n",
    "assert(pm_azeroth(sequence, 1, 7) == 0.5)\n",
    "assert(pm_azeroth(sequence, 7, 1) == 0.8)\n",
    "assert(pm_azeroth(sequence, 27, 1) == 0.9)\n",
    "assert(pm_azeroth(sequence, 124, 130) == 0.5)\n",
    "assert(pm_azeroth(np.array([]), 1, 1) == 0.5)\n",
    "assert(pm_azeroth(np.array([1, 0]), 1, 1) == 0.5)\n",
    "assert(pm_azeroth(np.array([1, 1, 1, 1, 1, 0]), 1, 1) == 0.70)\n",
    "assert(pm_azeroth(np.array([0, 0, 0, 0, 0, 1]), 1, 1) == 0.30)\n",
    "\n",
    "print(\"Success!\")"
   ]
  },
  {
   "cell_type": "markdown",
   "metadata": {
    "deletable": false,
    "nbgrader": {}
   },
   "source": [
    "## Part D (1 point)"
   ]
  },
  {
   "cell_type": "markdown",
   "metadata": {
    "deletable": false,
    "nbgrader": {}
   },
   "source": [
    "Assume you tossed a coin of Azeroth 10 times and observed the specific sequence `HHTHTHHHHH`. Further assume that we've observed some fictitious trials and have a prior belief that coins of Azeroth are slightly biased towards landing heads. Thus, let $V_H$ = 55 and $V_T$ = 45, denoting that in the past we've observed the coin of Azeroth flipped 100 times and saw 55 heads and 45 tails. Let's see the results of our estimators:"
   ]
  },
  {
   "cell_type": "code",
   "execution_count": 19,
   "metadata": {
    "deletable": false,
    "nbgrader": {
     "checksum": "790c6b91ebb07774176de94dd5820905",
     "grade": false,
     "grade_id": "azeroth_results",
     "locked": true,
     "solution": false
    }
   },
   "outputs": [
    {
     "name": "stdout",
     "output_type": "stream",
     "text": [
      "MLE: 0.8\n",
      "MAP: 0.5727272727272728\n",
      "Posterior mean: 0.5714285714285714\n"
     ]
    }
   ],
   "source": [
    "sequence = np.array([1, 1, 0, 1, 0, 1, 1, 1, 1, 1])\n",
    "print(\"MLE: {}\".format(mle_azeroth(sequence)))\n",
    "print(\"MAP: {}\".format(map_azeroth(sequence, prior_heads=55, prior_tails=45)))\n",
    "print(\"Posterior mean: {}\".format(pm_azeroth(sequence, prior_heads=55, prior_tails=45)))"
   ]
  },
  {
   "cell_type": "markdown",
   "metadata": {
    "deletable": false,
    "nbgrader": {}
   },
   "source": [
    "<div class=\"alert alert-success\">Given the father's request for a coin with probability of landing heads between $0.55$ and $0.75$ - do you think you should you take this coin? Why or why not?</div>"
   ]
  },
  {
   "cell_type": "markdown",
   "metadata": {
    "deletable": false,
    "nbgrader": {
     "checksum": "adf689b7223e616c40710fccf4b26b59",
     "grade": true,
     "grade_id": "interpret_results",
     "points": "1",
     "solution": true
    }
   },
   "source": [
    "Yes, I believe I should take this coin because the MLE value results in 0.8, and the MAP value results in 0.5727. Since it is known that the Azeroth coin was flipped 100 times, and saw 55 heads and 45 tails previously, the MAP value takes this into account and therefore the result of 0.5727 seems like a pretty accurate probability of landing heads between 0.55 and 0.75. In addition, the fact that the MLE value is 0.8 is a high upper bound gives a strong certainty that the coin is more biased towards heads. Finally, since the posterior mean is right above 0.55 (0.571), we can be farily certain that it has a probability of landing heads between 0.55 and 0.75 -- so we should take this coin!"
   ]
  },
  {
   "cell_type": "markdown",
   "metadata": {
    "deletable": false,
    "nbgrader": {}
   },
   "source": [
    "---"
   ]
  },
  {
   "cell_type": "markdown",
   "metadata": {
    "deletable": false,
    "nbgrader": {}
   },
   "source": [
    "Before turning this problem in remember to do the following steps:\n",
    "\n",
    "1. **Restart the kernel** (Kernel$\\rightarrow$Restart)\n",
    "2. **Run all cells** (Cell$\\rightarrow$Run All)\n",
    "3. **Save** (File$\\rightarrow$Save and Checkpoint)"
   ]
  },
  {
   "cell_type": "markdown",
   "metadata": {
    "deletable": false,
    "nbgrader": {
     "cell_type": "release"
    }
   },
   "source": [
    "<div class=\"alert alert-danger\">After you have completed these three steps, ensure that the following cell has printed \"No errors\". If it has <b>not</b> printed \"No errors\", then your code has a bug in it and has thrown an error! Make sure you fix this error before turning in your problem set.</div>"
   ]
  },
  {
   "cell_type": "code",
   "execution_count": 20,
   "metadata": {
    "deletable": false,
    "nbgrader": {}
   },
   "outputs": [
    {
     "name": "stdout",
     "output_type": "stream",
     "text": [
      "No errors!\n"
     ]
    }
   ],
   "source": [
    "print(\"No errors!\")"
   ]
  }
 ],
 "metadata": {
  "anaconda-cloud": {},
  "kernelspec": {
   "display_name": "Python 3",
   "language": "python",
   "name": "python3"
  },
  "language_info": {
   "codemirror_mode": {
    "name": "ipython",
    "version": 3
   },
   "file_extension": ".py",
   "mimetype": "text/x-python",
   "name": "python",
   "nbconvert_exporter": "python",
   "pygments_lexer": "ipython3",
   "version": "3.6.1"
  }
 },
 "nbformat": 4,
 "nbformat_minor": 1
}
